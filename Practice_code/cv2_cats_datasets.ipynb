{
  "cells": [
    {
      "cell_type": "markdown",
      "id": "2ba895bd-6ee0-4fd3-9c16-6aa72e1324ea",
      "metadata": {
        "id": "2ba895bd-6ee0-4fd3-9c16-6aa72e1324ea"
      },
      "source": [
        "# 주제 : 고양이 얼굴 찾는 모델 - 데이터 준비\n",
        "---\n",
        "이미지를 직접 라벨링해서 사용하는 방법을 이해한다.\n",
        "\n",
        "## 준비 사항\n",
        "  1. 고양이 데이터 셋 : [Cats Datasets](https://www.kaggle.com/crawford/cat-dataset/code)\n",
        "  2. 이미지 라벨링 프로그램 [labelImg download](https://github.com/tzutalin/labelImg/releases)\n",
        "  3. 파일변환 파일 [pascal_to_csv.py](https://gist.github.com/rotemtam/88d9a4efae243fc77ed4a0f9917c8f6c)  \n"
      ]
    },
    {
      "cell_type": "code",
      "execution_count": null,
      "id": "3030aad3-dd6a-47f4-86b0-76aea19fbed2",
      "metadata": {
        "id": "3030aad3-dd6a-47f4-86b0-76aea19fbed2"
      },
      "outputs": [],
      "source": [
        "import numpy as np\n",
        "import matplotlib.pyplot as plt\n",
        "import cv2\n"
      ]
    },
    {
      "cell_type": "markdown",
      "id": "e95d04a8-8a1d-42b2-9baa-ccebd1d1489e",
      "metadata": {
        "id": "e95d04a8-8a1d-42b2-9baa-ccebd1d1489e"
      },
      "source": [
        "### 문제 1. 데이터 준비"
      ]
    },
    {
      "cell_type": "markdown",
      "id": "68278f88-ed3e-492b-848a-02663215aa11",
      "metadata": {
        "id": "68278f88-ed3e-492b-848a-02663215aa11"
      },
      "source": [
        "* 데이터셋을 다운 받아서 라벨링을 진행합니다."
      ]
    },
    {
      "cell_type": "code",
      "source": [
        "# 라벨링된 데이터를 업로드한후에 실행"
      ],
      "metadata": {
        "id": "c3J5dN1ZhQMi"
      },
      "id": "c3J5dN1ZhQMi",
      "execution_count": null,
      "outputs": []
    },
    {
      "cell_type": "code",
      "source": [
        "# 압축 풀기\n",
        "!unzip -qq '/content/cats_bb_sample.zip' -d './datasets'"
      ],
      "metadata": {
        "id": "buZdtHIQhUoi"
      },
      "id": "buZdtHIQhUoi",
      "execution_count": null,
      "outputs": []
    },
    {
      "cell_type": "code",
      "source": [
        ""
      ],
      "metadata": {
        "id": "ePsGoFCjhUhq"
      },
      "id": "ePsGoFCjhUhq",
      "execution_count": null,
      "outputs": []
    },
    {
      "cell_type": "markdown",
      "id": "a9e629e8-2329-4071-9ec0-aa58b349c527",
      "metadata": {
        "id": "a9e629e8-2329-4071-9ec0-aa58b349c527"
      },
      "source": [
        "### 문제 2. 데이터 파일 변환"
      ]
    },
    {
      "cell_type": "code",
      "execution_count": null,
      "id": "54550f81-9516-463e-9db3-ef151e481d49",
      "metadata": {
        "id": "54550f81-9516-463e-9db3-ef151e481d49"
      },
      "outputs": [],
      "source": [
        "import os\n",
        "import glob\n",
        "import pandas as pd\n",
        "import xml.etree.ElementTree as ET"
      ]
    },
    {
      "cell_type": "code",
      "execution_count": null,
      "id": "ed4a14eb-e978-4187-b498-9efcf2303961",
      "metadata": {
        "id": "ed4a14eb-e978-4187-b498-9efcf2303961"
      },
      "outputs": [],
      "source": [
        "# 이미지가 저장된 폴더\n",
        "\n",
        "IMAGE_PATH = '/content/datasets/cats_bb_sample'"
      ]
    },
    {
      "cell_type": "code",
      "execution_count": null,
      "id": "9e18bdbe-03a1-432e-87e5-89c805ff42f8",
      "metadata": {
        "id": "9e18bdbe-03a1-432e-87e5-89c805ff42f8"
      },
      "outputs": [],
      "source": [
        "# 함수 가져오기 \n",
        "\n",
        "def xml_to_csv(path):\n",
        "    print(path)\n",
        "    xml_list = []\n",
        "    for xml_file in glob.glob(path + '/*.xml'):\n",
        "        \n",
        "        tree = ET.parse(xml_file)\n",
        "        root = tree.getroot()\n",
        "        for member in root.findall('object'):\n",
        "            bbx = member.find('bndbox')\n",
        "            xmin = int(bbx.find('xmin').text)\n",
        "            ymin = int(bbx.find('ymin').text)\n",
        "            xmax = int(bbx.find('xmax').text)\n",
        "            ymax = int(bbx.find('ymax').text)\n",
        "            label = member.find('name').text\n",
        "\n",
        "            value = (root.find('filename').text,\n",
        "                     int(root.find('size')[0].text),\n",
        "                     int(root.find('size')[1].text),\n",
        "                     label,\n",
        "                     xmin,\n",
        "                     ymin,\n",
        "                     xmax,\n",
        "                     ymax\n",
        "                     )\n",
        "            xml_list.append(value)\n",
        "    column_name = ['filename', 'width', 'height',\n",
        "                   'class', 'xmin', 'ymin', 'xmax', 'ymax']\n",
        "    xml_df = pd.DataFrame(xml_list, columns=column_name)\n",
        "    return xml_df"
      ]
    },
    {
      "cell_type": "code",
      "execution_count": null,
      "id": "57609281-e035-41ef-aa99-22c194f564df",
      "metadata": {
        "id": "57609281-e035-41ef-aa99-22c194f564df"
      },
      "outputs": [],
      "source": [
        "# 함수 실행 \n",
        "\n",
        "xml_df = xml_to_csv(IMAGE_PATH)\n",
        "\n",
        "csv_path = os.path.join(IMAGE_PATH, 'labels_cats.csv')\n",
        "xml_df.to_csv(csv_path, index=None)\n",
        "\n",
        "print('Successfully converted xml to csv. path:', csv_path)"
      ]
    },
    {
      "cell_type": "markdown",
      "id": "d252c88f-51d4-4917-b4ee-9737b46e45ef",
      "metadata": {
        "id": "d252c88f-51d4-4917-b4ee-9737b46e45ef"
      },
      "source": [
        "### 문제 3. 변환 데이터 확인"
      ]
    },
    {
      "cell_type": "code",
      "execution_count": null,
      "id": "4936d239-3947-4d14-86a8-aded7bfa6041",
      "metadata": {
        "id": "4936d239-3947-4d14-86a8-aded7bfa6041"
      },
      "outputs": [],
      "source": [
        "pd_frame = pd.read_csv(csv_path, sep=',')\n",
        "pd_frame.head()"
      ]
    },
    {
      "cell_type": "markdown",
      "id": "c046c893-f9fe-4baa-949f-4c9465bedbec",
      "metadata": {
        "id": "c046c893-f9fe-4baa-949f-4c9465bedbec"
      },
      "source": [
        "###  문제 4. 데이터 시각화 "
      ]
    },
    {
      "cell_type": "code",
      "execution_count": null,
      "id": "1c810922-77e2-446e-9987-2b6c403dfc06",
      "metadata": {
        "id": "1c810922-77e2-446e-9987-2b6c403dfc06"
      },
      "outputs": [],
      "source": [
        "# dataset = pd_frame.to_numpy()\n",
        "# dataset.shape"
      ]
    },
    {
      "cell_type": "code",
      "execution_count": null,
      "id": "11b387ad-8423-4eca-9ab3-6f2b6d7f4681",
      "metadata": {
        "id": "11b387ad-8423-4eca-9ab3-6f2b6d7f4681"
      },
      "outputs": [],
      "source": [
        "images = pd_frame.iloc[:, 0]\n",
        "images"
      ]
    },
    {
      "cell_type": "code",
      "execution_count": null,
      "id": "ebd10074-57f8-487f-9cfb-32f6403506ba",
      "metadata": {
        "id": "ebd10074-57f8-487f-9cfb-32f6403506ba"
      },
      "outputs": [],
      "source": [
        "# X, Y 좌표들만 끊어서 사용\n",
        "\n",
        "points = pd_frame.iloc[:, 4:]\n",
        "points.shape"
      ]
    },
    {
      "cell_type": "code",
      "source": [
        "points = points.values\n",
        "points"
      ],
      "metadata": {
        "id": "EgQg4nCxiveT"
      },
      "id": "EgQg4nCxiveT",
      "execution_count": null,
      "outputs": []
    },
    {
      "cell_type": "code",
      "execution_count": null,
      "id": "fbd0d5d1-2b5e-4a8c-914f-9607bae222b7",
      "metadata": {
        "id": "fbd0d5d1-2b5e-4a8c-914f-9607bae222b7"
      },
      "outputs": [],
      "source": [
        "# (x, y) 형태로 변환\n",
        "\n",
        "points = points.reshape(-1, 2, 2)\n",
        "points\n"
      ]
    },
    {
      "cell_type": "code",
      "execution_count": null,
      "id": "e8632896-1e82-44e1-a4bd-ec1f8df1a7b2",
      "metadata": {
        "id": "e8632896-1e82-44e1-a4bd-ec1f8df1a7b2"
      },
      "outputs": [],
      "source": [
        "import cv2\n",
        "import matplotlib.pyplot as plt\n",
        "\n",
        "\n",
        "# CV로 이미지를 읽으면, BGR 채녈 \n",
        "img = cv2.imread(os.path.join(IMAGE_PATH, images[0]))\n",
        "img = cv2.rectangle(img, tuple(points[0][0]), tuple(points[0][1]), color=(255, 0, 0), thickness=2)\n",
        "\n",
        "plt.figure(figsize=(16, 6))\n",
        "plt.subplot(1, 2, 1)\n",
        "plt.imshow(img)\n",
        "plt.subplot(1, 2, 2)\n",
        "plt.imshow(img[:, :, ::-1])    # bgr -> rgb\n",
        "plt.show()"
      ]
    },
    {
      "cell_type": "code",
      "execution_count": null,
      "id": "4d43c646-523d-443d-a289-97b93132ca7b",
      "metadata": {
        "id": "4d43c646-523d-443d-a289-97b93132ca7b"
      },
      "outputs": [],
      "source": [
        "# 이미지 여러개 표시 \n",
        "\n",
        "plt.figure(figsize=(16, 12))\n",
        "for i in range(4):\n",
        "    img = cv2.imread(os.path.join(IMAGE_PATH, images[i]))\n",
        "    img = cv2.rectangle(img, tuple(points[i][0]), tuple(points[i][1]), color=(255, 0, 0), thickness=2)\n",
        "    plt.subplot(2, 2, i+1)\n",
        "    plt.imshow(img)\n",
        "    \n",
        "plt.show()"
      ]
    },
    {
      "cell_type": "markdown",
      "id": "6c124f77-ca82-4d2b-a3b8-7376ccde001e",
      "metadata": {
        "id": "6c124f77-ca82-4d2b-a3b8-7376ccde001e"
      },
      "source": [
        "### 문제 5. 이미지 사이즈 변경 "
      ]
    },
    {
      "cell_type": "code",
      "execution_count": null,
      "id": "53fe1df2-be5a-444a-bc48-4b614626bff2",
      "metadata": {
        "id": "53fe1df2-be5a-444a-bc48-4b614626bff2"
      },
      "outputs": [],
      "source": [
        "IMG_SIZE = 224"
      ]
    },
    {
      "cell_type": "code",
      "execution_count": null,
      "id": "3f3d1593-2f70-4ad1-8e75-0987468be817",
      "metadata": {
        "id": "3f3d1593-2f70-4ad1-8e75-0987468be817"
      },
      "outputs": [],
      "source": [
        "img = cv2.imread(os.path.join(IMAGE_PATH, images[0]))\n",
        "\n",
        "plt.figure()\n",
        "plt.imshow(img)\n",
        "plt.show()"
      ]
    },
    {
      "cell_type": "code",
      "execution_count": null,
      "id": "d4c885c3-f665-4851-a54c-563f71cab434",
      "metadata": {
        "id": "d4c885c3-f665-4851-a54c-563f71cab434"
      },
      "outputs": [],
      "source": [
        "# 변경 스케일 지정\n",
        "\n",
        "old_size = img.shape[:2] #  원본 사이즈 (H, W)\n",
        "print(old_size)\n",
        "\n",
        "ratio = float(IMG_SIZE) / max(old_size) # 변경 스케일 계산 \n",
        "print(ratio)"
      ]
    },
    {
      "cell_type": "code",
      "execution_count": null,
      "id": "e150616b-1e35-4265-815b-0966ee552294",
      "metadata": {
        "id": "e150616b-1e35-4265-815b-0966ee552294"
      },
      "outputs": [],
      "source": [
        "# 비율에 맞추어서 사이즈 계산\n",
        "\n",
        "new_size = tuple([int(x*ratio) for x in old_size])\n",
        "\n",
        "new_size"
      ]
    },
    {
      "cell_type": "code",
      "execution_count": null,
      "id": "5c3d019f-b8f2-488a-8235-7bca5f4f57d0",
      "metadata": {
        "id": "5c3d019f-b8f2-488a-8235-7bca5f4f57d0"
      },
      "outputs": [],
      "source": [
        "# 사이즈 변경\n",
        "\n",
        "img = cv2.resize(img, (new_size[1], new_size[0]))  # (W, H)로 지정\n",
        "print(img.shape)"
      ]
    },
    {
      "cell_type": "code",
      "execution_count": null,
      "id": "cee0ef6a-3eb6-45dc-b815-aab65b32ff00",
      "metadata": {
        "id": "cee0ef6a-3eb6-45dc-b815-aab65b32ff00"
      },
      "outputs": [],
      "source": [
        "plt.figure()\n",
        "plt.imshow(img)\n",
        "plt.show()"
      ]
    },
    {
      "cell_type": "code",
      "execution_count": null,
      "id": "21b552a1-e47c-458e-8888-8e5101e550aa",
      "metadata": {
        "id": "21b552a1-e47c-458e-8888-8e5101e550aa"
      },
      "outputs": [],
      "source": [
        "# 원본과 변환 후의 크기 차이 계산 \n",
        "\n",
        "delta_h = IMG_SIZE - new_size[0]\n",
        "delta_w = IMG_SIZE - new_size[1]\n",
        "\n",
        "\n",
        "delta_h, delta_w"
      ]
    },
    {
      "cell_type": "code",
      "execution_count": null,
      "id": "1e3820bc-507d-4cb2-afe8-5252de28086d",
      "metadata": {
        "id": "1e3820bc-507d-4cb2-afe8-5252de28086d"
      },
      "outputs": [],
      "source": [
        "top, bottom = delta_h // 2, delta_h - (delta_h // 2)\n",
        "\n",
        "top, bottom"
      ]
    },
    {
      "cell_type": "code",
      "execution_count": null,
      "id": "efdafdcd-01ea-4a38-a5d7-d0566278e699",
      "metadata": {
        "id": "efdafdcd-01ea-4a38-a5d7-d0566278e699"
      },
      "outputs": [],
      "source": [
        "left, right = delta_w // 2, delta_w - (delta_w // 2)\n",
        "\n",
        "left, right"
      ]
    },
    {
      "cell_type": "markdown",
      "id": "68a49188-d7fe-449a-aa19-8a92e91e71eb",
      "metadata": {
        "id": "68a49188-d7fe-449a-aa19-8a92e91e71eb"
      },
      "source": [
        "*  [cv2.copyMakeBorder 함수](https://www.geeksforgeeks.org/python-opencv-cv2-copymakeborder-method/) 참조 "
      ]
    },
    {
      "cell_type": "code",
      "execution_count": null,
      "id": "22eb0dfa-d548-43fc-bf3c-ed961a735649",
      "metadata": {
        "id": "22eb0dfa-d548-43fc-bf3c-ed961a735649"
      },
      "outputs": [],
      "source": [
        "new_img = cv2.copyMakeBorder(img, top, bottom, left, right, cv2.BORDER_CONSTANT, value=[0, 0, 0])\n",
        "    \n",
        "new_img.shape"
      ]
    },
    {
      "cell_type": "code",
      "execution_count": null,
      "id": "4de5b075-547f-472b-a682-c6e1240e462a",
      "metadata": {
        "id": "4de5b075-547f-472b-a682-c6e1240e462a"
      },
      "outputs": [],
      "source": [
        "plt.figure(figsize=(7, 7))\n",
        "plt.imshow(new_img)\n",
        "plt.show()"
      ]
    },
    {
      "cell_type": "code",
      "execution_count": null,
      "id": "ac7afdd4-0b9f-460d-9be5-cf3adfc41ba0",
      "metadata": {
        "id": "ac7afdd4-0b9f-460d-9be5-cf3adfc41ba0"
      },
      "outputs": [],
      "source": [
        "# 첫번째 이미지 바운딩 박스 \n",
        "bbs = points[0]\n",
        "bbs"
      ]
    },
    {
      "cell_type": "code",
      "execution_count": null,
      "id": "4d077a7a-2d28-4e38-981c-d7b138b1a5ec",
      "metadata": {
        "id": "4d077a7a-2d28-4e38-981c-d7b138b1a5ec"
      },
      "outputs": [],
      "source": [
        "# 바운딩박스 수정\n",
        "\n",
        "bbs = ((bbs * ratio) + np.array([left, top])).astype(int)\n",
        "\n",
        "bbs, bbs.dtype"
      ]
    },
    {
      "cell_type": "code",
      "execution_count": null,
      "id": "303b9a53-d484-4508-96fc-7f70c8b88c3e",
      "metadata": {
        "id": "303b9a53-d484-4508-96fc-7f70c8b88c3e"
      },
      "outputs": [],
      "source": [
        "bbs.shape"
      ]
    },
    {
      "cell_type": "code",
      "execution_count": null,
      "id": "34c25d8a-462a-4558-9dea-41cebb9952c0",
      "metadata": {
        "id": "34c25d8a-462a-4558-9dea-41cebb9952c0"
      },
      "outputs": [],
      "source": [
        "# 표시하기 \n",
        "\n",
        "plt.figure(figsize=(7, 7))\n",
        "new_img = cv2.rectangle(new_img, (bbs[0][0], bbs[0][1]), (bbs[1][0], bbs[1][1]), color=(255, 0, 0), thickness=2)\n",
        "plt.imshow(new_img)\n",
        "plt.show()"
      ]
    },
    {
      "cell_type": "code",
      "execution_count": null,
      "id": "974f05d0-90d8-4632-9f4e-31a3305d30db",
      "metadata": {
        "id": "974f05d0-90d8-4632-9f4e-31a3305d30db"
      },
      "outputs": [],
      "source": [
        "### 문제 6. 이미지 변경 함수로 만들기"
      ]
    },
    {
      "cell_type": "code",
      "execution_count": null,
      "id": "f031a1fa-e28c-4b37-a36d-c96cfb730c52",
      "metadata": {
        "id": "f031a1fa-e28c-4b37-a36d-c96cfb730c52"
      },
      "outputs": [],
      "source": [
        "# 이미지 사이즈를 통일\n",
        "\n",
        "def resize_img(img):\n",
        "    old_size = img.shape[:2] #  원본 사이즈 (H, W)\n",
        "    ratio = float(IMG_SIZE) / max(old_size) # 변경 스케일 계산 \n",
        "    \n",
        "    new_size = tuple([int(x*ratio) for x in old_size])\n",
        "    \n",
        "    # (width, height) 로 변경 \n",
        "    img = cv2.resize(img, (new_size[1], new_size[0]))  # (W, H)로 지정\n",
        "    \n",
        "    # 두 이미지 사이의 차이\n",
        "    delta_h = IMG_SIZE - new_size[0]\n",
        "    delta_w = IMG_SIZE - new_size[1]\n",
        "    \n",
        "    # 바운딩박스 변화량\n",
        "    top, bottom = delta_h // 2, delta_h - (delta_h // 2)\n",
        "    left, right = delta_w // 2, delta_w - (delta_w // 2)\n",
        "    \n",
        "    # 여백 부분 검은색 \n",
        "    new_img = cv2.copyMakeBorder(img, top, bottom, left, right, cv2.BORDER_CONSTANT,value=[0, 0, 0])\n",
        "    return new_img, ratio, top, left\n",
        "\n"
      ]
    },
    {
      "cell_type": "code",
      "execution_count": null,
      "id": "c24110a0-7f99-4116-99da-3f6fa9cab9a4",
      "metadata": {
        "id": "c24110a0-7f99-4116-99da-3f6fa9cab9a4"
      },
      "outputs": [],
      "source": [
        "dataset_images = []\n",
        "dataset_bbs = []"
      ]
    },
    {
      "cell_type": "code",
      "execution_count": null,
      "id": "e5cc4c24-972b-4c1d-9260-41a6fb45b267",
      "metadata": {
        "id": "e5cc4c24-972b-4c1d-9260-41a6fb45b267"
      },
      "outputs": [],
      "source": [
        "# 전체 데이터 처리 \n",
        "\n",
        "for filename, bbs in zip(images, points):\n",
        "    \n",
        "    img = cv2.imread(os.path.join(IMAGE_PATH, filename))\n",
        "    \n",
        "    img, ratio, top, left = resize_img(img)\n",
        "    bbs = ((bbs * ratio) + np.array([left, top])).astype(int)\n",
        "    \n",
        "    dataset_images.append(img)\n",
        "    dataset_bbs.append(bbs.flatten())"
      ]
    },
    {
      "cell_type": "code",
      "execution_count": null,
      "id": "00d14df0-4b4a-40ce-bd0f-4310666759c2",
      "metadata": {
        "id": "00d14df0-4b4a-40ce-bd0f-4310666759c2"
      },
      "outputs": [],
      "source": [
        "dataset_images = np.array(dataset_images)\n",
        "dataset_bbs = np.array(dataset_bbs)\n",
        "\n",
        "dataset_images.shape, dataset_bbs.shape"
      ]
    },
    {
      "cell_type": "markdown",
      "id": "93cb5596-1c51-4f1a-9916-ee301d0c8340",
      "metadata": {
        "id": "93cb5596-1c51-4f1a-9916-ee301d0c8340"
      },
      "source": [
        "### 문제 6. 데이터 저장 "
      ]
    },
    {
      "cell_type": "code",
      "execution_count": null,
      "id": "eb7df4b7-3d90-404d-bf9e-b9098f5220d6",
      "metadata": {
        "id": "eb7df4b7-3d90-404d-bf9e-b9098f5220d6"
      },
      "outputs": [],
      "source": [
        "np.savez('cat_bbs.npz', image=dataset_images, bbs=dataset_bbs)"
      ]
    },
    {
      "cell_type": "markdown",
      "id": "41501369-fca6-4aaa-9add-eb0aa57d61e7",
      "metadata": {
        "id": "41501369-fca6-4aaa-9add-eb0aa57d61e7"
      },
      "source": [
        "### 문제 7. 데이터 파일 읽어오기"
      ]
    },
    {
      "cell_type": "code",
      "execution_count": null,
      "id": "1d608acd-93e0-42ed-a530-52eb40ff94da",
      "metadata": {
        "id": "1d608acd-93e0-42ed-a530-52eb40ff94da"
      },
      "outputs": [],
      "source": [
        "dataset = np.load('cat_bbs.npz')\n",
        "\n",
        "dataset['image'].shape, dataset['bbs'].shape"
      ]
    }
  ],
  "metadata": {
    "kernelspec": {
      "display_name": "Python 3",
      "language": "python",
      "name": "python3"
    },
    "language_info": {
      "codemirror_mode": {
        "name": "ipython",
        "version": 3
      },
      "file_extension": ".py",
      "mimetype": "text/x-python",
      "name": "python",
      "nbconvert_exporter": "python",
      "pygments_lexer": "ipython3",
      "version": "3.8.0"
    },
    "colab": {
      "name": "26-cv2-cats-datasets.ipynb",
      "provenance": [],
      "collapsed_sections": []
    }
  },
  "nbformat": 4,
  "nbformat_minor": 5
}