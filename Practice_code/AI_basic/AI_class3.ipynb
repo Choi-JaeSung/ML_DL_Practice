{
 "cells": [
  {
   "cell_type": "markdown",
   "id": "45e4404a-f0c4-43d9-bb85-382facc38db7",
   "metadata": {},
   "source": [
    "# Multi Perceptron"
   ]
  },
  {
   "cell_type": "code",
   "execution_count": 2,
   "id": "0e202dee-34d6-498a-a4c0-332fb0008430",
   "metadata": {},
   "outputs": [],
   "source": [
    "from sklearn import datasets\n",
    "from sklearn.neural_network import MLPClassifier\n",
    "from sklearn.model_selection import train_test_split\n",
    "\n",
    "import numpy as np"
   ]
  },
  {
   "cell_type": "code",
   "execution_count": 3,
   "id": "6dc9b842",
   "metadata": {},
   "outputs": [],
   "source": [
    "digit = datasets.load_digits()\n",
    "\n",
    "X_train, X_test, y_train, y_test = train_test_split(digit.data, digit.target, train_size=0.6)"
   ]
  },
  {
   "cell_type": "code",
   "execution_count": 6,
   "id": "0e7fd374",
   "metadata": {},
   "outputs": [
    {
     "name": "stdout",
     "output_type": "stream",
     "text": [
      "Iteration 1, loss = 2.52422335\n",
      "Iteration 2, loss = 0.36435260\n",
      "Iteration 3, loss = 0.23853003\n",
      "Iteration 4, loss = 0.16858127\n",
      "Iteration 5, loss = 0.14023081\n",
      "Iteration 6, loss = 0.12054241\n",
      "Iteration 7, loss = 0.10031613\n",
      "Iteration 8, loss = 0.08733055\n",
      "Iteration 9, loss = 0.07699140\n",
      "Iteration 10, loss = 0.06712263\n",
      "Iteration 11, loss = 0.05992759\n",
      "Iteration 12, loss = 0.06067574\n",
      "Iteration 13, loss = 0.05113443\n",
      "Iteration 14, loss = 0.04509962\n",
      "Iteration 15, loss = 0.04058126\n",
      "Iteration 16, loss = 0.03997021\n",
      "Iteration 17, loss = 0.03593006\n",
      "Iteration 18, loss = 0.03419470\n",
      "Iteration 19, loss = 0.03081335\n",
      "Iteration 20, loss = 0.02920397\n",
      "Iteration 21, loss = 0.02810064\n",
      "Iteration 22, loss = 0.02625410\n",
      "Iteration 23, loss = 0.02458839\n",
      "Iteration 24, loss = 0.02320100\n",
      "Iteration 25, loss = 0.02268103\n",
      "Iteration 26, loss = 0.02100454\n",
      "Iteration 27, loss = 0.02054366\n",
      "Iteration 28, loss = 0.01924322\n",
      "Iteration 29, loss = 0.01878687\n",
      "Iteration 30, loss = 0.01769292\n",
      "Iteration 31, loss = 0.01746187\n",
      "Iteration 32, loss = 0.01633896\n",
      "Iteration 33, loss = 0.01628346\n",
      "Iteration 34, loss = 0.01584314\n",
      "Iteration 35, loss = 0.01496399\n",
      "Iteration 36, loss = 0.01482548\n",
      "Iteration 37, loss = 0.01439705\n",
      "Iteration 38, loss = 0.01375235\n",
      "Iteration 39, loss = 0.01345381\n",
      "Iteration 40, loss = 0.01321721\n",
      "Iteration 41, loss = 0.01248068\n",
      "Iteration 42, loss = 0.01267056\n",
      "Iteration 43, loss = 0.01222513\n",
      "Iteration 44, loss = 0.01159303\n",
      "Iteration 45, loss = 0.01126923\n",
      "Iteration 46, loss = 0.01118672\n",
      "Iteration 47, loss = 0.01086529\n",
      "Iteration 48, loss = 0.01052790\n",
      "Iteration 49, loss = 0.01023921\n",
      "Iteration 50, loss = 0.01021311\n",
      "Iteration 51, loss = 0.00977256\n",
      "Iteration 52, loss = 0.00987651\n",
      "Iteration 53, loss = 0.00944878\n",
      "Iteration 54, loss = 0.00949390\n",
      "Iteration 55, loss = 0.00918612\n",
      "Iteration 56, loss = 0.00898633\n",
      "Iteration 57, loss = 0.00867416\n",
      "Iteration 58, loss = 0.00877852\n",
      "Iteration 59, loss = 0.00841061\n",
      "Iteration 60, loss = 0.00823458\n",
      "Iteration 61, loss = 0.00811230\n",
      "Iteration 62, loss = 0.00816006\n",
      "Iteration 63, loss = 0.00786415\n",
      "Iteration 64, loss = 0.00776962\n",
      "Iteration 65, loss = 0.00765435\n",
      "Iteration 66, loss = 0.00761762\n",
      "Iteration 67, loss = 0.00727388\n",
      "Iteration 68, loss = 0.00716578\n",
      "Iteration 69, loss = 0.00707190\n",
      "Iteration 70, loss = 0.00700870\n",
      "Iteration 71, loss = 0.00689905\n",
      "Iteration 72, loss = 0.00686068\n",
      "Iteration 73, loss = 0.00665105\n",
      "Iteration 74, loss = 0.00660664\n",
      "Iteration 75, loss = 0.00647120\n",
      "Iteration 76, loss = 0.00643517\n",
      "Iteration 77, loss = 0.00625460\n",
      "Iteration 78, loss = 0.00619499\n",
      "Iteration 79, loss = 0.00616580\n",
      "Iteration 80, loss = 0.00606320\n",
      "Iteration 81, loss = 0.00600820\n",
      "Iteration 82, loss = 0.00596727\n",
      "Iteration 83, loss = 0.00579945\n",
      "Iteration 84, loss = 0.00578560\n",
      "Iteration 85, loss = 0.00574876\n",
      "Iteration 86, loss = 0.00562982\n",
      "Iteration 87, loss = 0.00551382\n",
      "Iteration 88, loss = 0.00542767\n",
      "Iteration 89, loss = 0.00539032\n",
      "Iteration 90, loss = 0.00540088\n",
      "Iteration 91, loss = 0.00525845\n",
      "Iteration 92, loss = 0.00523434\n",
      "Iteration 93, loss = 0.00514580\n",
      "Iteration 94, loss = 0.00514059\n",
      "Iteration 95, loss = 0.00501871\n",
      "Iteration 96, loss = 0.00499281\n",
      "Iteration 97, loss = 0.00494938\n",
      "Iteration 98, loss = 0.00487427\n",
      "Iteration 99, loss = 0.00492849\n",
      "Iteration 100, loss = 0.00480895\n",
      "Iteration 101, loss = 0.00474586\n",
      "Iteration 102, loss = 0.00467179\n",
      "Iteration 103, loss = 0.00458675\n",
      "Iteration 104, loss = 0.00457197\n",
      "Iteration 105, loss = 0.00455047\n",
      "Iteration 106, loss = 0.00450994\n",
      "Training loss did not improve more than tol=0.000100 for 10 consecutive epochs. Stopping.\n"
     ]
    },
    {
     "data": {
      "text/html": [
       "<style>#sk-container-id-1 {color: black;background-color: white;}#sk-container-id-1 pre{padding: 0;}#sk-container-id-1 div.sk-toggleable {background-color: white;}#sk-container-id-1 label.sk-toggleable__label {cursor: pointer;display: block;width: 100%;margin-bottom: 0;padding: 0.3em;box-sizing: border-box;text-align: center;}#sk-container-id-1 label.sk-toggleable__label-arrow:before {content: \"▸\";float: left;margin-right: 0.25em;color: #696969;}#sk-container-id-1 label.sk-toggleable__label-arrow:hover:before {color: black;}#sk-container-id-1 div.sk-estimator:hover label.sk-toggleable__label-arrow:before {color: black;}#sk-container-id-1 div.sk-toggleable__content {max-height: 0;max-width: 0;overflow: hidden;text-align: left;background-color: #f0f8ff;}#sk-container-id-1 div.sk-toggleable__content pre {margin: 0.2em;color: black;border-radius: 0.25em;background-color: #f0f8ff;}#sk-container-id-1 input.sk-toggleable__control:checked~div.sk-toggleable__content {max-height: 200px;max-width: 100%;overflow: auto;}#sk-container-id-1 input.sk-toggleable__control:checked~label.sk-toggleable__label-arrow:before {content: \"▾\";}#sk-container-id-1 div.sk-estimator input.sk-toggleable__control:checked~label.sk-toggleable__label {background-color: #d4ebff;}#sk-container-id-1 div.sk-label input.sk-toggleable__control:checked~label.sk-toggleable__label {background-color: #d4ebff;}#sk-container-id-1 input.sk-hidden--visually {border: 0;clip: rect(1px 1px 1px 1px);clip: rect(1px, 1px, 1px, 1px);height: 1px;margin: -1px;overflow: hidden;padding: 0;position: absolute;width: 1px;}#sk-container-id-1 div.sk-estimator {font-family: monospace;background-color: #f0f8ff;border: 1px dotted black;border-radius: 0.25em;box-sizing: border-box;margin-bottom: 0.5em;}#sk-container-id-1 div.sk-estimator:hover {background-color: #d4ebff;}#sk-container-id-1 div.sk-parallel-item::after {content: \"\";width: 100%;border-bottom: 1px solid gray;flex-grow: 1;}#sk-container-id-1 div.sk-label:hover label.sk-toggleable__label {background-color: #d4ebff;}#sk-container-id-1 div.sk-serial::before {content: \"\";position: absolute;border-left: 1px solid gray;box-sizing: border-box;top: 0;bottom: 0;left: 50%;z-index: 0;}#sk-container-id-1 div.sk-serial {display: flex;flex-direction: column;align-items: center;background-color: white;padding-right: 0.2em;padding-left: 0.2em;position: relative;}#sk-container-id-1 div.sk-item {position: relative;z-index: 1;}#sk-container-id-1 div.sk-parallel {display: flex;align-items: stretch;justify-content: center;background-color: white;position: relative;}#sk-container-id-1 div.sk-item::before, #sk-container-id-1 div.sk-parallel-item::before {content: \"\";position: absolute;border-left: 1px solid gray;box-sizing: border-box;top: 0;bottom: 0;left: 50%;z-index: -1;}#sk-container-id-1 div.sk-parallel-item {display: flex;flex-direction: column;z-index: 1;position: relative;background-color: white;}#sk-container-id-1 div.sk-parallel-item:first-child::after {align-self: flex-end;width: 50%;}#sk-container-id-1 div.sk-parallel-item:last-child::after {align-self: flex-start;width: 50%;}#sk-container-id-1 div.sk-parallel-item:only-child::after {width: 0;}#sk-container-id-1 div.sk-dashed-wrapped {border: 1px dashed gray;margin: 0 0.4em 0.5em 0.4em;box-sizing: border-box;padding-bottom: 0.4em;background-color: white;}#sk-container-id-1 div.sk-label label {font-family: monospace;font-weight: bold;display: inline-block;line-height: 1.2em;}#sk-container-id-1 div.sk-label-container {text-align: center;}#sk-container-id-1 div.sk-container {/* jupyter's `normalize.less` sets `[hidden] { display: none; }` but bootstrap.min.css set `[hidden] { display: none !important; }` so we also need the `!important` here to be able to override the default hidden behavior on the sphinx rendered scikit-learn.org. See: https://github.com/scikit-learn/scikit-learn/issues/21755 */display: inline-block !important;position: relative;}#sk-container-id-1 div.sk-text-repr-fallback {display: none;}</style><div id=\"sk-container-id-1\" class=\"sk-top-container\"><div class=\"sk-text-repr-fallback\"><pre>MLPClassifier(batch_size=32, hidden_layer_sizes=100, max_iter=300, solver=&#x27;sgd&#x27;,\n",
       "              verbose=True)</pre><b>In a Jupyter environment, please rerun this cell to show the HTML representation or trust the notebook. <br />On GitHub, the HTML representation is unable to render, please try loading this page with nbviewer.org.</b></div><div class=\"sk-container\" hidden><div class=\"sk-item\"><div class=\"sk-estimator sk-toggleable\"><input class=\"sk-toggleable__control sk-hidden--visually\" id=\"sk-estimator-id-1\" type=\"checkbox\" checked><label for=\"sk-estimator-id-1\" class=\"sk-toggleable__label sk-toggleable__label-arrow\">MLPClassifier</label><div class=\"sk-toggleable__content\"><pre>MLPClassifier(batch_size=32, hidden_layer_sizes=100, max_iter=300, solver=&#x27;sgd&#x27;,\n",
       "              verbose=True)</pre></div></div></div></div></div>"
      ],
      "text/plain": [
       "MLPClassifier(batch_size=32, hidden_layer_sizes=100, max_iter=300, solver='sgd',\n",
       "              verbose=True)"
      ]
     },
     "execution_count": 6,
     "metadata": {},
     "output_type": "execute_result"
    }
   ],
   "source": [
    "mlp = MLPClassifier(hidden_layer_sizes=(100), learning_rate_init=0.001, batch_size=32, max_iter=300, solver='sgd', verbose=True)\n",
    "mlp.fit(X_train, y_train)"
   ]
  },
  {
   "cell_type": "code",
   "execution_count": 12,
   "id": "1c07d4ff",
   "metadata": {},
   "outputs": [],
   "source": [
    "res = mlp.predict(X_test)"
   ]
  },
  {
   "cell_type": "code",
   "execution_count": 13,
   "id": "e50d5258",
   "metadata": {},
   "outputs": [
    {
     "name": "stdout",
     "output_type": "stream",
     "text": [
      "[[76.  0.  0.  0.  0.  0.  0.  0.  0.  0.]\n",
      " [ 0. 64.  0.  0.  0.  0.  1.  0.  6.  0.]\n",
      " [ 0.  0. 65.  1.  0.  0.  0.  0.  1.  0.]\n",
      " [ 0.  0.  0. 75.  0.  0.  0.  0.  0.  1.]\n",
      " [ 0.  0.  0.  0. 70.  1.  0.  0.  0.  0.]\n",
      " [ 0.  0.  0.  3.  0. 78.  0.  0.  0.  1.]\n",
      " [ 1.  2.  0.  0.  0.  0. 75.  0.  0.  0.]\n",
      " [ 0.  0.  0.  1.  0.  0.  0. 57.  0.  0.]\n",
      " [ 0.  0.  0.  3.  0.  0.  0.  0. 59.  0.]\n",
      " [ 0.  0.  0.  0.  0.  0.  0.  1.  0. 77.]]\n"
     ]
    }
   ],
   "source": [
    "conf = np.zeros((10, 10))\n",
    "\n",
    "for i in range(len(res)):\n",
    "    conf[res[i]][y_test[i]] += 1\n",
    "\n",
    "print(conf)"
   ]
  },
  {
   "cell_type": "code",
   "execution_count": 14,
   "id": "9c178678",
   "metadata": {},
   "outputs": [
    {
     "name": "stdout",
     "output_type": "stream",
     "text": [
      "테스트 집합에 대한 정확률은 96.80111265646731 %입니다.\n"
     ]
    }
   ],
   "source": [
    "no_correct = 0\n",
    "\n",
    "for i in range(10):\n",
    "    no_correct += conf[i][i]\n",
    "\n",
    "accuracy = no_correct / len(res)\n",
    "print('테스트 집합에 대한 정확률은', accuracy * 100, '%입니다.')"
   ]
  },
  {
   "cell_type": "markdown",
   "id": "b6ba0c5b",
   "metadata": {},
   "source": [
    "## hyper parameter optimization"
   ]
  },
  {
   "cell_type": "code",
   "execution_count": 27,
   "id": "2ae6b840",
   "metadata": {},
   "outputs": [],
   "source": [
    "from sklearn import datasets\n",
    "from sklearn.neural_network import MLPClassifier\n",
    "from sklearn.model_selection import train_test_split, validation_curve\n",
    "\n",
    "import numpy as np\n",
    "import matplotlib.pyplot as plt\n",
    "import time"
   ]
  },
  {
   "cell_type": "code",
   "execution_count": 28,
   "id": "07148d08",
   "metadata": {},
   "outputs": [],
   "source": [
    "digit = datasets.load_digits()\n",
    "\n",
    "X_train, X_test, y_train, y_test = train_test_split(digit.data, digit.target, train_size=0.6)"
   ]
  },
  {
   "cell_type": "code",
   "execution_count": 32,
   "id": "945e0c17",
   "metadata": {},
   "outputs": [
    {
     "name": "stdout",
     "output_type": "stream",
     "text": [
      "하이퍼 파라미터 최적화에 걸린 시간은 220.25112795829773 초입니다.\n"
     ]
    }
   ],
   "source": [
    "start = time.time()\n",
    "mlp = MLPClassifier(learning_rate_init=0.001, batch_size=32, max_iter=300, solver='sgd')\n",
    "\n",
    "prange = range(50, 1001, 50)\n",
    "\n",
    "train_score, test_score = validation_curve(mlp, X_train, y_train, param_name='hidden_layer_sizes', param_range=prange, cv=10, scoring='accuracy', n_jobs=4)\n",
    "\n",
    "end = time.time()\n",
    "\n",
    "print('하이퍼 파라미터 최적화에 걸린 시간은', end - start, '초입니다.')"
   ]
  },
  {
   "cell_type": "code",
   "execution_count": 34,
   "id": "1739f9d9",
   "metadata": {},
   "outputs": [],
   "source": [
    "train_mean = np.mean(train_score, axis=1)\n",
    "train_std = np.std(train_score, axis=1)\n",
    "\n",
    "test_mean = np.mean(test_score, axis=1)\n",
    "test_std = np.std(test_score, axis=1)"
   ]
  },
  {
   "cell_type": "code",
   "execution_count": 35,
   "id": "89800688",
   "metadata": {},
   "outputs": [
    {
     "data": {
      "image/png": "[encoded data removed]",
      "text/plain": [
       "<Figure size 432x288 with 1 Axes>"
      ]
     },
     "metadata": {
      "needs_background": "light"
     },
     "output_type": "display_data"
    }
   ],
   "source": [
    "plt.plot(prange, train_mean, label='Train score', color='r')\n",
    "plt.plot(prange, test_mean, label='Test score', color='b')\n",
    "\n",
    "plt.fill_between(prange, train_mean - train_std, train_mean + train_std, alpha=0.2, color='r')\n",
    "plt.fill_between(prange, test_mean - test_std, test_mean + test_std, alpha=0.2, color='b')\n",
    "plt.legend(loc='best')\n",
    "plt.title('Validation Curve with MLP')\n",
    "plt.xlabel('Number of hidden nodes')\n",
    "plt.ylabel('Accuracy')\n",
    "plt.ylim(0.9, 1.01)\n",
    "plt.grid(axis='both')\n",
    "plt.show()"
   ]
  },
  {
   "cell_type": "code",
   "execution_count": 38,
   "id": "2ca1d59c",
   "metadata": {},
   "outputs": [
    {
     "name": "stdout",
     "output_type": "stream",
     "text": [
      "\n",
      "최적의 은닉층의 노드 개수는 600 개입니다.\n",
      "\n"
     ]
    }
   ],
   "source": [
    "best_number_nodes = prange[np.argmax(test_mean)]\n",
    "print('\\n최적의 은닉층의 노드 개수는', best_number_nodes, '개입니다.\\n')"
   ]
  },
  {
   "cell_type": "code",
   "execution_count": 39,
   "id": "42a63ab1",
   "metadata": {},
   "outputs": [
    {
     "data": {
      "text/html": [
       "<style>#sk-container-id-2 {color: black;background-color: white;}#sk-container-id-2 pre{padding: 0;}#sk-container-id-2 div.sk-toggleable {background-color: white;}#sk-container-id-2 label.sk-toggleable__label {cursor: pointer;display: block;width: 100%;margin-bottom: 0;padding: 0.3em;box-sizing: border-box;text-align: center;}#sk-container-id-2 label.sk-toggleable__label-arrow:before {content: \"▸\";float: left;margin-right: 0.25em;color: #696969;}#sk-container-id-2 label.sk-toggleable__label-arrow:hover:before {color: black;}#sk-container-id-2 div.sk-estimator:hover label.sk-toggleable__label-arrow:before {color: black;}#sk-container-id-2 div.sk-toggleable__content {max-height: 0;max-width: 0;overflow: hidden;text-align: left;background-color: #f0f8ff;}#sk-container-id-2 div.sk-toggleable__content pre {margin: 0.2em;color: black;border-radius: 0.25em;background-color: #f0f8ff;}#sk-container-id-2 input.sk-toggleable__control:checked~div.sk-toggleable__content {max-height: 200px;max-width: 100%;overflow: auto;}#sk-container-id-2 input.sk-toggleable__control:checked~label.sk-toggleable__label-arrow:before {content: \"▾\";}#sk-container-id-2 div.sk-estimator input.sk-toggleable__control:checked~label.sk-toggleable__label {background-color: #d4ebff;}#sk-container-id-2 div.sk-label input.sk-toggleable__control:checked~label.sk-toggleable__label {background-color: #d4ebff;}#sk-container-id-2 input.sk-hidden--visually {border: 0;clip: rect(1px 1px 1px 1px);clip: rect(1px, 1px, 1px, 1px);height: 1px;margin: -1px;overflow: hidden;padding: 0;position: absolute;width: 1px;}#sk-container-id-2 div.sk-estimator {font-family: monospace;background-color: #f0f8ff;border: 1px dotted black;border-radius: 0.25em;box-sizing: border-box;margin-bottom: 0.5em;}#sk-container-id-2 div.sk-estimator:hover {background-color: #d4ebff;}#sk-container-id-2 div.sk-parallel-item::after {content: \"\";width: 100%;border-bottom: 1px solid gray;flex-grow: 1;}#sk-container-id-2 div.sk-label:hover label.sk-toggleable__label {background-color: #d4ebff;}#sk-container-id-2 div.sk-serial::before {content: \"\";position: absolute;border-left: 1px solid gray;box-sizing: border-box;top: 0;bottom: 0;left: 50%;z-index: 0;}#sk-container-id-2 div.sk-serial {display: flex;flex-direction: column;align-items: center;background-color: white;padding-right: 0.2em;padding-left: 0.2em;position: relative;}#sk-container-id-2 div.sk-item {position: relative;z-index: 1;}#sk-container-id-2 div.sk-parallel {display: flex;align-items: stretch;justify-content: center;background-color: white;position: relative;}#sk-container-id-2 div.sk-item::before, #sk-container-id-2 div.sk-parallel-item::before {content: \"\";position: absolute;border-left: 1px solid gray;box-sizing: border-box;top: 0;bottom: 0;left: 50%;z-index: -1;}#sk-container-id-2 div.sk-parallel-item {display: flex;flex-direction: column;z-index: 1;position: relative;background-color: white;}#sk-container-id-2 div.sk-parallel-item:first-child::after {align-self: flex-end;width: 50%;}#sk-container-id-2 div.sk-parallel-item:last-child::after {align-self: flex-start;width: 50%;}#sk-container-id-2 div.sk-parallel-item:only-child::after {width: 0;}#sk-container-id-2 div.sk-dashed-wrapped {border: 1px dashed gray;margin: 0 0.4em 0.5em 0.4em;box-sizing: border-box;padding-bottom: 0.4em;background-color: white;}#sk-container-id-2 div.sk-label label {font-family: monospace;font-weight: bold;display: inline-block;line-height: 1.2em;}#sk-container-id-2 div.sk-label-container {text-align: center;}#sk-container-id-2 div.sk-container {/* jupyter's `normalize.less` sets `[hidden] { display: none; }` but bootstrap.min.css set `[hidden] { display: none !important; }` so we also need the `!important` here to be able to override the default hidden behavior on the sphinx rendered scikit-learn.org. See: https://github.com/scikit-learn/scikit-learn/issues/21755 */display: inline-block !important;position: relative;}#sk-container-id-2 div.sk-text-repr-fallback {display: none;}</style><div id=\"sk-container-id-2\" class=\"sk-top-container\"><div class=\"sk-text-repr-fallback\"><pre>MLPClassifier(batch_size=32, hidden_layer_sizes=600, max_iter=300, solver=&#x27;sgd&#x27;)</pre><b>In a Jupyter environment, please rerun this cell to show the HTML representation or trust the notebook. <br />On GitHub, the HTML representation is unable to render, please try loading this page with nbviewer.org.</b></div><div class=\"sk-container\" hidden><div class=\"sk-item\"><div class=\"sk-estimator sk-toggleable\"><input class=\"sk-toggleable__control sk-hidden--visually\" id=\"sk-estimator-id-2\" type=\"checkbox\" checked><label for=\"sk-estimator-id-2\" class=\"sk-toggleable__label sk-toggleable__label-arrow\">MLPClassifier</label><div class=\"sk-toggleable__content\"><pre>MLPClassifier(batch_size=32, hidden_layer_sizes=600, max_iter=300, solver=&#x27;sgd&#x27;)</pre></div></div></div></div></div>"
      ],
      "text/plain": [
       "MLPClassifier(batch_size=32, hidden_layer_sizes=600, max_iter=300, solver='sgd')"
      ]
     },
     "execution_count": 39,
     "metadata": {},
     "output_type": "execute_result"
    }
   ],
   "source": [
    "mlp_test = MLPClassifier(hidden_layer_sizes=(best_number_nodes), learning_rate_init=0.001, batch_size=32, max_iter=300, solver='sgd')\n",
    "mlp_test.fit(X_train, y_train)"
   ]
  },
  {
   "cell_type": "code",
   "execution_count": 40,
   "id": "6bf93d53",
   "metadata": {},
   "outputs": [],
   "source": [
    "res = mlp_test.predict(X_test)"
   ]
  },
  {
   "cell_type": "code",
   "execution_count": 41,
   "id": "560b043b",
   "metadata": {},
   "outputs": [
    {
     "name": "stdout",
     "output_type": "stream",
     "text": [
      "[[66.  0.  0.  0.  0.  0.  0.  0.  0.  0.]\n",
      " [ 0. 70.  0.  0.  0.  0.  1.  0.  3.  0.]\n",
      " [ 0.  0. 64.  0.  0.  0.  0.  0.  0.  0.]\n",
      " [ 0.  0.  0. 71.  0.  0.  0.  0.  0.  1.]\n",
      " [ 0.  0.  0.  0. 74.  0.  0.  0.  0.  0.]\n",
      " [ 0.  0.  0.  1.  0. 72.  0.  0.  1.  1.]\n",
      " [ 0.  0.  0.  0.  0.  0. 72.  0.  0.  0.]\n",
      " [ 0.  0.  0.  0.  1.  0.  0. 71.  0.  0.]\n",
      " [ 0.  1.  0.  0.  1.  0.  1.  1. 66.  0.]\n",
      " [ 0.  1.  0.  0.  0.  3.  0.  1.  0. 75.]]\n"
     ]
    }
   ],
   "source": [
    "conf = np.zeros((10, 10))\n",
    "\n",
    "for i in range(len(res)):\n",
    "    conf[res[i]][y_test[i]] += 1\n",
    "\n",
    "print(conf)"
   ]
  },
  {
   "cell_type": "code",
   "execution_count": 42,
   "id": "6338fe46",
   "metadata": {},
   "outputs": [
    {
     "name": "stdout",
     "output_type": "stream",
     "text": [
      "테스트 집합에 대한 정확률은 97.49652294853965 %입니다.\n"
     ]
    }
   ],
   "source": [
    "no_correct = 0\n",
    "\n",
    "for i in range(10):\n",
    "    no_correct += conf[i][i]\n",
    "\n",
    "accuracy = no_correct / len(res)\n",
    "print('테스트 집합에 대한 정확률은', accuracy * 100, '%입니다.')"
   ]
  },
  {
   "cell_type": "code",
   "execution_count": null,
   "id": "2aedbd5f",
   "metadata": {},
   "outputs": [],
   "source": []
  }
 ],
 "metadata": {
  "kernelspec": {
   "display_name": "myml",
   "language": "python",
   "name": "myml"
  },
  "language_info": {
   "codemirror_mode": {
    "name": "ipython",
    "version": 3
   },
   "file_extension": ".py",
   "mimetype": "text/x-python",
   "name": "python",
   "nbconvert_exporter": "python",
   "pygments_lexer": "ipython3",
   "version": "3.8.0"
  }
 },
 "nbformat": 4,
 "nbformat_minor": 5
}
