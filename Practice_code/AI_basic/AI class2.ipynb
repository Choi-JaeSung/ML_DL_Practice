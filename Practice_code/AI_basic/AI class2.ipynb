{
 "cells": [
  {
   "cell_type": "markdown",
   "id": "9ea61b6a",
   "metadata": {},
   "source": [
    "# Perceptron"
   ]
  },
  {
   "cell_type": "code",
   "execution_count": 1,
   "id": "e4844dfb",
   "metadata": {},
   "outputs": [],
   "source": [
    "from sklearn.linear_model import Perceptron"
   ]
  },
  {
   "cell_type": "code",
   "execution_count": 2,
   "id": "447dd50a",
   "metadata": {},
   "outputs": [],
   "source": [
    "X = [[0, 0], [0, 1], [1, 0], [1, 1]]\n",
    "y = [-1, 1, 1, 1]"
   ]
  },
  {
   "cell_type": "code",
   "execution_count": 3,
   "id": "df5c7952",
   "metadata": {},
   "outputs": [
    {
     "data": {
      "text/html": [
       "<style>#sk-container-id-1 {color: black;background-color: white;}#sk-container-id-1 pre{padding: 0;}#sk-container-id-1 div.sk-toggleable {background-color: white;}#sk-container-id-1 label.sk-toggleable__label {cursor: pointer;display: block;width: 100%;margin-bottom: 0;padding: 0.3em;box-sizing: border-box;text-align: center;}#sk-container-id-1 label.sk-toggleable__label-arrow:before {content: \"▸\";float: left;margin-right: 0.25em;color: #696969;}#sk-container-id-1 label.sk-toggleable__label-arrow:hover:before {color: black;}#sk-container-id-1 div.sk-estimator:hover label.sk-toggleable__label-arrow:before {color: black;}#sk-container-id-1 div.sk-toggleable__content {max-height: 0;max-width: 0;overflow: hidden;text-align: left;background-color: #f0f8ff;}#sk-container-id-1 div.sk-toggleable__content pre {margin: 0.2em;color: black;border-radius: 0.25em;background-color: #f0f8ff;}#sk-container-id-1 input.sk-toggleable__control:checked~div.sk-toggleable__content {max-height: 200px;max-width: 100%;overflow: auto;}#sk-container-id-1 input.sk-toggleable__control:checked~label.sk-toggleable__label-arrow:before {content: \"▾\";}#sk-container-id-1 div.sk-estimator input.sk-toggleable__control:checked~label.sk-toggleable__label {background-color: #d4ebff;}#sk-container-id-1 div.sk-label input.sk-toggleable__control:checked~label.sk-toggleable__label {background-color: #d4ebff;}#sk-container-id-1 input.sk-hidden--visually {border: 0;clip: rect(1px 1px 1px 1px);clip: rect(1px, 1px, 1px, 1px);height: 1px;margin: -1px;overflow: hidden;padding: 0;position: absolute;width: 1px;}#sk-container-id-1 div.sk-estimator {font-family: monospace;background-color: #f0f8ff;border: 1px dotted black;border-radius: 0.25em;box-sizing: border-box;margin-bottom: 0.5em;}#sk-container-id-1 div.sk-estimator:hover {background-color: #d4ebff;}#sk-container-id-1 div.sk-parallel-item::after {content: \"\";width: 100%;border-bottom: 1px solid gray;flex-grow: 1;}#sk-container-id-1 div.sk-label:hover label.sk-toggleable__label {background-color: #d4ebff;}#sk-container-id-1 div.sk-serial::before {content: \"\";position: absolute;border-left: 1px solid gray;box-sizing: border-box;top: 0;bottom: 0;left: 50%;z-index: 0;}#sk-container-id-1 div.sk-serial {display: flex;flex-direction: column;align-items: center;background-color: white;padding-right: 0.2em;padding-left: 0.2em;position: relative;}#sk-container-id-1 div.sk-item {position: relative;z-index: 1;}#sk-container-id-1 div.sk-parallel {display: flex;align-items: stretch;justify-content: center;background-color: white;position: relative;}#sk-container-id-1 div.sk-item::before, #sk-container-id-1 div.sk-parallel-item::before {content: \"\";position: absolute;border-left: 1px solid gray;box-sizing: border-box;top: 0;bottom: 0;left: 50%;z-index: -1;}#sk-container-id-1 div.sk-parallel-item {display: flex;flex-direction: column;z-index: 1;position: relative;background-color: white;}#sk-container-id-1 div.sk-parallel-item:first-child::after {align-self: flex-end;width: 50%;}#sk-container-id-1 div.sk-parallel-item:last-child::after {align-self: flex-start;width: 50%;}#sk-container-id-1 div.sk-parallel-item:only-child::after {width: 0;}#sk-container-id-1 div.sk-dashed-wrapped {border: 1px dashed gray;margin: 0 0.4em 0.5em 0.4em;box-sizing: border-box;padding-bottom: 0.4em;background-color: white;}#sk-container-id-1 div.sk-label label {font-family: monospace;font-weight: bold;display: inline-block;line-height: 1.2em;}#sk-container-id-1 div.sk-label-container {text-align: center;}#sk-container-id-1 div.sk-container {/* jupyter's `normalize.less` sets `[hidden] { display: none; }` but bootstrap.min.css set `[hidden] { display: none !important; }` so we also need the `!important` here to be able to override the default hidden behavior on the sphinx rendered scikit-learn.org. See: https://github.com/scikit-learn/scikit-learn/issues/21755 */display: inline-block !important;position: relative;}#sk-container-id-1 div.sk-text-repr-fallback {display: none;}</style><div id=\"sk-container-id-1\" class=\"sk-top-container\"><div class=\"sk-text-repr-fallback\"><pre>Perceptron()</pre><b>In a Jupyter environment, please rerun this cell to show the HTML representation or trust the notebook. <br />On GitHub, the HTML representation is unable to render, please try loading this page with nbviewer.org.</b></div><div class=\"sk-container\" hidden><div class=\"sk-item\"><div class=\"sk-estimator sk-toggleable\"><input class=\"sk-toggleable__control sk-hidden--visually\" id=\"sk-estimator-id-1\" type=\"checkbox\" checked><label for=\"sk-estimator-id-1\" class=\"sk-toggleable__label sk-toggleable__label-arrow\">Perceptron</label><div class=\"sk-toggleable__content\"><pre>Perceptron()</pre></div></div></div></div></div>"
      ],
      "text/plain": [
       "Perceptron()"
      ]
     },
     "execution_count": 3,
     "metadata": {},
     "output_type": "execute_result"
    }
   ],
   "source": [
    "p = Perceptron()\n",
    "p.fit(X, y)"
   ]
  },
  {
   "cell_type": "code",
   "execution_count": 4,
   "id": "e2c40887",
   "metadata": {},
   "outputs": [
    {
     "name": "stdout",
     "output_type": "stream",
     "text": [
      "학습된 퍼셉트론의 매개변수: [[2. 2.]] [-1.]\n",
      "훈련집합에 대한 예측: [-1  1  1  1]\n",
      "정확률 측정: 100.0 %\n"
     ]
    }
   ],
   "source": [
    "print('학습된 퍼셉트론의 매개변수:', p.coef_, p.intercept_)\n",
    "print('훈련집합에 대한 예측:', p.predict(X))\n",
    "print('정확률 측정:', p.score(X, y) * 100, '%')"
   ]
  },
  {
   "cell_type": "code",
   "execution_count": null,
   "id": "8dd3e596",
   "metadata": {},
   "outputs": [],
   "source": []
  },
  {
   "cell_type": "markdown",
   "id": "e54aee8f",
   "metadata": {},
   "source": [
    "# Mnist"
   ]
  },
  {
   "cell_type": "code",
   "execution_count": 7,
   "id": "92af22fc",
   "metadata": {},
   "outputs": [],
   "source": [
    "from sklearn import datasets\n",
    "from sklearn.linear_model import Perceptron\n",
    "from sklearn.model_selection import train_test_split\n",
    "import numpy as np"
   ]
  },
  {
   "cell_type": "code",
   "execution_count": 8,
   "id": "410c61db",
   "metadata": {},
   "outputs": [],
   "source": [
    "digit = datasets.load_digits()\n",
    "\n",
    "X_train, X_test, y_train, y_test = train_test_split(digit.data, digit.target, train_size=0.6)"
   ]
  },
  {
   "cell_type": "code",
   "execution_count": 9,
   "id": "8a074a12",
   "metadata": {},
   "outputs": [
    {
     "data": {
      "text/html": [
       "<style>#sk-container-id-2 {color: black;background-color: white;}#sk-container-id-2 pre{padding: 0;}#sk-container-id-2 div.sk-toggleable {background-color: white;}#sk-container-id-2 label.sk-toggleable__label {cursor: pointer;display: block;width: 100%;margin-bottom: 0;padding: 0.3em;box-sizing: border-box;text-align: center;}#sk-container-id-2 label.sk-toggleable__label-arrow:before {content: \"▸\";float: left;margin-right: 0.25em;color: #696969;}#sk-container-id-2 label.sk-toggleable__label-arrow:hover:before {color: black;}#sk-container-id-2 div.sk-estimator:hover label.sk-toggleable__label-arrow:before {color: black;}#sk-container-id-2 div.sk-toggleable__content {max-height: 0;max-width: 0;overflow: hidden;text-align: left;background-color: #f0f8ff;}#sk-container-id-2 div.sk-toggleable__content pre {margin: 0.2em;color: black;border-radius: 0.25em;background-color: #f0f8ff;}#sk-container-id-2 input.sk-toggleable__control:checked~div.sk-toggleable__content {max-height: 200px;max-width: 100%;overflow: auto;}#sk-container-id-2 input.sk-toggleable__control:checked~label.sk-toggleable__label-arrow:before {content: \"▾\";}#sk-container-id-2 div.sk-estimator input.sk-toggleable__control:checked~label.sk-toggleable__label {background-color: #d4ebff;}#sk-container-id-2 div.sk-label input.sk-toggleable__control:checked~label.sk-toggleable__label {background-color: #d4ebff;}#sk-container-id-2 input.sk-hidden--visually {border: 0;clip: rect(1px 1px 1px 1px);clip: rect(1px, 1px, 1px, 1px);height: 1px;margin: -1px;overflow: hidden;padding: 0;position: absolute;width: 1px;}#sk-container-id-2 div.sk-estimator {font-family: monospace;background-color: #f0f8ff;border: 1px dotted black;border-radius: 0.25em;box-sizing: border-box;margin-bottom: 0.5em;}#sk-container-id-2 div.sk-estimator:hover {background-color: #d4ebff;}#sk-container-id-2 div.sk-parallel-item::after {content: \"\";width: 100%;border-bottom: 1px solid gray;flex-grow: 1;}#sk-container-id-2 div.sk-label:hover label.sk-toggleable__label {background-color: #d4ebff;}#sk-container-id-2 div.sk-serial::before {content: \"\";position: absolute;border-left: 1px solid gray;box-sizing: border-box;top: 0;bottom: 0;left: 50%;z-index: 0;}#sk-container-id-2 div.sk-serial {display: flex;flex-direction: column;align-items: center;background-color: white;padding-right: 0.2em;padding-left: 0.2em;position: relative;}#sk-container-id-2 div.sk-item {position: relative;z-index: 1;}#sk-container-id-2 div.sk-parallel {display: flex;align-items: stretch;justify-content: center;background-color: white;position: relative;}#sk-container-id-2 div.sk-item::before, #sk-container-id-2 div.sk-parallel-item::before {content: \"\";position: absolute;border-left: 1px solid gray;box-sizing: border-box;top: 0;bottom: 0;left: 50%;z-index: -1;}#sk-container-id-2 div.sk-parallel-item {display: flex;flex-direction: column;z-index: 1;position: relative;background-color: white;}#sk-container-id-2 div.sk-parallel-item:first-child::after {align-self: flex-end;width: 50%;}#sk-container-id-2 div.sk-parallel-item:last-child::after {align-self: flex-start;width: 50%;}#sk-container-id-2 div.sk-parallel-item:only-child::after {width: 0;}#sk-container-id-2 div.sk-dashed-wrapped {border: 1px dashed gray;margin: 0 0.4em 0.5em 0.4em;box-sizing: border-box;padding-bottom: 0.4em;background-color: white;}#sk-container-id-2 div.sk-label label {font-family: monospace;font-weight: bold;display: inline-block;line-height: 1.2em;}#sk-container-id-2 div.sk-label-container {text-align: center;}#sk-container-id-2 div.sk-container {/* jupyter's `normalize.less` sets `[hidden] { display: none; }` but bootstrap.min.css set `[hidden] { display: none !important; }` so we also need the `!important` here to be able to override the default hidden behavior on the sphinx rendered scikit-learn.org. See: https://github.com/scikit-learn/scikit-learn/issues/21755 */display: inline-block !important;position: relative;}#sk-container-id-2 div.sk-text-repr-fallback {display: none;}</style><div id=\"sk-container-id-2\" class=\"sk-top-container\"><div class=\"sk-text-repr-fallback\"><pre>Perceptron(eta0=0.001, max_iter=100)</pre><b>In a Jupyter environment, please rerun this cell to show the HTML representation or trust the notebook. <br />On GitHub, the HTML representation is unable to render, please try loading this page with nbviewer.org.</b></div><div class=\"sk-container\" hidden><div class=\"sk-item\"><div class=\"sk-estimator sk-toggleable\"><input class=\"sk-toggleable__control sk-hidden--visually\" id=\"sk-estimator-id-2\" type=\"checkbox\" checked><label for=\"sk-estimator-id-2\" class=\"sk-toggleable__label sk-toggleable__label-arrow\">Perceptron</label><div class=\"sk-toggleable__content\"><pre>Perceptron(eta0=0.001, max_iter=100)</pre></div></div></div></div></div>"
      ],
      "text/plain": [
       "Perceptron(eta0=0.001, max_iter=100)"
      ]
     },
     "execution_count": 9,
     "metadata": {},
     "output_type": "execute_result"
    }
   ],
   "source": [
    "p = Perceptron(max_iter=100, eta0=0.001, verbose=0)\n",
    "p.fit(X_train, y_train)"
   ]
  },
  {
   "cell_type": "code",
   "execution_count": 10,
   "id": "194ededf",
   "metadata": {},
   "outputs": [],
   "source": [
    "res = p.predict(X_test)"
   ]
  },
  {
   "cell_type": "code",
   "execution_count": 14,
   "id": "73882791",
   "metadata": {},
   "outputs": [
    {
     "data": {
      "text/plain": [
       "array([0, 4, 1, 8, 4, 7, 1, 5, 1, 8, 3, 6, 6, 0, 3, 3, 9, 0, 2, 9, 7, 4,\n",
       "       3, 6, 4, 8, 5, 0, 3, 8, 0, 7, 4, 1, 2, 4, 9, 7, 7, 9, 2, 0, 9, 7,\n",
       "       9, 0, 9, 3, 7, 7, 4, 5, 7, 5, 6, 9, 2, 0, 4, 6, 7, 0, 4, 1, 5, 6,\n",
       "       2, 9, 0, 8, 7, 0, 3, 0, 7, 0, 7, 1, 8, 2, 3, 2, 6, 8, 5, 9, 8, 2,\n",
       "       0, 1, 1, 5, 7, 1, 6, 0, 4, 8, 1, 2, 9, 4, 3, 4, 9, 3, 5, 4, 5, 5,\n",
       "       8, 2, 4, 3, 6, 4, 3, 4, 0, 6, 9, 8, 4, 5, 9, 2, 0, 6, 6, 3, 8, 0,\n",
       "       4, 9, 1, 0, 8, 0, 4, 8, 4, 4, 6, 3, 7, 0, 6, 6, 5, 8, 9, 0, 1, 5,\n",
       "       4, 2, 0, 6, 4, 3, 5, 5, 6, 5, 6, 7, 8, 7, 3, 8, 4, 4, 5, 5, 1, 8,\n",
       "       4, 0, 9, 3, 9, 2, 2, 3, 9, 3, 8, 0, 3, 0, 0, 6, 8, 3, 7, 4, 2, 1,\n",
       "       6, 1, 0, 2, 0, 6, 1, 2, 8, 9, 5, 6, 6, 1, 5, 8, 7, 2, 6, 7, 3, 9,\n",
       "       4, 5, 0, 0, 3, 6, 8, 1, 7, 7, 0, 3, 3, 0, 0, 1, 6, 2, 4, 9, 5, 4,\n",
       "       1, 9, 5, 3, 7, 7, 2, 5, 7, 4, 8, 0, 9, 8, 3, 5, 9, 1, 8, 5, 1, 1,\n",
       "       5, 8, 3, 6, 0, 3, 2, 7, 7, 6, 6, 3, 1, 7, 2, 6, 3, 7, 8, 5, 8, 2,\n",
       "       8, 3, 6, 5, 4, 3, 3, 9, 4, 4, 5, 6, 1, 7, 8, 5, 7, 8, 3, 0, 8, 9,\n",
       "       2, 7, 0, 3, 4, 3, 4, 0, 0, 8, 6, 2, 2, 1, 1, 2, 5, 1, 8, 4, 9, 8,\n",
       "       7, 2, 5, 8, 5, 8, 3, 1, 5, 3, 8, 6, 9, 5, 9, 4, 3, 2, 7, 2, 6, 9,\n",
       "       5, 4, 7, 5, 2, 9, 7, 4, 4, 2, 0, 1, 2, 8, 8, 3, 8, 2, 0, 5, 6, 1,\n",
       "       3, 3, 4, 6, 8, 7, 8, 1, 8, 9, 2, 1, 8, 7, 5, 3, 2, 8, 2, 9, 2, 7,\n",
       "       2, 6, 3, 1, 5, 2, 1, 7, 3, 8, 8, 0, 3, 8, 1, 2, 3, 0, 5, 0, 2, 8,\n",
       "       7, 2, 9, 0, 9, 2, 0, 2, 9, 8, 0, 1, 4, 1, 1, 3, 3, 4, 0, 1, 1, 2,\n",
       "       9, 9, 5, 6, 3, 7, 8, 9, 0, 9, 9, 6, 4, 7, 6, 1, 7, 1, 1, 0, 6, 6,\n",
       "       8, 0, 2, 6, 9, 1, 2, 8, 9, 9, 3, 8, 0, 8, 3, 5, 1, 6, 7, 5, 1, 2,\n",
       "       0, 7, 5, 6, 6, 7, 8, 9, 0, 7, 8, 7, 7, 4, 4, 7, 7, 0, 3, 9, 5, 5,\n",
       "       4, 5, 8, 9, 5, 4, 2, 6, 6, 9, 0, 2, 4, 2, 7, 6, 7, 6, 0, 7, 4, 3,\n",
       "       9, 5, 4, 8, 0, 8, 6, 2, 3, 4, 4, 3, 9, 2, 8, 0, 1, 9, 8, 4, 0, 8,\n",
       "       5, 8, 3, 8, 9, 5, 0, 8, 4, 1, 1, 9, 1, 7, 2, 8, 4, 4, 5, 4, 6, 0,\n",
       "       8, 5, 4, 5, 8, 3, 4, 4, 0, 2, 1, 3, 4, 3, 0, 7, 2, 8, 6, 2, 8, 3,\n",
       "       5, 8, 1, 4, 4, 1, 5, 8, 9, 4, 9, 0, 4, 0, 1, 1, 8, 0, 4, 4, 7, 1,\n",
       "       8, 4, 8, 7, 9, 2, 2, 9, 5, 8, 0, 4, 1, 4, 1, 5, 3, 3, 4, 6, 8, 3,\n",
       "       4, 0, 2, 8, 6, 2, 5, 1, 3, 3, 1, 5, 3, 6, 5, 0, 1, 5, 3, 8, 8, 3,\n",
       "       6, 8, 0, 9, 1, 2, 3, 0, 6, 1, 4, 9, 5, 0, 1, 7, 9, 4, 1, 9, 6, 5,\n",
       "       9, 3, 5, 9, 1, 1, 4, 5, 5, 7, 7, 7, 7, 8, 8, 6, 5, 5, 9, 8, 6, 3,\n",
       "       6, 3, 8, 7, 8, 1, 3, 1, 7, 4, 7, 2, 4, 0, 1])"
      ]
     },
     "execution_count": 14,
     "metadata": {},
     "output_type": "execute_result"
    }
   ],
   "source": [
    "res"
   ]
  },
  {
   "cell_type": "code",
   "execution_count": 11,
   "id": "868f65aa",
   "metadata": {},
   "outputs": [
    {
     "name": "stdout",
     "output_type": "stream",
     "text": [
      "[[75.  0.  0.  0.  0.  0.  0.  0.  0.  0.]\n",
      " [ 0. 65.  0.  0.  0.  0.  3.  0.  2.  1.]\n",
      " [ 0.  0. 64.  0.  0.  0.  0.  0.  0.  0.]\n",
      " [ 0.  1.  1. 72.  0.  0.  0.  1.  0.  0.]\n",
      " [ 0.  0.  0.  0. 78.  0.  0.  0.  0.  1.]\n",
      " [ 1.  0.  0.  5.  0. 63.  1.  0.  1.  0.]\n",
      " [ 0.  0.  0.  0.  0.  0. 63.  0.  0.  0.]\n",
      " [ 0.  0.  0.  0.  1.  0.  0. 65.  1.  0.]\n",
      " [ 0. 15.  0.  3.  3.  0.  1.  1. 64.  2.]\n",
      " [ 0.  0.  0.  1.  0.  0.  0.  0.  0. 64.]]\n"
     ]
    }
   ],
   "source": [
    "conf = np.zeros((10, 10))\n",
    "\n",
    "for i in range(len(res)):\n",
    "    conf[res[i]][y_test[i]] += 1\n",
    "\n",
    "print(conf)"
   ]
  },
  {
   "cell_type": "code",
   "execution_count": 13,
   "id": "48c09324",
   "metadata": {},
   "outputs": [
    {
     "name": "stdout",
     "output_type": "stream",
     "text": [
      "테스트 집합에 대한 정확률은 93.60222531293462 %입니다.\n"
     ]
    }
   ],
   "source": [
    "no_correct = 0\n",
    "\n",
    "for i in range(10):\n",
    "    no_correct += conf[i][i]\n",
    "\n",
    "accuracy = no_correct / len(res)\n",
    "\n",
    "print('테스트 집합에 대한 정확률은', accuracy * 100, '%입니다.')"
   ]
  },
  {
   "cell_type": "code",
   "execution_count": null,
   "id": "04b0a761",
   "metadata": {},
   "outputs": [],
   "source": []
  },
  {
   "cell_type": "markdown",
   "id": "bf61c47f",
   "metadata": {},
   "source": [
    "# Iris"
   ]
  },
  {
   "cell_type": "code",
   "execution_count": 1,
   "id": "28a56b8d",
   "metadata": {},
   "outputs": [],
   "source": [
    "from sklearn import datasets"
   ]
  },
  {
   "cell_type": "code",
   "execution_count": 4,
   "id": "a51db50a",
   "metadata": {},
   "outputs": [
    {
     "name": "stdout",
     "output_type": "stream",
     "text": [
      ".. _iris_dataset:\n",
      "\n",
      "Iris plants dataset\n",
      "--------------------\n",
      "\n",
      "**Data Set Characteristics:**\n",
      "\n",
      "    :Number of Instances: 150 (50 in each of three classes)\n",
      "    :Number of Attributes: 4 numeric, predictive attributes and the class\n",
      "    :Attribute Information:\n",
      "        - sepal length in cm\n",
      "        - sepal width in cm\n",
      "        - petal length in cm\n",
      "        - petal width in cm\n",
      "        - class:\n",
      "                - Iris-Setosa\n",
      "                - Iris-Versicolour\n",
      "                - Iris-Virginica\n",
      "                \n",
      "    :Summary Statistics:\n",
      "\n",
      "    ============== ==== ==== ======= ===== ====================\n",
      "                    Min  Max   Mean    SD   Class Correlation\n",
      "    ============== ==== ==== ======= ===== ====================\n",
      "    sepal length:   4.3  7.9   5.84   0.83    0.7826\n",
      "    sepal width:    2.0  4.4   3.05   0.43   -0.4194\n",
      "    petal length:   1.0  6.9   3.76   1.76    0.9490  (high!)\n",
      "    petal width:    0.1  2.5   1.20   0.76    0.9565  (high!)\n",
      "    ============== ==== ==== ======= ===== ====================\n",
      "\n",
      "    :Missing Attribute Values: None\n",
      "    :Class Distribution: 33.3% for each of 3 classes.\n",
      "    :Creator: R.A. Fisher\n",
      "    :Donor: Michael Marshall (MARSHALL%PLU@io.arc.nasa.gov)\n",
      "    :Date: July, 1988\n",
      "\n",
      "The famous Iris database, first used by Sir R.A. Fisher. The dataset is taken\n",
      "from Fisher's paper. Note that it's the same as in R, but not as in the UCI\n",
      "Machine Learning Repository, which has two wrong data points.\n",
      "\n",
      "This is perhaps the best known database to be found in the\n",
      "pattern recognition literature.  Fisher's paper is a classic in the field and\n",
      "is referenced frequently to this day.  (See Duda & Hart, for example.)  The\n",
      "data set contains 3 classes of 50 instances each, where each class refers to a\n",
      "type of iris plant.  One class is linearly separable from the other 2; the\n",
      "latter are NOT linearly separable from each other.\n",
      "\n",
      ".. topic:: References\n",
      "\n",
      "   - Fisher, R.A. \"The use of multiple measurements in taxonomic problems\"\n",
      "     Annual Eugenics, 7, Part II, 179-188 (1936); also in \"Contributions to\n",
      "     Mathematical Statistics\" (John Wiley, NY, 1950).\n",
      "   - Duda, R.O., & Hart, P.E. (1973) Pattern Classification and Scene Analysis.\n",
      "     (Q327.D83) John Wiley & Sons.  ISBN 0-471-22361-1.  See page 218.\n",
      "   - Dasarathy, B.V. (1980) \"Nosing Around the Neighborhood: A New System\n",
      "     Structure and Classification Rule for Recognition in Partially Exposed\n",
      "     Environments\".  IEEE Transactions on Pattern Analysis and Machine\n",
      "     Intelligence, Vol. PAMI-2, No. 1, 67-71.\n",
      "   - Gates, G.W. (1972) \"The Reduced Nearest Neighbor Rule\".  IEEE Transactions\n",
      "     on Information Theory, May 1972, 431-433.\n",
      "   - See also: 1988 MLC Proceedings, 54-64.  Cheeseman et al\"s AUTOCLASS II\n",
      "     conceptual clustering system finds 3 classes in the data.\n",
      "   - Many, many more ...\n"
     ]
    }
   ],
   "source": [
    "d = datasets.load_iris()\n",
    "\n",
    "print(d.DESCR)"
   ]
  },
  {
   "cell_type": "markdown",
   "id": "619a93ab",
   "metadata": {},
   "source": [
    "## SVM"
   ]
  },
  {
   "cell_type": "code",
   "execution_count": 5,
   "id": "1151205e",
   "metadata": {},
   "outputs": [],
   "source": [
    "from sklearn import svm"
   ]
  },
  {
   "cell_type": "code",
   "execution_count": 6,
   "id": "d97e18d9",
   "metadata": {},
   "outputs": [
    {
     "data": {
      "text/html": [
       "<style>#sk-container-id-1 {color: black;background-color: white;}#sk-container-id-1 pre{padding: 0;}#sk-container-id-1 div.sk-toggleable {background-color: white;}#sk-container-id-1 label.sk-toggleable__label {cursor: pointer;display: block;width: 100%;margin-bottom: 0;padding: 0.3em;box-sizing: border-box;text-align: center;}#sk-container-id-1 label.sk-toggleable__label-arrow:before {content: \"▸\";float: left;margin-right: 0.25em;color: #696969;}#sk-container-id-1 label.sk-toggleable__label-arrow:hover:before {color: black;}#sk-container-id-1 div.sk-estimator:hover label.sk-toggleable__label-arrow:before {color: black;}#sk-container-id-1 div.sk-toggleable__content {max-height: 0;max-width: 0;overflow: hidden;text-align: left;background-color: #f0f8ff;}#sk-container-id-1 div.sk-toggleable__content pre {margin: 0.2em;color: black;border-radius: 0.25em;background-color: #f0f8ff;}#sk-container-id-1 input.sk-toggleable__control:checked~div.sk-toggleable__content {max-height: 200px;max-width: 100%;overflow: auto;}#sk-container-id-1 input.sk-toggleable__control:checked~label.sk-toggleable__label-arrow:before {content: \"▾\";}#sk-container-id-1 div.sk-estimator input.sk-toggleable__control:checked~label.sk-toggleable__label {background-color: #d4ebff;}#sk-container-id-1 div.sk-label input.sk-toggleable__control:checked~label.sk-toggleable__label {background-color: #d4ebff;}#sk-container-id-1 input.sk-hidden--visually {border: 0;clip: rect(1px 1px 1px 1px);clip: rect(1px, 1px, 1px, 1px);height: 1px;margin: -1px;overflow: hidden;padding: 0;position: absolute;width: 1px;}#sk-container-id-1 div.sk-estimator {font-family: monospace;background-color: #f0f8ff;border: 1px dotted black;border-radius: 0.25em;box-sizing: border-box;margin-bottom: 0.5em;}#sk-container-id-1 div.sk-estimator:hover {background-color: #d4ebff;}#sk-container-id-1 div.sk-parallel-item::after {content: \"\";width: 100%;border-bottom: 1px solid gray;flex-grow: 1;}#sk-container-id-1 div.sk-label:hover label.sk-toggleable__label {background-color: #d4ebff;}#sk-container-id-1 div.sk-serial::before {content: \"\";position: absolute;border-left: 1px solid gray;box-sizing: border-box;top: 0;bottom: 0;left: 50%;z-index: 0;}#sk-container-id-1 div.sk-serial {display: flex;flex-direction: column;align-items: center;background-color: white;padding-right: 0.2em;padding-left: 0.2em;position: relative;}#sk-container-id-1 div.sk-item {position: relative;z-index: 1;}#sk-container-id-1 div.sk-parallel {display: flex;align-items: stretch;justify-content: center;background-color: white;position: relative;}#sk-container-id-1 div.sk-item::before, #sk-container-id-1 div.sk-parallel-item::before {content: \"\";position: absolute;border-left: 1px solid gray;box-sizing: border-box;top: 0;bottom: 0;left: 50%;z-index: -1;}#sk-container-id-1 div.sk-parallel-item {display: flex;flex-direction: column;z-index: 1;position: relative;background-color: white;}#sk-container-id-1 div.sk-parallel-item:first-child::after {align-self: flex-end;width: 50%;}#sk-container-id-1 div.sk-parallel-item:last-child::after {align-self: flex-start;width: 50%;}#sk-container-id-1 div.sk-parallel-item:only-child::after {width: 0;}#sk-container-id-1 div.sk-dashed-wrapped {border: 1px dashed gray;margin: 0 0.4em 0.5em 0.4em;box-sizing: border-box;padding-bottom: 0.4em;background-color: white;}#sk-container-id-1 div.sk-label label {font-family: monospace;font-weight: bold;display: inline-block;line-height: 1.2em;}#sk-container-id-1 div.sk-label-container {text-align: center;}#sk-container-id-1 div.sk-container {/* jupyter's `normalize.less` sets `[hidden] { display: none; }` but bootstrap.min.css set `[hidden] { display: none !important; }` so we also need the `!important` here to be able to override the default hidden behavior on the sphinx rendered scikit-learn.org. See: https://github.com/scikit-learn/scikit-learn/issues/21755 */display: inline-block !important;position: relative;}#sk-container-id-1 div.sk-text-repr-fallback {display: none;}</style><div id=\"sk-container-id-1\" class=\"sk-top-container\"><div class=\"sk-text-repr-fallback\"><pre>SVC(C=10, gamma=0.1)</pre><b>In a Jupyter environment, please rerun this cell to show the HTML representation or trust the notebook. <br />On GitHub, the HTML representation is unable to render, please try loading this page with nbviewer.org.</b></div><div class=\"sk-container\" hidden><div class=\"sk-item\"><div class=\"sk-estimator sk-toggleable\"><input class=\"sk-toggleable__control sk-hidden--visually\" id=\"sk-estimator-id-1\" type=\"checkbox\" checked><label for=\"sk-estimator-id-1\" class=\"sk-toggleable__label sk-toggleable__label-arrow\">SVC</label><div class=\"sk-toggleable__content\"><pre>SVC(C=10, gamma=0.1)</pre></div></div></div></div></div>"
      ],
      "text/plain": [
       "SVC(C=10, gamma=0.1)"
      ]
     },
     "execution_count": 6,
     "metadata": {},
     "output_type": "execute_result"
    }
   ],
   "source": [
    "s = svm.SVC(gamma=0.1, C=10)\n",
    "s.fit(d.data, d.target)"
   ]
  },
  {
   "cell_type": "code",
   "execution_count": 7,
   "id": "2f651de9",
   "metadata": {},
   "outputs": [],
   "source": [
    "new_d = [[6.4, 3.2, 6.0, 2.5], [7.1, 3.1, 4.7, 1.35]]"
   ]
  },
  {
   "cell_type": "code",
   "execution_count": 8,
   "id": "c192804b",
   "metadata": {},
   "outputs": [
    {
     "name": "stdout",
     "output_type": "stream",
     "text": [
      "새로운 2개 샘플의 부류는 [2 1]\n"
     ]
    }
   ],
   "source": [
    "res = s.predict(new_d)\n",
    "\n",
    "print('새로운 2개 샘플의 부류는', res)"
   ]
  },
  {
   "cell_type": "code",
   "execution_count": 9,
   "id": "5089925b",
   "metadata": {
    "scrolled": true
   },
   "outputs": [
    {
     "name": "stdout",
     "output_type": "stream",
     "text": [
      "Collecting plotly\n",
      "  Downloading plotly-5.9.0-py2.py3-none-any.whl (15.2 MB)\n",
      "     --------------------------------------- 15.2/15.2 MB 20.4 MB/s eta 0:00:00\n",
      "Collecting tenacity>=6.2.0\n",
      "  Downloading tenacity-8.0.1-py3-none-any.whl (24 kB)\n",
      "Installing collected packages: tenacity, plotly\n",
      "Successfully installed plotly-5.9.0 tenacity-8.0.1\n",
      "Note: you may need to restart the kernel to use updated packages.\n"
     ]
    }
   ],
   "source": [
    "pip install plotly"
   ]
  },
  {
   "cell_type": "markdown",
   "id": "dd605fba",
   "metadata": {},
   "source": [
    "## Plotly"
   ]
  },
  {
   "cell_type": "code",
   "execution_count": 1,
   "id": "ccae531d",
   "metadata": {},
   "outputs": [],
   "source": [
    "import plotly.express as px"
   ]
  },
  {
   "cell_type": "code",
   "execution_count": 5,
   "id": "24b84072",
   "metadata": {},
   "outputs": [],
   "source": [
    "df = px.data.iris()\n",
    "\n",
    "fig = px.scatter_3d(df, x='sepal_length', y='sepal_width', z='petal_width', color='species')\n",
    "fig.show(renderer='browser')"
   ]
  },
  {
   "cell_type": "code",
   "execution_count": null,
   "id": "c75237d9",
   "metadata": {},
   "outputs": [],
   "source": []
  },
  {
   "cell_type": "markdown",
   "id": "3d203899",
   "metadata": {},
   "source": [
    "## Mnist modeling"
   ]
  },
  {
   "cell_type": "code",
   "execution_count": 9,
   "id": "ddbba9f5",
   "metadata": {},
   "outputs": [],
   "source": [
    "from sklearn import datasets\n",
    "import matplotlib.pyplot as plt"
   ]
  },
  {
   "cell_type": "code",
   "execution_count": 10,
   "id": "25884e6d",
   "metadata": {},
   "outputs": [],
   "source": [
    "digit = datasets.load_digits()"
   ]
  },
  {
   "cell_type": "code",
   "execution_count": 15,
   "id": "8a2245a3",
   "metadata": {},
   "outputs": [
    {
     "data": {
      "image/png": "[encoded data removed]",
      "text/plain": [
       "<Figure size 360x360 with 1 Axes>"
      ]
     },
     "metadata": {
      "needs_background": "light"
     },
     "output_type": "display_data"
    },
    {
     "name": "stdout",
     "output_type": "stream",
     "text": [
      "[ 0.  0.  5. 13.  9.  1.  0.  0.  0.  0. 13. 15. 10. 15.  5.  0.  0.  3.\n",
      " 15.  2.  0. 11.  8.  0.  0.  4. 12.  0.  0.  8.  8.  0.  0.  5.  8.  0.\n",
      "  0.  9.  8.  0.  0.  4. 11.  0.  1. 12.  7.  0.  0.  2. 14.  5. 10. 12.\n",
      "  0.  0.  0.  0.  6. 13. 10.  0.  0.  0.]\n",
      "이 숫자는 0 입니다.\n"
     ]
    }
   ],
   "source": [
    "plt.figure(figsize=(5, 5))\n",
    "plt.imshow(digit.images[0], cmap=plt.cm.gray_r, interpolation='nearest')\n",
    "\n",
    "plt.show()\n",
    "\n",
    "print(digit.data[0])\n",
    "print('이 숫자는', digit.target[0], '입니다.')"
   ]
  },
  {
   "cell_type": "code",
   "execution_count": null,
   "id": "b9a016b4",
   "metadata": {},
   "outputs": [],
   "source": []
  },
  {
   "cell_type": "code",
   "execution_count": 16,
   "id": "8e20c33a",
   "metadata": {},
   "outputs": [],
   "source": [
    "lfw = datasets.fetch_lfw_people(min_faces_per_person=70, resize=0.4)"
   ]
  },
  {
   "cell_type": "code",
   "execution_count": 17,
   "id": "180f908c",
   "metadata": {},
   "outputs": [
    {
     "data": {
      "image/png": "[encoded data removed]",
      "text/plain": [
       "<Figure size 1440x360 with 8 Axes>"
      ]
     },
     "metadata": {
      "needs_background": "light"
     },
     "output_type": "display_data"
    }
   ],
   "source": [
    "plt.figure(figsize=(20, 5))\n",
    "\n",
    "for i in range(8):\n",
    "    plt.subplot(1, 8, i + 1)\n",
    "    plt.imshow(lfw.images[i], cmap=plt.cm.bone)\n",
    "    plt.title(lfw.target_names[lfw.target[i]])\n",
    "\n",
    "plt.show()"
   ]
  },
  {
   "cell_type": "code",
   "execution_count": null,
   "id": "d9f7b9f0",
   "metadata": {},
   "outputs": [],
   "source": []
  },
  {
   "cell_type": "markdown",
   "id": "dcab7559",
   "metadata": {},
   "source": [
    "## digit SVM"
   ]
  },
  {
   "cell_type": "code",
   "execution_count": 18,
   "id": "abd3abbc",
   "metadata": {},
   "outputs": [],
   "source": [
    "from sklearn import datasets\n",
    "from sklearn import svm\n",
    "from sklearn.model_selection import train_test_split\n",
    "import numpy as np"
   ]
  },
  {
   "cell_type": "code",
   "execution_count": 20,
   "id": "f6cc996a",
   "metadata": {},
   "outputs": [],
   "source": [
    "digit = datasets.load_digits()"
   ]
  },
  {
   "cell_type": "code",
   "execution_count": 21,
   "id": "9d2873cd",
   "metadata": {},
   "outputs": [],
   "source": [
    "X_train, X_test, y_train, y_test = train_test_split(digit.data, digit.target, train_size=0.6)"
   ]
  },
  {
   "cell_type": "code",
   "execution_count": 22,
   "id": "f3617fcf",
   "metadata": {},
   "outputs": [
    {
     "data": {
      "text/html": [
       "<style>#sk-container-id-1 {color: black;background-color: white;}#sk-container-id-1 pre{padding: 0;}#sk-container-id-1 div.sk-toggleable {background-color: white;}#sk-container-id-1 label.sk-toggleable__label {cursor: pointer;display: block;width: 100%;margin-bottom: 0;padding: 0.3em;box-sizing: border-box;text-align: center;}#sk-container-id-1 label.sk-toggleable__label-arrow:before {content: \"▸\";float: left;margin-right: 0.25em;color: #696969;}#sk-container-id-1 label.sk-toggleable__label-arrow:hover:before {color: black;}#sk-container-id-1 div.sk-estimator:hover label.sk-toggleable__label-arrow:before {color: black;}#sk-container-id-1 div.sk-toggleable__content {max-height: 0;max-width: 0;overflow: hidden;text-align: left;background-color: #f0f8ff;}#sk-container-id-1 div.sk-toggleable__content pre {margin: 0.2em;color: black;border-radius: 0.25em;background-color: #f0f8ff;}#sk-container-id-1 input.sk-toggleable__control:checked~div.sk-toggleable__content {max-height: 200px;max-width: 100%;overflow: auto;}#sk-container-id-1 input.sk-toggleable__control:checked~label.sk-toggleable__label-arrow:before {content: \"▾\";}#sk-container-id-1 div.sk-estimator input.sk-toggleable__control:checked~label.sk-toggleable__label {background-color: #d4ebff;}#sk-container-id-1 div.sk-label input.sk-toggleable__control:checked~label.sk-toggleable__label {background-color: #d4ebff;}#sk-container-id-1 input.sk-hidden--visually {border: 0;clip: rect(1px 1px 1px 1px);clip: rect(1px, 1px, 1px, 1px);height: 1px;margin: -1px;overflow: hidden;padding: 0;position: absolute;width: 1px;}#sk-container-id-1 div.sk-estimator {font-family: monospace;background-color: #f0f8ff;border: 1px dotted black;border-radius: 0.25em;box-sizing: border-box;margin-bottom: 0.5em;}#sk-container-id-1 div.sk-estimator:hover {background-color: #d4ebff;}#sk-container-id-1 div.sk-parallel-item::after {content: \"\";width: 100%;border-bottom: 1px solid gray;flex-grow: 1;}#sk-container-id-1 div.sk-label:hover label.sk-toggleable__label {background-color: #d4ebff;}#sk-container-id-1 div.sk-serial::before {content: \"\";position: absolute;border-left: 1px solid gray;box-sizing: border-box;top: 0;bottom: 0;left: 50%;z-index: 0;}#sk-container-id-1 div.sk-serial {display: flex;flex-direction: column;align-items: center;background-color: white;padding-right: 0.2em;padding-left: 0.2em;position: relative;}#sk-container-id-1 div.sk-item {position: relative;z-index: 1;}#sk-container-id-1 div.sk-parallel {display: flex;align-items: stretch;justify-content: center;background-color: white;position: relative;}#sk-container-id-1 div.sk-item::before, #sk-container-id-1 div.sk-parallel-item::before {content: \"\";position: absolute;border-left: 1px solid gray;box-sizing: border-box;top: 0;bottom: 0;left: 50%;z-index: -1;}#sk-container-id-1 div.sk-parallel-item {display: flex;flex-direction: column;z-index: 1;position: relative;background-color: white;}#sk-container-id-1 div.sk-parallel-item:first-child::after {align-self: flex-end;width: 50%;}#sk-container-id-1 div.sk-parallel-item:last-child::after {align-self: flex-start;width: 50%;}#sk-container-id-1 div.sk-parallel-item:only-child::after {width: 0;}#sk-container-id-1 div.sk-dashed-wrapped {border: 1px dashed gray;margin: 0 0.4em 0.5em 0.4em;box-sizing: border-box;padding-bottom: 0.4em;background-color: white;}#sk-container-id-1 div.sk-label label {font-family: monospace;font-weight: bold;display: inline-block;line-height: 1.2em;}#sk-container-id-1 div.sk-label-container {text-align: center;}#sk-container-id-1 div.sk-container {/* jupyter's `normalize.less` sets `[hidden] { display: none; }` but bootstrap.min.css set `[hidden] { display: none !important; }` so we also need the `!important` here to be able to override the default hidden behavior on the sphinx rendered scikit-learn.org. See: https://github.com/scikit-learn/scikit-learn/issues/21755 */display: inline-block !important;position: relative;}#sk-container-id-1 div.sk-text-repr-fallback {display: none;}</style><div id=\"sk-container-id-1\" class=\"sk-top-container\"><div class=\"sk-text-repr-fallback\"><pre>SVC(gamma=0.001)</pre><b>In a Jupyter environment, please rerun this cell to show the HTML representation or trust the notebook. <br />On GitHub, the HTML representation is unable to render, please try loading this page with nbviewer.org.</b></div><div class=\"sk-container\" hidden><div class=\"sk-item\"><div class=\"sk-estimator sk-toggleable\"><input class=\"sk-toggleable__control sk-hidden--visually\" id=\"sk-estimator-id-1\" type=\"checkbox\" checked><label for=\"sk-estimator-id-1\" class=\"sk-toggleable__label sk-toggleable__label-arrow\">SVC</label><div class=\"sk-toggleable__content\"><pre>SVC(gamma=0.001)</pre></div></div></div></div></div>"
      ],
      "text/plain": [
       "SVC(gamma=0.001)"
      ]
     },
     "execution_count": 22,
     "metadata": {},
     "output_type": "execute_result"
    }
   ],
   "source": [
    "s = svm.SVC(gamma=0.001)\n",
    "s.fit(X_train, y_train)"
   ]
  },
  {
   "cell_type": "code",
   "execution_count": 23,
   "id": "d077964e",
   "metadata": {},
   "outputs": [],
   "source": [
    "res = s.predict(X_test)"
   ]
  },
  {
   "cell_type": "code",
   "execution_count": 26,
   "id": "10343063",
   "metadata": {},
   "outputs": [
    {
     "name": "stdout",
     "output_type": "stream",
     "text": [
      "[[70.  0.  0.  0.  0.  0.  0.  0.  0.  0.]\n",
      " [ 0. 65.  0.  0.  0.  0.  0.  0.  0.  0.]\n",
      " [ 0.  0. 82.  0.  0.  0.  0.  0.  0.  0.]\n",
      " [ 0.  0.  0. 72.  0.  0.  0.  0.  0.  0.]\n",
      " [ 0.  0.  0.  0. 70.  0.  0.  0.  0.  0.]\n",
      " [ 0.  0.  0.  1.  0. 76.  0.  0.  0.  1.]\n",
      " [ 0.  0.  0.  0.  0.  0. 64.  0.  0.  0.]\n",
      " [ 0.  0.  0.  0.  0.  0.  0. 71.  0.  2.]\n",
      " [ 0.  0.  0.  0.  0.  0.  0.  0. 72.  1.]\n",
      " [ 0.  0.  0.  0.  0.  0.  0.  0.  0. 72.]]\n"
     ]
    }
   ],
   "source": [
    "conf = np.zeros((10, 10))\n",
    "\n",
    "for i in range(len(res)):\n",
    "    conf[res[i]][y_test[i]] += 1\n",
    "\n",
    "print(conf)"
   ]
  },
  {
   "cell_type": "code",
   "execution_count": 27,
   "id": "e36d5248",
   "metadata": {},
   "outputs": [
    {
     "name": "stdout",
     "output_type": "stream",
     "text": [
      "테스트 집합에 대한 정확률은 99.30458970792768 %입니다.\n"
     ]
    }
   ],
   "source": [
    "no_correct = 0\n",
    "\n",
    "for i in range(10):\n",
    "    no_correct += conf[i][i]\n",
    "\n",
    "accuracy = no_correct / len(res)\n",
    "\n",
    "print('테스트 집합에 대한 정확률은', accuracy * 100, '%입니다.')"
   ]
  },
  {
   "cell_type": "code",
   "execution_count": null,
   "id": "73548970",
   "metadata": {},
   "outputs": [],
   "source": []
  },
  {
   "cell_type": "markdown",
   "id": "be141171",
   "metadata": {},
   "source": [
    "# Opencv Python"
   ]
  },
  {
   "cell_type": "markdown",
   "id": "27e5441d",
   "metadata": {},
   "source": [
    "## load Image"
   ]
  },
  {
   "cell_type": "code",
   "execution_count": 1,
   "id": "d7feacac",
   "metadata": {},
   "outputs": [],
   "source": [
    "# pip install opencv-python"
   ]
  },
  {
   "cell_type": "code",
   "execution_count": 2,
   "id": "ce978771",
   "metadata": {},
   "outputs": [],
   "source": [
    "import cv2"
   ]
  },
  {
   "cell_type": "code",
   "execution_count": 3,
   "id": "2d99fa8a",
   "metadata": {},
   "outputs": [],
   "source": [
    "image = cv2.imread('./Dataset/lion.jpg')"
   ]
  },
  {
   "cell_type": "code",
   "execution_count": 5,
   "id": "53c516d3",
   "metadata": {},
   "outputs": [],
   "source": [
    "cv2.imshow('Lion', image)\n",
    "cv2.waitKey()\n",
    "cv2.destroyAllWindows()"
   ]
  },
  {
   "cell_type": "markdown",
   "id": "e46a2e85",
   "metadata": {},
   "source": [
    "## Image shape"
   ]
  },
  {
   "cell_type": "code",
   "execution_count": 6,
   "id": "374e9a81",
   "metadata": {},
   "outputs": [
    {
     "name": "stdout",
     "output_type": "stream",
     "text": [
      "960 1280 3\n"
     ]
    }
   ],
   "source": [
    "height, width, channel = image.shape\n",
    "\n",
    "print(height, width, channel)"
   ]
  },
  {
   "cell_type": "markdown",
   "id": "e9ed2ab4",
   "metadata": {},
   "source": [
    "## Image reflection"
   ]
  },
  {
   "cell_type": "code",
   "execution_count": 7,
   "id": "f5757227",
   "metadata": {},
   "outputs": [],
   "source": [
    "image_flip = cv2.flip(image, 0)"
   ]
  },
  {
   "cell_type": "code",
   "execution_count": 8,
   "id": "4fa85efd",
   "metadata": {},
   "outputs": [],
   "source": [
    "cv2.imshow('image', image)\n",
    "cv2.imshow('image_flip', image_flip)\n",
    "cv2.waitKey()\n",
    "cv2.destroyAllWindows()"
   ]
  },
  {
   "cell_type": "markdown",
   "id": "840dcd10",
   "metadata": {},
   "source": [
    "## Image rotation"
   ]
  },
  {
   "cell_type": "code",
   "execution_count": 11,
   "id": "6f7d9e1c",
   "metadata": {},
   "outputs": [],
   "source": [
    "matrix = cv2.getRotationMatrix2D((width / 2, height / 2), 90, 1)\n",
    "image_rot = cv2.warpAffine(image, matrix, (width, height))"
   ]
  },
  {
   "cell_type": "code",
   "execution_count": 12,
   "id": "e9b71215",
   "metadata": {},
   "outputs": [],
   "source": [
    "cv2.imshow('image', image)\n",
    "cv2.imshow('image_rot', image_rot)\n",
    "cv2.waitKey()\n",
    "cv2.destroyAllWindows()"
   ]
  },
  {
   "cell_type": "markdown",
   "id": "5ffb0b09",
   "metadata": {},
   "source": [
    "## Image enlargement"
   ]
  },
  {
   "cell_type": "code",
   "execution_count": 14,
   "id": "19b68632",
   "metadata": {},
   "outputs": [],
   "source": [
    "image_pyrUp = cv2.pyrUp(image, dstsize=(width * 2, height * 2), borderType=cv2.BORDER_DEFAULT)\n",
    "image_pyrDn = cv2.pyrDown(image)"
   ]
  },
  {
   "cell_type": "code",
   "execution_count": 15,
   "id": "baae68bf",
   "metadata": {},
   "outputs": [],
   "source": [
    "cv2.imshow('Image', image)\n",
    "cv2.imshow('image_pyrUp', image_pyrUp)\n",
    "cv2.imshow('image_pyrDn', image_pyrDn)\n",
    "cv2.waitKey()\n",
    "cv2.destroyAllWindows()"
   ]
  },
  {
   "cell_type": "markdown",
   "id": "8ea40a20",
   "metadata": {},
   "source": [
    "## Image scaling"
   ]
  },
  {
   "cell_type": "code",
   "execution_count": 3,
   "id": "fcd2b38c",
   "metadata": {},
   "outputs": [],
   "source": [
    "img = cv2.imread('./Dataset/cat.jpg')"
   ]
  },
  {
   "cell_type": "code",
   "execution_count": 18,
   "id": "60846312",
   "metadata": {},
   "outputs": [],
   "source": [
    "img_rs1 = cv2.resize(img, dsize=(640, 480), interpolation=cv2.INTER_AREA)\n",
    "img_rs2 = cv2.resize(img, dsize=(0, 0), fx=0.3, fy=0.7, interpolation=cv2.INTER_LINEAR)"
   ]
  },
  {
   "cell_type": "code",
   "execution_count": 19,
   "id": "f796f4ed",
   "metadata": {},
   "outputs": [],
   "source": [
    "cv2.imshow('img', img)\n",
    "cv2.imshow('img_rs1', img_rs1)\n",
    "cv2.imshow('img_rs2', img_rs2)\n",
    "cv2.waitKey()\n",
    "cv2.destroyAllWindows()"
   ]
  },
  {
   "cell_type": "markdown",
   "id": "3fa04dc0",
   "metadata": {},
   "source": [
    "## Image cutting"
   ]
  },
  {
   "cell_type": "code",
   "execution_count": 4,
   "id": "1f59ac09",
   "metadata": {},
   "outputs": [],
   "source": [
    "img_cut = img[100:600, 200:700].copy()"
   ]
  },
  {
   "cell_type": "code",
   "execution_count": 5,
   "id": "eb8ff1ad",
   "metadata": {},
   "outputs": [],
   "source": [
    "cv2.imshow('img', img)\n",
    "cv2.imshow('img_cut', img_cut)\n",
    "cv2.waitKey()\n",
    "cv2.destroyAllWindows()"
   ]
  },
  {
   "cell_type": "markdown",
   "id": "54324151",
   "metadata": {},
   "source": [
    "## Image convert color"
   ]
  },
  {
   "cell_type": "code",
   "execution_count": 6,
   "id": "37d8409a",
   "metadata": {},
   "outputs": [],
   "source": [
    "img_gray = cv2.cvtColor(img, cv2.COLOR_BGR2GRAY)"
   ]
  },
  {
   "cell_type": "code",
   "execution_count": 7,
   "id": "b805f7f5",
   "metadata": {},
   "outputs": [],
   "source": [
    "cv2.imshow('img', img)\n",
    "cv2.imshow('img_gray', img_gray)\n",
    "cv2.waitKey()\n",
    "cv2.destroyAllWindows()"
   ]
  },
  {
   "cell_type": "markdown",
   "id": "db4eedbe",
   "metadata": {},
   "source": [
    "## Image reverse"
   ]
  },
  {
   "cell_type": "code",
   "execution_count": 8,
   "id": "e7775030",
   "metadata": {},
   "outputs": [],
   "source": [
    "img_rvs = cv2.bitwise_not(img)"
   ]
  },
  {
   "cell_type": "code",
   "execution_count": 9,
   "id": "d1728d46",
   "metadata": {},
   "outputs": [],
   "source": [
    "cv2.imshow('img', img)\n",
    "cv2.imshow('img_rvs', img_rvs)\n",
    "cv2.waitKey()\n",
    "cv2.destroyAllWindows()"
   ]
  },
  {
   "cell_type": "markdown",
   "id": "2302a723",
   "metadata": {},
   "source": [
    "## Image binary"
   ]
  },
  {
   "cell_type": "code",
   "execution_count": 12,
   "id": "19b34c9a",
   "metadata": {},
   "outputs": [],
   "source": [
    "ret, img_bnry = cv2.threshold(img_gray, 100, 255, cv2.THRESH_BINARY)"
   ]
  },
  {
   "cell_type": "code",
   "execution_count": 13,
   "id": "0f9875dc",
   "metadata": {},
   "outputs": [],
   "source": [
    "cv2.imshow('img_bnry', img_bnry)\n",
    "cv2.waitKey()\n",
    "cv2.destroyAllWindows()"
   ]
  },
  {
   "cell_type": "markdown",
   "id": "cf54db78",
   "metadata": {},
   "source": [
    "## Image blurring"
   ]
  },
  {
   "cell_type": "code",
   "execution_count": 14,
   "id": "240f22da",
   "metadata": {},
   "outputs": [],
   "source": [
    "img_blur = cv2.blur(img, (9, 9), anchor=(-1, -1), borderType=cv2.BORDER_DEFAULT)"
   ]
  },
  {
   "cell_type": "code",
   "execution_count": 15,
   "id": "4b979d2d",
   "metadata": {},
   "outputs": [],
   "source": [
    "cv2.imshow('img_blur', img_blur)\n",
    "cv2.waitKey()\n",
    "cv2.destroyAllWindows()"
   ]
  },
  {
   "cell_type": "markdown",
   "id": "a7b1ac55",
   "metadata": {},
   "source": [
    "## Image Edge"
   ]
  },
  {
   "cell_type": "code",
   "execution_count": 7,
   "id": "998d0ab9",
   "metadata": {},
   "outputs": [],
   "source": [
    "img_sobel = cv2.Sobel(img_gray, cv2.CV_8U, 1, 0, 3)\n",
    "img_lpcn = cv2.Laplacian(img_gray, cv2.CV_8U, ksize=3)\n",
    "img_cny = cv2.Canny(img, 100, 255)"
   ]
  },
  {
   "cell_type": "code",
   "execution_count": 9,
   "id": "59e00097",
   "metadata": {
    "scrolled": true
   },
   "outputs": [],
   "source": [
    "cv2.imshow('img_sobel', img_sobel)\n",
    "cv2.imshow('img_lpcn', img_lpcn)\n",
    "cv2.imshow('img_cny', img_cny)\n",
    "cv2.waitKey()\n",
    "cv2.destroyAllWindows()"
   ]
  },
  {
   "cell_type": "code",
   "execution_count": null,
   "id": "617e213b",
   "metadata": {},
   "outputs": [],
   "source": []
  },
  {
   "cell_type": "markdown",
   "id": "c3625070",
   "metadata": {},
   "source": [
    "# KNN"
   ]
  },
  {
   "cell_type": "code",
   "execution_count": 13,
   "id": "5a36498e",
   "metadata": {},
   "outputs": [],
   "source": [
    "import cv2\n",
    "import numpy as np\n",
    "import matplotlib.pyplot as plt"
   ]
  },
  {
   "cell_type": "code",
   "execution_count": 14,
   "id": "a0c5d737",
   "metadata": {},
   "outputs": [],
   "source": [
    "trainData = np.random.randint(0, 100, (25, 2)).astype(np.float32)\n",
    "response = np.random.randint(0, 2, (25, 1)).astype(np.float32)"
   ]
  },
  {
   "cell_type": "code",
   "execution_count": 19,
   "id": "5a2243c3",
   "metadata": {},
   "outputs": [
    {
     "data": {
      "text/plain": [
       "<matplotlib.collections.PathCollection at 0x1bf968e2580>"
      ]
     },
     "execution_count": 19,
     "metadata": {},
     "output_type": "execute_result"
    },
    {
     "data": {
      "image/png": "[encoded data removed]",
      "text/plain": [
       "<Figure size 432x288 with 1 Axes>"
      ]
     },
     "metadata": {
      "needs_background": "light"
     },
     "output_type": "display_data"
    }
   ],
   "source": [
    "red = trainData[response.ravel() == 0]\n",
    "plt.scatter(red[:, 0], red[:, 1], 80, 'r', '^')\n",
    "\n",
    "blue = trainData[response.ravel() == 1]\n",
    "plt.scatter(blue[:, 0], blue[:, 1], 90, 'b', 's')\n",
    "\n",
    "newcomer = np.random.randint(0, 100, (1, 2)).astype(np.float32)\n",
    "plt.scatter(newcomer[:, 0], newcomer[:, 1], 80, 'g', 'o')"
   ]
  },
  {
   "cell_type": "code",
   "execution_count": 23,
   "id": "d5c6ff13",
   "metadata": {},
   "outputs": [],
   "source": [
    "knn = cv2.ml.KNearest_create()\n",
    "knn.train(trainData, cv2.ml.ROW_SAMPLE, response)\n",
    "ret, results, neighbors, dist = knn.findNearest(newcomer, 3)"
   ]
  },
  {
   "cell_type": "code",
   "execution_count": 25,
   "id": "e928cbe0",
   "metadata": {},
   "outputs": [
    {
     "name": "stdout",
     "output_type": "stream",
     "text": [
      "result : [[1.]]\n",
      "neighbors : [[1. 1. 0.]]\n",
      "distance : [[ 82. 160. 576.]]\n"
     ]
    }
   ],
   "source": [
    "print('result :', results)\n",
    "print('neighbors :', neighbors)\n",
    "print('distance :', dist)\n",
    "plt.show()"
   ]
  },
  {
   "cell_type": "code",
   "execution_count": null,
   "id": "d29d505f",
   "metadata": {},
   "outputs": [],
   "source": []
  },
  {
   "cell_type": "markdown",
   "id": "f9942c69",
   "metadata": {},
   "source": [
    "## 숫자인식"
   ]
  },
  {
   "cell_type": "code",
   "execution_count": 99,
   "id": "02267d7f",
   "metadata": {},
   "outputs": [],
   "source": [
    "import cv2\n",
    "import numpy as np\n",
    "import matplotlib.pyplot as plt\n",
    "import glob"
   ]
  },
  {
   "cell_type": "code",
   "execution_count": 100,
   "id": "ff092f02",
   "metadata": {},
   "outputs": [],
   "source": [
    "img = cv2.imread('./Dataset/digits.png')\n",
    "img_gray = cv2.cvtColor(img, cv2.COLOR_BGR2GRAY)"
   ]
  },
  {
   "cell_type": "code",
   "execution_count": 101,
   "id": "9a770748",
   "metadata": {},
   "outputs": [
    {
     "name": "stdout",
     "output_type": "stream",
     "text": [
      "(50, 100, 20, 20)\n"
     ]
    }
   ],
   "source": [
    "cells = [np.hsplit(row, 100) for row in np.vsplit(img_gray, 50)]\n",
    "\n",
    "x = np.array(cells)\n",
    "print(x.shape)"
   ]
  },
  {
   "cell_type": "code",
   "execution_count": 102,
   "id": "4417b7e1",
   "metadata": {},
   "outputs": [
    {
     "name": "stdout",
     "output_type": "stream",
     "text": [
      "(5000, 400)\n"
     ]
    }
   ],
   "source": [
    "train = x.reshape(-1, 400).astype(np.float32)\n",
    "print(train.shape)"
   ]
  },
  {
   "cell_type": "code",
   "execution_count": 103,
   "id": "25b239fe",
   "metadata": {},
   "outputs": [
    {
     "name": "stdout",
     "output_type": "stream",
     "text": [
      "(5000, 1)\n"
     ]
    }
   ],
   "source": [
    "k = np.arange(10)\n",
    "\n",
    "train_labels = np.repeat(k, 500)[:, np.newaxis]\n",
    "print(train_labels.shape)"
   ]
  },
  {
   "cell_type": "code",
   "execution_count": 104,
   "id": "ce53004f",
   "metadata": {},
   "outputs": [],
   "source": [
    "np.savez('./Dataset/trained.npz', train=train, train_labels=train_labels)"
   ]
  },
  {
   "cell_type": "code",
   "execution_count": 36,
   "id": "23b75f8b",
   "metadata": {},
   "outputs": [
    {
     "data": {
      "image/png": "[encoded data removed]",
      "text/plain": [
       "<Figure size 432x288 with 1 Axes>"
      ]
     },
     "metadata": {
      "needs_background": "light"
     },
     "output_type": "display_data"
    }
   ],
   "source": [
    "plt.imshow(cv2.cvtColor(x[0, 0], cv2.COLOR_GRAY2RGB))\n",
    "plt.show()"
   ]
  },
  {
   "cell_type": "code",
   "execution_count": 37,
   "id": "913d828f",
   "metadata": {},
   "outputs": [
    {
     "data": {
      "text/plain": [
       "True"
      ]
     },
     "execution_count": 37,
     "metadata": {},
     "output_type": "execute_result"
    }
   ],
   "source": [
    "cv2.imwrite('./Dataset/test_0.png', x[0, 0])\n",
    "cv2.imwrite('./Dataset/test_1.png', x[5, 0])\n",
    "cv2.imwrite('./Dataset/test_2.png', x[10, 0])\n",
    "cv2.imwrite('./Dataset/test_3.png', x[15, 0])\n",
    "cv2.imwrite('./Dataset/test_4.png', x[20, 0])\n",
    "cv2.imwrite('./Dataset/test_5.png', x[25, 0])\n",
    "cv2.imwrite('./Dataset/test_6.png', x[30, 0])\n",
    "cv2.imwrite('./Dataset/test_7.png', x[35, 0])\n",
    "cv2.imwrite('./Dataset/test_8.png', x[40, 0])\n",
    "cv2.imwrite('./Dataset/test_9.png', x[45, 0])"
   ]
  },
  {
   "cell_type": "code",
   "execution_count": null,
   "id": "17749c97",
   "metadata": {},
   "outputs": [],
   "source": []
  },
  {
   "cell_type": "code",
   "execution_count": 105,
   "id": "e7c25b7a",
   "metadata": {},
   "outputs": [],
   "source": [
    "def load_train_data(file_name):\n",
    "    with np.load(file_name) as data:\n",
    "        train = data['train']\n",
    "        train_label = data['train_labels']\n",
    "        \n",
    "    return train, train_labels"
   ]
  },
  {
   "cell_type": "code",
   "execution_count": 106,
   "id": "9ed12740",
   "metadata": {},
   "outputs": [],
   "source": [
    "def resize20(image):\n",
    "    img = cv2.imread(image)\n",
    "    img_gray = cv2.cvtColor(img, cv2.COLOR_BGR2GRAY)\n",
    "    img_gray_resize = cv2.resize(img_gray, (20, 20))\n",
    "    plt.imshow(cv2.cvtColor(img_gray_resize, cv2.COLOR_GRAY2RGB))\n",
    "    plt.show()\n",
    "    \n",
    "    return img_gray_resize.reshape(-1, 400).astype(np.float32)"
   ]
  },
  {
   "cell_type": "code",
   "execution_count": 126,
   "id": "17f84e14",
   "metadata": {},
   "outputs": [],
   "source": [
    "def check(test, train, train_labels):\n",
    "    knn = cv2.ml.KNearest_create()\n",
    "    knn.train(train, cv2.ml.ROW_SAMPLE, train_labels)\n",
    "    \n",
    "    ret, result, neighbors, dist = knn.findNearest(test, k=5)\n",
    "    \n",
    "    return result"
   ]
  },
  {
   "cell_type": "code",
   "execution_count": 123,
   "id": "1a721183",
   "metadata": {},
   "outputs": [],
   "source": [
    "train, train_labels = load_train_data('./Dataset/trained.npz')"
   ]
  },
  {
   "cell_type": "code",
   "execution_count": 13,
   "id": "236cc3f3",
   "metadata": {},
   "outputs": [
    {
     "data": {
      "image/png": "[encoded data removed]",
      "text/plain": [
       "<Figure size 432x288 with 1 Axes>"
      ]
     },
     "metadata": {
      "needs_background": "light"
     },
     "output_type": "display_data"
    },
    {
     "name": "stdout",
     "output_type": "stream",
     "text": [
      "[[0.]]\n"
     ]
    },
    {
     "data": {
      "image/png": "[encoded data removed]",
      "text/plain": [
       "<Figure size 432x288 with 1 Axes>"
      ]
     },
     "metadata": {
      "needs_background": "light"
     },
     "output_type": "display_data"
    },
    {
     "name": "stdout",
     "output_type": "stream",
     "text": [
      "[[1.]]\n"
     ]
    },
    {
     "data": {
      "image/png": "[encoded data removed]",
      "text/plain": [
       "<Figure size 432x288 with 1 Axes>"
      ]
     },
     "metadata": {
      "needs_background": "light"
     },
     "output_type": "display_data"
    },
    {
     "name": "stdout",
     "output_type": "stream",
     "text": [
      "[[2.]]\n"
     ]
    },
    {
     "data": {
      "image/png": "[encoded data removed]",
      "text/plain": [
       "<Figure size 432x288 with 1 Axes>"
      ]
     },
     "metadata": {
      "needs_background": "light"
     },
     "output_type": "display_data"
    },
    {
     "name": "stdout",
     "output_type": "stream",
     "text": [
      "[[3.]]\n"
     ]
    },
    {
     "data": {
      "image/png": "[encoded data removed]",
      "text/plain": [
       "<Figure size 432x288 with 1 Axes>"
      ]
     },
     "metadata": {
      "needs_background": "light"
     },
     "output_type": "display_data"
    },
    {
     "name": "stdout",
     "output_type": "stream",
     "text": [
      "[[4.]]\n"
     ]
    },
    {
     "data": {
      "image/png": "[encoded data removed]",
      "text/plain": [
       "<Figure size 432x288 with 1 Axes>"
      ]
     },
     "metadata": {
      "needs_background": "light"
     },
     "output_type": "display_data"
    },
    {
     "name": "stdout",
     "output_type": "stream",
     "text": [
      "[[5.]]\n"
     ]
    },
    {
     "data": {
      "image/png": "[encoded data removed]",
      "text/plain": [
       "<Figure size 432x288 with 1 Axes>"
      ]
     },
     "metadata": {
      "needs_background": "light"
     },
     "output_type": "display_data"
    },
    {
     "name": "stdout",
     "output_type": "stream",
     "text": [
      "[[6.]]\n"
     ]
    },
    {
     "data": {
      "image/png": "[encoded data removed]",
      "text/plain": [
       "<Figure size 432x288 with 1 Axes>"
      ]
     },
     "metadata": {
      "needs_background": "light"
     },
     "output_type": "display_data"
    },
    {
     "name": "stdout",
     "output_type": "stream",
     "text": [
      "[[7.]]\n"
     ]
    },
    {
     "data": {
      "image/png": "[encoded data removed]",
      "text/plain": [
       "<Figure size 432x288 with 1 Axes>"
      ]
     },
     "metadata": {
      "needs_background": "light"
     },
     "output_type": "display_data"
    },
    {
     "name": "stdout",
     "output_type": "stream",
     "text": [
      "[[8.]]\n"
     ]
    },
    {
     "data": {
      "image/png": "[encoded data removed]",
      "text/plain": [
       "<Figure size 432x288 with 1 Axes>"
      ]
     },
     "metadata": {
      "needs_background": "light"
     },
     "output_type": "display_data"
    },
    {
     "name": "stdout",
     "output_type": "stream",
     "text": [
      "[[9.]]\n"
     ]
    }
   ],
   "source": [
    "for file_name in glob.glob('./Dataset/test_*.png'):\n",
    "    test = resize20(file_name)\n",
    "    result = check(test, train, train_labels)\n",
    "    print(result)"
   ]
  },
  {
   "cell_type": "code",
   "execution_count": 124,
   "id": "deb08d74",
   "metadata": {},
   "outputs": [],
   "source": [
    "x_start, y_start = 0, 0\n",
    "def on_mouse(event, x, y, flags, _):\n",
    "    global x_start, y_start\n",
    "    \n",
    "    if event == cv2.EVENT_LBUTTONDOWN:\n",
    "        x_start, y_start = x, y\n",
    "    elif event == cv2.EVENT_LBUTTONUP:\n",
    "        x_start, y_start = 0, 0\n",
    "    elif event == cv2.EVENT_MOUSEMOVE:\n",
    "        if flags & cv2.EVENT_FLAG_LBUTTON:\n",
    "            cv2.line(img_bg, (x_start, y_start), (x, y), (255, 255, 255), 40, cv2.LINE_8)\n",
    "            x_start, y_start = x, y\n",
    "            cv2.imshow('img_bg', img_bg)"
   ]
  },
  {
   "cell_type": "code",
   "execution_count": 125,
   "id": "9108b35e",
   "metadata": {},
   "outputs": [
    {
     "name": "stdout",
     "output_type": "stream",
     "text": [
      "7.0\n",
      "[[7.]]\n",
      "7.0\n",
      "[[7.]]\n"
     ]
    }
   ],
   "source": [
    "img_bg = np.zeros((400, 400), np.uint8)\n",
    "\n",
    "cv2.imshow('img_bg', img_bg)\n",
    "cv2.setMouseCallback('img_bg', on_mouse)\n",
    "\n",
    "while True:\n",
    "    key = cv2.waitKey()\n",
    "    \n",
    "    if key == 27:\n",
    "        break\n",
    "    elif key == ord(' '):\n",
    "        test_image = cv2.resize(img_bg, (20, 20), interpolation=cv2.INTER_AREA)\n",
    "        test_image = test_image.reshape(-1, 400).astype(np.float32)\n",
    "        \n",
    "        result = check(test_image, train, train_labels)\n",
    "        print(result)\n",
    "        \n",
    "        img_bg.fill(0)\n",
    "        cv2.imshow('img_bg', img_bg)\n",
    "\n",
    "cv2.destroyAllWindows()"
   ]
  },
  {
   "cell_type": "code",
   "execution_count": null,
   "id": "a11677c7",
   "metadata": {},
   "outputs": [],
   "source": []
  }
 ],
 "metadata": {
  "kernelspec": {
   "display_name": "myml",
   "language": "python",
   "name": "myml"
  },
  "language_info": {
   "codemirror_mode": {
    "name": "ipython",
    "version": 3
   },
   "file_extension": ".py",
   "mimetype": "text/x-python",
   "name": "python",
   "nbconvert_exporter": "python",
   "pygments_lexer": "ipython3",
   "version": "3.8.0"
  }
 },
 "nbformat": 4,
 "nbformat_minor": 5
}
