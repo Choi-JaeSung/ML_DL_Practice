{
 "cells": [
  {
   "cell_type": "markdown",
   "id": "45e4404a-f0c4-43d9-bb85-382facc38db7",
   "metadata": {},
   "source": [
    "# Multi Perceptron"
   ]
  },
  {
   "cell_type": "code",
   "execution_count": null,
   "id": "0e202dee-34d6-498a-a4c0-332fb0008430",
   "metadata": {},
   "outputs": [],
   "source": []
  }
 ],
 "metadata": {
  "kernelspec": {
   "display_name": "myml",
   "language": "python",
   "name": "myml"
  },
  "language_info": {
   "codemirror_mode": {
    "name": "ipython",
    "version": 3
   },
   "file_extension": ".py",
   "mimetype": "text/x-python",
   "name": "python",
   "nbconvert_exporter": "python",
   "pygments_lexer": "ipython3",
   "version": "3.8.0"
  }
 },
 "nbformat": 4,
 "nbformat_minor": 5
}
