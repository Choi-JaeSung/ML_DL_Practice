{
 "cells": [
  {
   "cell_type": "markdown",
   "id": "e2195272-9b88-4aa1-81bf-511f32f90a9a",
   "metadata": {
    "tags": []
   },
   "source": [
    "[Numpy site](https://numpy.org/)"
   ]
  },
  {
   "cell_type": "markdown",
   "id": "c9052150-030e-4b80-a252-8f8caa0f7ffc",
   "metadata": {},
   "source": [
    "<!-- ![numpy_vec](https://mblogthumb-phinf.pstatic.net/MjAyMTEwMDZfMTQz/MDAxNjMzNTA3ODg4MDI0.TK4Ec09t6G0wuT1fe_Utg_8cCwm_qsnycmMqq1K90V4g.bAeGD3GjsZcICBwQD0q6cFUtFlz9fXiOhH4eyVO7IUsg.JPEG.swedu_et/What-is-NumPy-in-Python.jpg?type=w800) -->\n",
    "\n",
    "<img src='https://mblogthumb-phinf.pstatic.net/MjAyMTEwMDZfMTQz/MDAxNjMzNTA3ODg4MDI0.TK4Ec09t6G0wuT1fe_Utg_8cCwm_qsnycmMqq1K90V4g.bAeGD3GjsZcICBwQD0q6cFUtFlz9fXiOhH4eyVO7IUsg.JPEG.swedu_et/What-is-NumPy-in-Python.jpg?type=w800' width='800'>"
   ]
  },
  {
   "cell_type": "markdown",
   "id": "54b86083-39a0-4fd1-b078-ebc988bc4380",
   "metadata": {},
   "source": [
    "* 이것은\n",
    "* 넘파이\n",
    "* 실습입니다"
   ]
  },
  {
   "cell_type": "markdown",
   "id": "81c484a6-41af-49ee-b88d-f47b2481f54c",
   "metadata": {},
   "source": [
    "# Numpy tutorial"
   ]
  },
  {
   "cell_type": "code",
   "execution_count": 1,
   "id": "24c4db0e-8136-4c08-9679-e8156872aeed",
   "metadata": {},
   "outputs": [],
   "source": [
    "score = [12, 34, 56]"
   ]
  },
  {
   "cell_type": "code",
   "execution_count": 2,
   "id": "6c133fa0-3307-42be-a7a0-e708e1c82ac7",
   "metadata": {},
   "outputs": [],
   "source": [
    "# score_new = []"
   ]
  },
  {
   "cell_type": "code",
   "execution_count": 3,
   "id": "65859e65-0473-4f98-8aa2-1c745f662fad",
   "metadata": {},
   "outputs": [],
   "source": [
    "# for s in score:\n",
    "#     s = s + 3\n",
    "#     score_new.append(s)"
   ]
  },
  {
   "cell_type": "code",
   "execution_count": 4,
   "id": "af402e5e-bd57-4ff1-833e-3ca99e2b45ee",
   "metadata": {},
   "outputs": [],
   "source": [
    "# score_new"
   ]
  },
  {
   "cell_type": "code",
   "execution_count": 5,
   "id": "25305437-a27f-402f-bc5f-63e4f3f617b0",
   "metadata": {},
   "outputs": [],
   "source": [
    "for i, s in enumerate(score):\n",
    "    score[i] = s + 3"
   ]
  },
  {
   "cell_type": "code",
   "execution_count": 6,
   "id": "3103396e-5648-4c1a-8c21-b65d77ffcb9a",
   "metadata": {},
   "outputs": [
    {
     "data": {
      "text/plain": [
       "[15, 37, 59]"
      ]
     },
     "execution_count": 6,
     "metadata": {},
     "output_type": "execute_result"
    }
   ],
   "source": [
    "score"
   ]
  },
  {
   "cell_type": "code",
   "execution_count": 7,
   "id": "1629fd9b-1233-4297-a1bf-99400c402d0d",
   "metadata": {},
   "outputs": [
    {
     "name": "stdout",
     "output_type": "stream",
     "text": [
      "Requirement already satisfied: numpy in c:\\users\\user\\anaconda3\\envs\\myml\\lib\\site-packages (1.23.1)\n"
     ]
    }
   ],
   "source": [
    "!pip install numpy"
   ]
  },
  {
   "cell_type": "code",
   "execution_count": 8,
   "id": "65983b0e-d6c6-4f55-b9c5-85d77660dbab",
   "metadata": {},
   "outputs": [
    {
     "data": {
      "text/plain": [
       "'1.23.1'"
      ]
     },
     "execution_count": 8,
     "metadata": {},
     "output_type": "execute_result"
    }
   ],
   "source": [
    "import numpy as np\n",
    "\n",
    "np.__version__"
   ]
  },
  {
   "cell_type": "code",
   "execution_count": 9,
   "id": "f45c65e7-bdbd-4734-8004-16cee0c9635f",
   "metadata": {},
   "outputs": [
    {
     "data": {
      "text/plain": [
       "list"
      ]
     },
     "execution_count": 9,
     "metadata": {},
     "output_type": "execute_result"
    }
   ],
   "source": [
    "a = [1]\n",
    "type(a)"
   ]
  },
  {
   "cell_type": "code",
   "execution_count": 10,
   "id": "1073331d-f61d-44e8-b85d-13e978d6542e",
   "metadata": {},
   "outputs": [
    {
     "data": {
      "text/plain": [
       "tuple"
      ]
     },
     "execution_count": 10,
     "metadata": {},
     "output_type": "execute_result"
    }
   ],
   "source": [
    "x = (10,)\n",
    "type(x)"
   ]
  },
  {
   "cell_type": "markdown",
   "id": "59081b9e-3881-4efc-871f-4ac294a9061f",
   "metadata": {},
   "source": [
    "## ndarray 클래스"
   ]
  },
  {
   "cell_type": "code",
   "execution_count": 11,
   "id": "bd07cc52-50e1-4950-a49e-8818f906d60e",
   "metadata": {},
   "outputs": [
    {
     "name": "stdout",
     "output_type": "stream",
     "text": [
      "[23 45 56 76]\n"
     ]
    },
    {
     "data": {
      "text/plain": [
       "array([23, 45, 56, 76])"
      ]
     },
     "execution_count": 11,
     "metadata": {},
     "output_type": "execute_result"
    }
   ],
   "source": [
    "xarr = np.array([23, 45, 56, 76])\n",
    "print(xarr)\n",
    "xarr"
   ]
  },
  {
   "cell_type": "code",
   "execution_count": 12,
   "id": "aab73a9a-7fcc-42d0-93e2-fa6b2a5fc70d",
   "metadata": {},
   "outputs": [
    {
     "data": {
      "text/plain": [
       "numpy.ndarray"
      ]
     },
     "execution_count": 12,
     "metadata": {},
     "output_type": "execute_result"
    }
   ],
   "source": [
    "type(xarr)"
   ]
  },
  {
   "cell_type": "code",
   "execution_count": 13,
   "id": "6f126cc7-07d6-4535-a12a-cb89c48623c6",
   "metadata": {},
   "outputs": [
    {
     "data": {
      "text/plain": [
       "(4,)"
      ]
     },
     "execution_count": 13,
     "metadata": {},
     "output_type": "execute_result"
    }
   ],
   "source": [
    "xarr.shape"
   ]
  },
  {
   "cell_type": "code",
   "execution_count": 14,
   "id": "8c5a8758-7ebd-49ac-86b1-a9835dc0e05b",
   "metadata": {},
   "outputs": [
    {
     "data": {
      "text/plain": [
       "tuple"
      ]
     },
     "execution_count": 14,
     "metadata": {},
     "output_type": "execute_result"
    }
   ],
   "source": [
    "type(xarr.shape)"
   ]
  },
  {
   "cell_type": "code",
   "execution_count": 15,
   "id": "3a7a6533-a73a-447a-8e6c-b1e3d59e7adf",
   "metadata": {},
   "outputs": [
    {
     "data": {
      "text/plain": [
       "dtype('int32')"
      ]
     },
     "execution_count": 15,
     "metadata": {},
     "output_type": "execute_result"
    }
   ],
   "source": [
    "xarr.dtype\n",
    "\n",
    "# int32, int64, float32, float64"
   ]
  },
  {
   "cell_type": "code",
   "execution_count": 16,
   "id": "f9e452bd-9023-4512-809c-e538dad5767d",
   "metadata": {},
   "outputs": [
    {
     "data": {
      "text/plain": [
       "4"
      ]
     },
     "execution_count": 16,
     "metadata": {},
     "output_type": "execute_result"
    }
   ],
   "source": [
    "xarr.size"
   ]
  },
  {
   "cell_type": "code",
   "execution_count": 17,
   "id": "e1e6639c-fe37-475a-9452-f188e314fff4",
   "metadata": {},
   "outputs": [
    {
     "data": {
      "text/plain": [
       "4"
      ]
     },
     "execution_count": 17,
     "metadata": {},
     "output_type": "execute_result"
    }
   ],
   "source": [
    "xarr.itemsize"
   ]
  },
  {
   "cell_type": "code",
   "execution_count": 18,
   "id": "c10312d1-3788-4c14-898a-a611e2a909a4",
   "metadata": {},
   "outputs": [
    {
     "data": {
      "text/plain": [
       "(3, 2)"
      ]
     },
     "execution_count": 18,
     "metadata": {},
     "output_type": "execute_result"
    }
   ],
   "source": [
    "yarr = np.array([[10, 11],\n",
    "                 [12, 13],\n",
    "                 [15, 16]])\n",
    "yarr.shape"
   ]
  },
  {
   "cell_type": "code",
   "execution_count": 19,
   "id": "30365f13-cfa8-4d2f-9ed1-cf225ee32e15",
   "metadata": {},
   "outputs": [
    {
     "data": {
      "text/plain": [
       "(3, 2, 2)"
      ]
     },
     "execution_count": 19,
     "metadata": {},
     "output_type": "execute_result"
    }
   ],
   "source": [
    "yarr = np.array([[[1, 2], [3, 4]],\n",
    "                 [[5, 6], [7, 8]],\n",
    "                 [[9, 10], [11, 12]]])\n",
    "yarr.shape"
   ]
  },
  {
   "cell_type": "code",
   "execution_count": 20,
   "id": "b6a1adce-15e8-4cc7-846d-7c9ee00d32ce",
   "metadata": {},
   "outputs": [
    {
     "data": {
      "text/plain": [
       "array([[[ 1,  2],\n",
       "        [ 3,  4]],\n",
       "\n",
       "       [[ 5,  6],\n",
       "        [ 7,  8]],\n",
       "\n",
       "       [[ 9, 10],\n",
       "        [11, 12]]])"
      ]
     },
     "execution_count": 20,
     "metadata": {},
     "output_type": "execute_result"
    }
   ],
   "source": [
    "yarr"
   ]
  },
  {
   "cell_type": "code",
   "execution_count": 21,
   "id": "62a0e2fd-b71a-4ddc-ac97-03915fa705c4",
   "metadata": {},
   "outputs": [
    {
     "data": {
      "text/plain": [
       "dtype('int32')"
      ]
     },
     "execution_count": 21,
     "metadata": {},
     "output_type": "execute_result"
    }
   ],
   "source": [
    "yarr.dtype"
   ]
  },
  {
   "cell_type": "code",
   "execution_count": 22,
   "id": "faf82801-f5e4-4721-831a-e48ae94ed068",
   "metadata": {},
   "outputs": [
    {
     "data": {
      "text/plain": [
       "numpy.ndarray"
      ]
     },
     "execution_count": 22,
     "metadata": {},
     "output_type": "execute_result"
    }
   ],
   "source": [
    "type(yarr)"
   ]
  },
  {
   "cell_type": "code",
   "execution_count": 23,
   "id": "392a76b4-77b4-4a79-a804-a1cdf40acd6f",
   "metadata": {},
   "outputs": [
    {
     "data": {
      "text/plain": [
       "array([[[ 1.,  2.],\n",
       "        [ 3.,  4.]],\n",
       "\n",
       "       [[ 5.,  6.],\n",
       "        [ 7.,  8.]],\n",
       "\n",
       "       [[ 9., 10.],\n",
       "        [11., 12.]]], dtype=float32)"
      ]
     },
     "execution_count": 23,
     "metadata": {},
     "output_type": "execute_result"
    }
   ],
   "source": [
    "yarr.astype('float32')"
   ]
  },
  {
   "cell_type": "code",
   "execution_count": 24,
   "id": "782eba75-1717-457b-ac91-467852eb9d41",
   "metadata": {},
   "outputs": [
    {
     "data": {
      "text/plain": [
       "array([[[ 1,  2],\n",
       "        [ 3,  4]],\n",
       "\n",
       "       [[ 5,  6],\n",
       "        [ 7,  8]],\n",
       "\n",
       "       [[ 9, 10],\n",
       "        [11, 12]]])"
      ]
     },
     "execution_count": 24,
     "metadata": {},
     "output_type": "execute_result"
    }
   ],
   "source": [
    "yarr"
   ]
  },
  {
   "cell_type": "code",
   "execution_count": 25,
   "id": "aeb99a0f-9f08-448b-852d-3950225cb22d",
   "metadata": {},
   "outputs": [],
   "source": [
    "yarr = yarr.astype('float32')"
   ]
  },
  {
   "cell_type": "code",
   "execution_count": 26,
   "id": "5761f4a9-17eb-4146-9ad1-c87e725973ca",
   "metadata": {},
   "outputs": [
    {
     "data": {
      "text/plain": [
       "array([[[ 1.,  2.],\n",
       "        [ 3.,  4.]],\n",
       "\n",
       "       [[ 5.,  6.],\n",
       "        [ 7.,  8.]],\n",
       "\n",
       "       [[ 9., 10.],\n",
       "        [11., 12.]]], dtype=float32)"
      ]
     },
     "execution_count": 26,
     "metadata": {},
     "output_type": "execute_result"
    }
   ],
   "source": [
    "yarr"
   ]
  },
  {
   "cell_type": "code",
   "execution_count": 27,
   "id": "4472133e-e747-43ef-bb07-cc83c3a4084a",
   "metadata": {},
   "outputs": [],
   "source": [
    "xarr = np.array([23, 45, 56, 76], dtype='float64')"
   ]
  },
  {
   "cell_type": "code",
   "execution_count": 28,
   "id": "2110bd1a-f52e-4e8b-9cf5-6eebe4c4eac8",
   "metadata": {},
   "outputs": [
    {
     "data": {
      "text/plain": [
       "dtype('float64')"
      ]
     },
     "execution_count": 28,
     "metadata": {},
     "output_type": "execute_result"
    }
   ],
   "source": [
    "xarr.dtype"
   ]
  },
  {
   "cell_type": "code",
   "execution_count": 29,
   "id": "9390e158-65f8-4798-9f49-9805434533ba",
   "metadata": {},
   "outputs": [
    {
     "data": {
      "text/plain": [
       "(3, 2, 2)"
      ]
     },
     "execution_count": 29,
     "metadata": {},
     "output_type": "execute_result"
    }
   ],
   "source": [
    "yarr = np.array([[[1, 2], [3, 4]],\n",
    "                 [[5, 6], [7, 8]],\n",
    "                 [[9, 10], [11, 12]]])\n",
    "yarr.shape"
   ]
  },
  {
   "cell_type": "code",
   "execution_count": 30,
   "id": "a61aa838-481f-4998-a9a8-1def335c09d7",
   "metadata": {},
   "outputs": [
    {
     "data": {
      "text/plain": [
       "dtype('int32')"
      ]
     },
     "execution_count": 30,
     "metadata": {},
     "output_type": "execute_result"
    }
   ],
   "source": [
    "yarr.dtype"
   ]
  },
  {
   "cell_type": "code",
   "execution_count": 31,
   "id": "fc9a01b6-4bfc-4ead-9632-dbd305b94df7",
   "metadata": {},
   "outputs": [],
   "source": [
    "yarr = yarr.reshape(1, 3, 2, 2)"
   ]
  },
  {
   "cell_type": "code",
   "execution_count": 32,
   "id": "b74e50b8-f6ca-42f2-81df-35057b699d80",
   "metadata": {},
   "outputs": [
    {
     "data": {
      "text/plain": [
       "(1, 3, 2, 2)"
      ]
     },
     "execution_count": 32,
     "metadata": {},
     "output_type": "execute_result"
    }
   ],
   "source": [
    "yarr.shape"
   ]
  },
  {
   "cell_type": "code",
   "execution_count": 33,
   "id": "c7eb7c6a-bdf8-4a33-b4c8-ca8e1afa4732",
   "metadata": {},
   "outputs": [
    {
     "data": {
      "text/plain": [
       "array([[[[ 1,  2],\n",
       "         [ 3,  4]],\n",
       "\n",
       "        [[ 5,  6],\n",
       "         [ 7,  8]],\n",
       "\n",
       "        [[ 9, 10],\n",
       "         [11, 12]]]])"
      ]
     },
     "execution_count": 33,
     "metadata": {},
     "output_type": "execute_result"
    }
   ],
   "source": [
    "yarr"
   ]
  },
  {
   "cell_type": "code",
   "execution_count": 34,
   "id": "61311088-cd37-481b-ac2a-24b619d92c67",
   "metadata": {},
   "outputs": [],
   "source": [
    "yarr = yarr.reshape(3, 2, 2)"
   ]
  },
  {
   "cell_type": "code",
   "execution_count": 35,
   "id": "b640fe12-a509-4114-b036-3a2d6a53032d",
   "metadata": {},
   "outputs": [
    {
     "data": {
      "text/plain": [
       "(3, 2, 2)"
      ]
     },
     "execution_count": 35,
     "metadata": {},
     "output_type": "execute_result"
    }
   ],
   "source": [
    "yarr.shape"
   ]
  },
  {
   "cell_type": "code",
   "execution_count": 36,
   "id": "5cc8fa6f-8d84-4777-9bdb-bb0a147cc608",
   "metadata": {},
   "outputs": [],
   "source": [
    "yarr = yarr.reshape(-1, 3, 2, 2)"
   ]
  },
  {
   "cell_type": "code",
   "execution_count": 37,
   "id": "89251c80-0cdf-4597-b53d-8b52947b6e6b",
   "metadata": {},
   "outputs": [
    {
     "data": {
      "text/plain": [
       "(1, 3, 2, 2)"
      ]
     },
     "execution_count": 37,
     "metadata": {},
     "output_type": "execute_result"
    }
   ],
   "source": [
    "yarr.shape"
   ]
  },
  {
   "cell_type": "code",
   "execution_count": 38,
   "id": "76064e48-9f6a-4ef3-b1d9-e7f639f22206",
   "metadata": {},
   "outputs": [
    {
     "data": {
      "text/plain": [
       "array([[ 1,  2,  3,  4],\n",
       "       [ 5,  6,  7,  8],\n",
       "       [ 9, 10, 11, 12]])"
      ]
     },
     "execution_count": 38,
     "metadata": {},
     "output_type": "execute_result"
    }
   ],
   "source": [
    "yarr.reshape(3, 4)"
   ]
  },
  {
   "cell_type": "code",
   "execution_count": 39,
   "id": "59b961f4-132e-43b8-b6fa-921463f088c6",
   "metadata": {},
   "outputs": [],
   "source": [
    "yarr = yarr.reshape(-1, 2, 2)"
   ]
  },
  {
   "cell_type": "code",
   "execution_count": 40,
   "id": "6955c4fd-0a10-4b45-b86d-3f9e03b3d0c3",
   "metadata": {},
   "outputs": [
    {
     "data": {
      "text/plain": [
       "(3, 2, 2)"
      ]
     },
     "execution_count": 40,
     "metadata": {},
     "output_type": "execute_result"
    }
   ],
   "source": [
    "yarr.shape"
   ]
  },
  {
   "cell_type": "code",
   "execution_count": 41,
   "id": "ac50204a-a3d8-49e2-87b8-e4a5337eb873",
   "metadata": {},
   "outputs": [
    {
     "data": {
      "text/plain": [
       "array([ 1,  2,  3,  4,  5,  6,  7,  8,  9, 10, 11, 12])"
      ]
     },
     "execution_count": 41,
     "metadata": {},
     "output_type": "execute_result"
    }
   ],
   "source": [
    "yarr.reshape(-1)"
   ]
  },
  {
   "cell_type": "code",
   "execution_count": 43,
   "id": "f002be08-9b8d-4692-af3b-5d11775f76e5",
   "metadata": {},
   "outputs": [
    {
     "data": {
      "text/plain": [
       "(3, 2, 2)"
      ]
     },
     "execution_count": 43,
     "metadata": {},
     "output_type": "execute_result"
    }
   ],
   "source": [
    "yarr.shape"
   ]
  },
  {
   "cell_type": "code",
   "execution_count": 46,
   "id": "bde8d9c5-30d6-4ad4-bab3-67ef03805ff9",
   "metadata": {},
   "outputs": [
    {
     "data": {
      "text/plain": [
       "(1, 3, 2, 2)"
      ]
     },
     "execution_count": 46,
     "metadata": {},
     "output_type": "execute_result"
    }
   ],
   "source": [
    "yarr[np.newaxis, :].shape"
   ]
  },
  {
   "cell_type": "markdown",
   "id": "ad24610c-83bb-45ae-806a-053bf40f33d7",
   "metadata": {},
   "source": [
    "#### np.arange()"
   ]
  },
  {
   "cell_type": "code",
   "execution_count": 47,
   "id": "970c1043-65ae-4324-ba7c-9e489f43ce78",
   "metadata": {},
   "outputs": [
    {
     "data": {
      "text/plain": [
       "[0, 1, 2, 3, 4, 5, 6, 7, 8, 9]"
      ]
     },
     "execution_count": 47,
     "metadata": {},
     "output_type": "execute_result"
    }
   ],
   "source": [
    "list(range(10))"
   ]
  },
  {
   "cell_type": "code",
   "execution_count": 51,
   "id": "e4a44564-9400-4a04-ad82-00ca72602d0a",
   "metadata": {},
   "outputs": [
    {
     "data": {
      "text/plain": [
       "array([0, 1, 2, 3, 4, 5, 6, 7, 8, 9])"
      ]
     },
     "execution_count": 51,
     "metadata": {},
     "output_type": "execute_result"
    }
   ],
   "source": [
    "np.arange(10)"
   ]
  },
  {
   "cell_type": "code",
   "execution_count": 54,
   "id": "4a725529-866b-459d-aa51-80513b56288e",
   "metadata": {},
   "outputs": [
    {
     "data": {
      "text/plain": [
       "array([0, 2, 4, 6, 8])"
      ]
     },
     "execution_count": 54,
     "metadata": {},
     "output_type": "execute_result"
    }
   ],
   "source": [
    "np.arange(0, 10, 2)"
   ]
  },
  {
   "cell_type": "code",
   "execution_count": 52,
   "id": "ec1d2514-6f6d-4c3f-8353-1cdbdc8da8ca",
   "metadata": {},
   "outputs": [],
   "source": [
    "xarr = np.arange(10).reshape(5,2)"
   ]
  },
  {
   "cell_type": "code",
   "execution_count": 53,
   "id": "f22d7193-4734-4cd8-8e89-80506fe34c1b",
   "metadata": {},
   "outputs": [
    {
     "data": {
      "text/plain": [
       "array([[0, 1],\n",
       "       [2, 3],\n",
       "       [4, 5],\n",
       "       [6, 7],\n",
       "       [8, 9]])"
      ]
     },
     "execution_count": 53,
     "metadata": {},
     "output_type": "execute_result"
    }
   ],
   "source": [
    "xarr"
   ]
  },
  {
   "cell_type": "code",
   "execution_count": 55,
   "id": "21dacabe-5f34-4831-a8f5-52d766541248",
   "metadata": {},
   "outputs": [
    {
     "data": {
      "text/plain": [
       "array([ 0.        ,  1.42857143,  2.85714286,  4.28571429,  5.71428571,\n",
       "        7.14285714,  8.57142857, 10.        ])"
      ]
     },
     "execution_count": 55,
     "metadata": {},
     "output_type": "execute_result"
    }
   ],
   "source": [
    "np.linspace(0, 10, 8)"
   ]
  },
  {
   "cell_type": "code",
   "execution_count": 56,
   "id": "21e5ec9b-ae74-4831-b92c-78bfdfa32c83",
   "metadata": {},
   "outputs": [
    {
     "data": {
      "text/plain": [
       "array([[0, 0, 0],\n",
       "       [0, 0, 0]])"
      ]
     },
     "execution_count": 56,
     "metadata": {},
     "output_type": "execute_result"
    }
   ],
   "source": [
    "np.full((2, 3), 0)"
   ]
  },
  {
   "cell_type": "code",
   "execution_count": 57,
   "id": "de289e34-2447-42a9-8981-26ff80ef5831",
   "metadata": {},
   "outputs": [
    {
     "data": {
      "text/plain": [
       "array([[0., 0., 0.],\n",
       "       [0., 0., 0.]])"
      ]
     },
     "execution_count": 57,
     "metadata": {},
     "output_type": "execute_result"
    }
   ],
   "source": [
    "np.zeros((2,3))"
   ]
  },
  {
   "cell_type": "code",
   "execution_count": 58,
   "id": "a5150069-82d6-4e04-9384-4e1fe7267e8f",
   "metadata": {},
   "outputs": [
    {
     "data": {
      "text/plain": [
       "array([[[0, 0],\n",
       "        [0, 0]],\n",
       "\n",
       "       [[0, 0],\n",
       "        [0, 0]],\n",
       "\n",
       "       [[0, 0],\n",
       "        [0, 0]]])"
      ]
     },
     "execution_count": 58,
     "metadata": {},
     "output_type": "execute_result"
    }
   ],
   "source": [
    "np.zeros_like(yarr)"
   ]
  },
  {
   "cell_type": "code",
   "execution_count": 59,
   "id": "8679b29d-0299-4e3a-9ed9-e35e412063a5",
   "metadata": {},
   "outputs": [
    {
     "data": {
      "text/plain": [
       "array([[[1, 1],\n",
       "        [1, 1]],\n",
       "\n",
       "       [[1, 1],\n",
       "        [1, 1]],\n",
       "\n",
       "       [[1, 1],\n",
       "        [1, 1]]])"
      ]
     },
     "execution_count": 59,
     "metadata": {},
     "output_type": "execute_result"
    }
   ],
   "source": [
    "np.ones_like(yarr)"
   ]
  },
  {
   "cell_type": "markdown",
   "id": "59f2d80d-cff8-4aa3-b538-32045b21f3ce",
   "metadata": {},
   "source": [
    "### random"
   ]
  },
  {
   "cell_type": "code",
   "execution_count": 64,
   "id": "5731120e-5690-4a63-8560-1a3ff6b8050d",
   "metadata": {},
   "outputs": [
    {
     "data": {
      "text/plain": [
       "array([7.8092658 , 4.2927132 , 4.78937156, 9.87996498, 1.03242953])"
      ]
     },
     "execution_count": 64,
     "metadata": {},
     "output_type": "execute_result"
    }
   ],
   "source": [
    "np.random.uniform(0, 10, 5)"
   ]
  },
  {
   "cell_type": "code",
   "execution_count": 65,
   "id": "872638d3-30f6-48d9-8af5-bf1a3a63525a",
   "metadata": {},
   "outputs": [
    {
     "data": {
      "text/plain": [
       "array([-0.22600925, -1.47024963, -0.56739478, -0.07760781, -1.10752378,\n",
       "       -0.62659953, -0.10904208,  0.49804083, -0.24496876,  0.3457999 ])"
      ]
     },
     "execution_count": 65,
     "metadata": {},
     "output_type": "execute_result"
    }
   ],
   "source": [
    "np.random.normal(0, 1, 10)"
   ]
  },
  {
   "cell_type": "code",
   "execution_count": 66,
   "id": "82b168a7-b293-47bf-afd5-d69cc57fff2e",
   "metadata": {},
   "outputs": [
    {
     "data": {
      "text/plain": [
       "array([-1.35407869,  0.37640715, -1.68764642,  0.82449445, -0.33450441,\n",
       "        0.01258602,  0.64994308,  0.46087157,  0.36945761, -0.19857905])"
      ]
     },
     "execution_count": 66,
     "metadata": {},
     "output_type": "execute_result"
    }
   ],
   "source": [
    "np.random.randn(10)"
   ]
  },
  {
   "cell_type": "code",
   "execution_count": 67,
   "id": "44f539f5-2e9c-4428-9114-bbc38ba85861",
   "metadata": {},
   "outputs": [
    {
     "data": {
      "text/plain": [
       "array([[0.23755549, 0.39945753, 0.57398594],\n",
       "       [0.30699657, 0.41111378, 0.29692625]])"
      ]
     },
     "execution_count": 67,
     "metadata": {},
     "output_type": "execute_result"
    }
   ],
   "source": [
    "np.random.randn(2,3)"
   ]
  },
  {
   "cell_type": "markdown",
   "id": "1661f48b-c9df-4bed-be92-5cf796c8694f",
   "metadata": {
    "tags": []
   },
   "source": [
    "## 함수"
   ]
  },
  {
   "cell_type": "code",
   "execution_count": 70,
   "id": "ab52081f-8b49-43ec-875d-5d63b20df008",
   "metadata": {},
   "outputs": [],
   "source": [
    "xarr = np.arange(0, 12).reshape(3, 4)"
   ]
  },
  {
   "cell_type": "code",
   "execution_count": 71,
   "id": "68ead9d3-66bb-4593-b089-63301468b996",
   "metadata": {},
   "outputs": [
    {
     "data": {
      "text/plain": [
       "array([[ 0,  1,  2,  3],\n",
       "       [ 4,  5,  6,  7],\n",
       "       [ 8,  9, 10, 11]])"
      ]
     },
     "execution_count": 71,
     "metadata": {},
     "output_type": "execute_result"
    }
   ],
   "source": [
    "xarr"
   ]
  },
  {
   "cell_type": "code",
   "execution_count": 74,
   "id": "f83d20d7-14da-4b31-9b3f-2e1814644bab",
   "metadata": {},
   "outputs": [
    {
     "data": {
      "text/plain": [
       "66"
      ]
     },
     "execution_count": 74,
     "metadata": {},
     "output_type": "execute_result"
    }
   ],
   "source": [
    "xarr.sum()"
   ]
  },
  {
   "cell_type": "code",
   "execution_count": 75,
   "id": "b6a7aa1c-b8ed-4a78-81f2-492da5bf2ee8",
   "metadata": {},
   "outputs": [
    {
     "data": {
      "text/plain": [
       "array([12, 15, 18, 21])"
      ]
     },
     "execution_count": 75,
     "metadata": {},
     "output_type": "execute_result"
    }
   ],
   "source": [
    "xarr.sum(axis=0)"
   ]
  },
  {
   "cell_type": "code",
   "execution_count": 76,
   "id": "f7b72e23-c208-4f13-a6fd-ce8747923f6e",
   "metadata": {},
   "outputs": [
    {
     "data": {
      "text/plain": [
       "array([ 6, 22, 38])"
      ]
     },
     "execution_count": 76,
     "metadata": {},
     "output_type": "execute_result"
    }
   ],
   "source": [
    "xarr.sum(axis=1)"
   ]
  },
  {
   "cell_type": "code",
   "execution_count": 77,
   "id": "fb25cbc2-6f97-4589-b813-74db864c325e",
   "metadata": {},
   "outputs": [
    {
     "data": {
      "text/plain": [
       "array([ 6, 22, 38])"
      ]
     },
     "execution_count": 77,
     "metadata": {},
     "output_type": "execute_result"
    }
   ],
   "source": [
    "np.sum(xarr, axis=1)"
   ]
  },
  {
   "cell_type": "code",
   "execution_count": 78,
   "id": "4e7d4dcc-d970-474c-9869-1d29fd31812c",
   "metadata": {},
   "outputs": [
    {
     "data": {
      "text/plain": [
       "array([4., 5., 6., 7.])"
      ]
     },
     "execution_count": 78,
     "metadata": {},
     "output_type": "execute_result"
    }
   ],
   "source": [
    "xarr.mean(axis=0)"
   ]
  },
  {
   "cell_type": "code",
   "execution_count": 80,
   "id": "8de93e69-add3-4013-a41d-74ad54344b28",
   "metadata": {},
   "outputs": [
    {
     "data": {
      "text/plain": [
       "array([4., 5., 6., 7.])"
      ]
     },
     "execution_count": 80,
     "metadata": {},
     "output_type": "execute_result"
    }
   ],
   "source": [
    "np.mean(xarr, axis=0)"
   ]
  },
  {
   "cell_type": "code",
   "execution_count": 81,
   "id": "ab21e955-f309-410d-ac81-21ceef843b07",
   "metadata": {},
   "outputs": [
    {
     "data": {
      "text/plain": [
       "array([0, 1, 2, 3])"
      ]
     },
     "execution_count": 81,
     "metadata": {},
     "output_type": "execute_result"
    }
   ],
   "source": [
    "xarr.min(axis=0)"
   ]
  },
  {
   "cell_type": "code",
   "execution_count": 91,
   "id": "fbeabf61-2c61-4b96-92c7-11ec996e85d1",
   "metadata": {},
   "outputs": [
    {
     "data": {
      "text/plain": [
       "[1, 2, 3, 3]"
      ]
     },
     "execution_count": 91,
     "metadata": {},
     "output_type": "execute_result"
    }
   ],
   "source": [
    "[1, 2, 3] + [3]"
   ]
  },
  {
   "cell_type": "code",
   "execution_count": 92,
   "id": "e836f5f6-0738-4587-97d0-02141f672957",
   "metadata": {},
   "outputs": [
    {
     "data": {
      "text/plain": [
       "array([[ 0,  1,  2,  3],\n",
       "       [ 4,  5,  6,  7],\n",
       "       [ 8,  9, 10, 11]])"
      ]
     },
     "execution_count": 92,
     "metadata": {},
     "output_type": "execute_result"
    }
   ],
   "source": [
    "xarr"
   ]
  },
  {
   "cell_type": "code",
   "execution_count": 86,
   "id": "2b7b24e6-e1da-4e65-b8ee-d194e7c270e3",
   "metadata": {},
   "outputs": [
    {
     "data": {
      "text/plain": [
       "array([[ 3,  4,  5,  6],\n",
       "       [ 7,  8,  9, 10],\n",
       "       [11, 12, 13, 14]])"
      ]
     },
     "execution_count": 86,
     "metadata": {},
     "output_type": "execute_result"
    }
   ],
   "source": [
    "xarr + 3"
   ]
  },
  {
   "cell_type": "code",
   "execution_count": 90,
   "id": "c4d3555b-a36b-4143-b6e5-1e893cffc2a4",
   "metadata": {},
   "outputs": [
    {
     "data": {
      "text/plain": [
       "array([[ 3,  3,  3,  4],\n",
       "       [ 7,  7,  7,  8],\n",
       "       [11, 11, 11, 12]])"
      ]
     },
     "execution_count": 90,
     "metadata": {},
     "output_type": "execute_result"
    }
   ],
   "source": [
    "xarr + [3, 2, 1, 1]"
   ]
  },
  {
   "cell_type": "code",
   "execution_count": 93,
   "id": "dff6a628-506c-4014-bc2c-e0c224358cd2",
   "metadata": {},
   "outputs": [],
   "source": [
    "x = np.array([[1, 2],\n",
    "              [3, 4]])\n",
    "y = np.array([[1, 2],\n",
    "              [3, 4]])"
   ]
  },
  {
   "cell_type": "code",
   "execution_count": 94,
   "id": "3f1163b6-8bd8-44d9-929d-6684c2997393",
   "metadata": {},
   "outputs": [
    {
     "data": {
      "text/plain": [
       "array([[ 1,  4],\n",
       "       [ 9, 16]])"
      ]
     },
     "execution_count": 94,
     "metadata": {},
     "output_type": "execute_result"
    }
   ],
   "source": [
    "x * y"
   ]
  },
  {
   "cell_type": "code",
   "execution_count": 95,
   "id": "d29c315c-edb9-4cbb-bae1-aecb0bb400be",
   "metadata": {},
   "outputs": [
    {
     "data": {
      "text/plain": [
       "array([[ 7, 10],\n",
       "       [15, 22]])"
      ]
     },
     "execution_count": 95,
     "metadata": {},
     "output_type": "execute_result"
    }
   ],
   "source": [
    "x @ y"
   ]
  },
  {
   "cell_type": "code",
   "execution_count": 96,
   "id": "b2e3820e-b094-4593-8571-06a47e2be3f9",
   "metadata": {},
   "outputs": [],
   "source": [
    "x = np.array([1, 2, 3])\n",
    "y = np.array([1, 2, 3])"
   ]
  },
  {
   "cell_type": "code",
   "execution_count": 97,
   "id": "3cd5a001-b27f-4740-9722-d33741e81636",
   "metadata": {},
   "outputs": [
    {
     "data": {
      "text/plain": [
       "14"
      ]
     },
     "execution_count": 97,
     "metadata": {},
     "output_type": "execute_result"
    }
   ],
   "source": [
    "np.dot(x, y)"
   ]
  },
  {
   "cell_type": "code",
   "execution_count": 98,
   "id": "40e67a75-a6ba-422c-8e7b-982e706ac429",
   "metadata": {},
   "outputs": [],
   "source": [
    "x = np.array([[1, 2],\n",
    "              [3, 4]])\n",
    "y = np.array([[1, 2],\n",
    "              [3, 4]])"
   ]
  },
  {
   "cell_type": "code",
   "execution_count": 99,
   "id": "e0846f9d-9df4-4892-ae43-ca9a17820efb",
   "metadata": {},
   "outputs": [
    {
     "data": {
      "text/plain": [
       "array([[ 7, 10],\n",
       "       [15, 22]])"
      ]
     },
     "execution_count": 99,
     "metadata": {},
     "output_type": "execute_result"
    }
   ],
   "source": [
    "np.dot(x, y)"
   ]
  },
  {
   "cell_type": "code",
   "execution_count": 101,
   "id": "98420b0f-92dc-4226-84bf-9859f793b51e",
   "metadata": {},
   "outputs": [
    {
     "data": {
      "text/plain": [
       "array([[ 7, 10],\n",
       "       [15, 22]])"
      ]
     },
     "execution_count": 101,
     "metadata": {},
     "output_type": "execute_result"
    }
   ],
   "source": [
    "np.matmul(x, y)"
   ]
  },
  {
   "cell_type": "code",
   "execution_count": 104,
   "id": "6f852804-632e-4974-9175-d9ae2d35bb59",
   "metadata": {},
   "outputs": [
    {
     "data": {
      "text/plain": [
       "array([False,  True,  True, False])"
      ]
     },
     "execution_count": 104,
     "metadata": {},
     "output_type": "execute_result"
    }
   ],
   "source": [
    "x = np.array([1, 4, 3, 2])\n",
    "x > 2"
   ]
  },
  {
   "cell_type": "code",
   "execution_count": 105,
   "id": "96e1a075-4a82-4d5c-8e5d-82df3bc53dc6",
   "metadata": {},
   "outputs": [
    {
     "data": {
      "text/plain": [
       "array([4, 3])"
      ]
     },
     "execution_count": 105,
     "metadata": {},
     "output_type": "execute_result"
    }
   ],
   "source": [
    "x[[False,  True,  True, False]]"
   ]
  },
  {
   "cell_type": "code",
   "execution_count": 106,
   "id": "5e62cac0-7d96-4b54-9236-26e1d5f9bf29",
   "metadata": {},
   "outputs": [
    {
     "data": {
      "text/plain": [
       "array([4, 3])"
      ]
     },
     "execution_count": 106,
     "metadata": {},
     "output_type": "execute_result"
    }
   ],
   "source": [
    "x[x > 2]"
   ]
  },
  {
   "cell_type": "code",
   "execution_count": 107,
   "id": "14b7d5d4-8f3e-4049-a760-d9c9e7d35526",
   "metadata": {},
   "outputs": [],
   "source": [
    "x[x > 2] = -1"
   ]
  },
  {
   "cell_type": "code",
   "execution_count": 108,
   "id": "d880f9ab-b6c6-4966-9e23-cfc482294a50",
   "metadata": {},
   "outputs": [
    {
     "data": {
      "text/plain": [
       "array([ 1, -1, -1,  2])"
      ]
     },
     "execution_count": 108,
     "metadata": {},
     "output_type": "execute_result"
    }
   ],
   "source": [
    "x"
   ]
  },
  {
   "cell_type": "code",
   "execution_count": 130,
   "id": "827a4c9c-8758-4704-9d60-969ae72d1b0e",
   "metadata": {},
   "outputs": [],
   "source": [
    "x = [1, 2, 3]\n",
    "y = [4, 5, 6]"
   ]
  },
  {
   "cell_type": "code",
   "execution_count": 131,
   "id": "90010455-1347-4ae2-ae31-ed16de678770",
   "metadata": {},
   "outputs": [
    {
     "data": {
      "text/plain": [
       "array([1, 2, 3, 4, 5, 6])"
      ]
     },
     "execution_count": 131,
     "metadata": {},
     "output_type": "execute_result"
    }
   ],
   "source": [
    "np.concatenate((x, y), axis=0)"
   ]
  },
  {
   "cell_type": "code",
   "execution_count": 132,
   "id": "9be36773-c6b4-4297-a081-577ac83af640",
   "metadata": {},
   "outputs": [],
   "source": [
    "x = [[1, 2],\n",
    "     [3, 4]]\n",
    "y = [[5, 6],\n",
    "     [7, 8]]"
   ]
  },
  {
   "cell_type": "code",
   "execution_count": 133,
   "id": "486658e3-f5a4-48fc-bd90-a8f52b161043",
   "metadata": {},
   "outputs": [
    {
     "data": {
      "text/plain": [
       "array([[1, 2, 5, 6],\n",
       "       [3, 4, 7, 8]])"
      ]
     },
     "execution_count": 133,
     "metadata": {},
     "output_type": "execute_result"
    }
   ],
   "source": [
    "np.concatenate((x, y), axis=1)"
   ]
  },
  {
   "cell_type": "code",
   "execution_count": 134,
   "id": "ebaa7707-2a22-4e6b-9acd-8e73697f7d96",
   "metadata": {},
   "outputs": [
    {
     "data": {
      "text/plain": [
       "array([[1, 2],\n",
       "       [3, 4],\n",
       "       [5, 6],\n",
       "       [7, 8]])"
      ]
     },
     "execution_count": 134,
     "metadata": {},
     "output_type": "execute_result"
    }
   ],
   "source": [
    "np.concatenate((x, y), axis=0)"
   ]
  },
  {
   "cell_type": "code",
   "execution_count": 135,
   "id": "2a9d19ac-438e-4029-a425-0a84529b9369",
   "metadata": {},
   "outputs": [],
   "source": [
    "x = [1, 2, 3]\n",
    "y = [4, 5, 6]"
   ]
  },
  {
   "cell_type": "code",
   "execution_count": 136,
   "id": "40ea7807-8a40-4916-9883-aaba5142c0bc",
   "metadata": {},
   "outputs": [
    {
     "data": {
      "text/plain": [
       "array([[1, 2, 3],\n",
       "       [4, 5, 6]])"
      ]
     },
     "execution_count": 136,
     "metadata": {},
     "output_type": "execute_result"
    }
   ],
   "source": [
    "np.vstack((x, y))"
   ]
  },
  {
   "cell_type": "code",
   "execution_count": 137,
   "id": "dd470e1a-1c1d-4f90-af3c-c86f1d8b2c92",
   "metadata": {},
   "outputs": [
    {
     "data": {
      "text/plain": [
       "array([1, 2, 3, 4, 5, 6])"
      ]
     },
     "execution_count": 137,
     "metadata": {},
     "output_type": "execute_result"
    }
   ],
   "source": [
    "np.hstack((x, y))"
   ]
  },
  {
   "cell_type": "code",
   "execution_count": 138,
   "id": "22aea3b9-5653-497d-8f1c-4c396231b5e2",
   "metadata": {},
   "outputs": [],
   "source": [
    "x = [[1, 2], [3, 4]]"
   ]
  },
  {
   "cell_type": "code",
   "execution_count": 139,
   "id": "e11954a6-1b83-4c4c-a9ff-c204021649c9",
   "metadata": {},
   "outputs": [
    {
     "data": {
      "text/plain": [
       "3"
      ]
     },
     "execution_count": 139,
     "metadata": {},
     "output_type": "execute_result"
    }
   ],
   "source": [
    "x[1][0]"
   ]
  },
  {
   "cell_type": "code",
   "execution_count": 140,
   "id": "a186d2a1-e9c6-412a-9d75-87e176cc4b60",
   "metadata": {},
   "outputs": [],
   "source": [
    "x = np.array([[1, 2], [3, 4]])"
   ]
  },
  {
   "cell_type": "code",
   "execution_count": 143,
   "id": "0fc76095-1ef9-4afa-940b-c75e411abc0f",
   "metadata": {},
   "outputs": [
    {
     "data": {
      "text/plain": [
       "3"
      ]
     },
     "execution_count": 143,
     "metadata": {},
     "output_type": "execute_result"
    }
   ],
   "source": [
    "x[1, 0]"
   ]
  },
  {
   "cell_type": "code",
   "execution_count": 144,
   "id": "e2149746-7e5b-4f7c-b763-4399f4796d1f",
   "metadata": {},
   "outputs": [
    {
     "data": {
      "text/plain": [
       "3"
      ]
     },
     "execution_count": 144,
     "metadata": {},
     "output_type": "execute_result"
    }
   ],
   "source": [
    "x[1][0]"
   ]
  },
  {
   "cell_type": "markdown",
   "id": "438510db-2d48-4dfb-9a61-6b1ccad22db2",
   "metadata": {},
   "source": [
    "## where"
   ]
  },
  {
   "cell_type": "code",
   "execution_count": 145,
   "id": "8200a77c-6809-4082-81ba-38e2e4202632",
   "metadata": {},
   "outputs": [],
   "source": [
    "x = np.array([1, 2, 3, 4, 5])"
   ]
  },
  {
   "cell_type": "code",
   "execution_count": 146,
   "id": "944a2841-e311-47a2-a7c8-aefb33335d40",
   "metadata": {},
   "outputs": [
    {
     "data": {
      "text/plain": [
       "array([1, 2, 3, 4, 5])"
      ]
     },
     "execution_count": 146,
     "metadata": {},
     "output_type": "execute_result"
    }
   ],
   "source": [
    "x"
   ]
  },
  {
   "cell_type": "code",
   "execution_count": 147,
   "id": "759013ac-cd81-4039-a75b-dd920f306eec",
   "metadata": {},
   "outputs": [
    {
     "data": {
      "text/plain": [
       "(array([3, 4], dtype=int64),)"
      ]
     },
     "execution_count": 147,
     "metadata": {},
     "output_type": "execute_result"
    }
   ],
   "source": [
    "np.where(x > 3)"
   ]
  },
  {
   "cell_type": "code",
   "execution_count": 148,
   "id": "6a513ec6-909a-4aa8-9c93-77781cd8292f",
   "metadata": {},
   "outputs": [
    {
     "data": {
      "text/plain": [
       "array([0, 0, 0, 1, 1])"
      ]
     },
     "execution_count": 148,
     "metadata": {},
     "output_type": "execute_result"
    }
   ],
   "source": [
    "np.where(x > 3, 1, 0)"
   ]
  },
  {
   "cell_type": "code",
   "execution_count": 149,
   "id": "c762244d-f115-481d-9f2a-7a6874cfad62",
   "metadata": {},
   "outputs": [],
   "source": [
    "x = np.array([1, 2, 3, 4, 5, 6])"
   ]
  },
  {
   "cell_type": "code",
   "execution_count": 150,
   "id": "72c12686-8ec5-463d-9120-b6e2e4da58f7",
   "metadata": {},
   "outputs": [
    {
     "data": {
      "text/plain": [
       "array([1, 2, 3, 4, 5, 6])"
      ]
     },
     "execution_count": 150,
     "metadata": {},
     "output_type": "execute_result"
    }
   ],
   "source": [
    "x"
   ]
  },
  {
   "cell_type": "code",
   "execution_count": 155,
   "id": "53c6eb9a-25e7-4bec-853e-c0a2f37bdc9c",
   "metadata": {},
   "outputs": [],
   "source": [
    "x_sub = np.where(x > 3, 1, 0)"
   ]
  },
  {
   "cell_type": "code",
   "execution_count": 156,
   "id": "4d37e39f-664d-4076-adf4-94446779966c",
   "metadata": {},
   "outputs": [
    {
     "data": {
      "text/plain": [
       "3"
      ]
     },
     "execution_count": 156,
     "metadata": {},
     "output_type": "execute_result"
    }
   ],
   "source": [
    "x_sub.sum()"
   ]
  },
  {
   "cell_type": "code",
   "execution_count": 163,
   "id": "e2235bee-a97d-4e15-91cb-118bff9c6ea4",
   "metadata": {},
   "outputs": [],
   "source": [
    "x = np.random.randn(4, 3)"
   ]
  },
  {
   "cell_type": "code",
   "execution_count": 164,
   "id": "7b3cfa99-c4b9-47be-b3d5-2942987b8c8d",
   "metadata": {},
   "outputs": [
    {
     "data": {
      "text/plain": [
       "array([[-0.48606017,  1.04444956, -0.20968539],\n",
       "       [ 1.39984245,  0.29144837,  1.21502581],\n",
       "       [-0.24792108,  1.42447066,  0.19222542],\n",
       "       [ 1.01493868,  0.5754538 ,  2.43284866]])"
      ]
     },
     "execution_count": 164,
     "metadata": {},
     "output_type": "execute_result"
    }
   ],
   "source": [
    "x"
   ]
  },
  {
   "cell_type": "code",
   "execution_count": 165,
   "id": "ea6dcced-2278-4509-83d0-55ee18a6e766",
   "metadata": {},
   "outputs": [
    {
     "data": {
      "text/plain": [
       "array([1, 0, 1, 2], dtype=int64)"
      ]
     },
     "execution_count": 165,
     "metadata": {},
     "output_type": "execute_result"
    }
   ],
   "source": [
    "np.argmax(x, axis=1)"
   ]
  },
  {
   "cell_type": "code",
   "execution_count": 166,
   "id": "68c308eb-dfd3-4d89-96a5-92ba0f9af1a6",
   "metadata": {},
   "outputs": [
    {
     "data": {
      "text/plain": [
       "array([0, 1, 0, 1], dtype=int64)"
      ]
     },
     "execution_count": 166,
     "metadata": {},
     "output_type": "execute_result"
    }
   ],
   "source": [
    "np.argmin(x, axis=1)"
   ]
  },
  {
   "cell_type": "code",
   "execution_count": 167,
   "id": "ac35086e-b8ac-46f9-86e7-38e1ea49727c",
   "metadata": {},
   "outputs": [],
   "source": [
    "xarr = np.array([1, 2, 3, 4, 5, 6, 7])"
   ]
  },
  {
   "cell_type": "code",
   "execution_count": 168,
   "id": "0e3bdc10-3edb-4a32-8864-2a358511ca6e",
   "metadata": {},
   "outputs": [
    {
     "data": {
      "text/plain": [
       "array([1, 2, 3, 4, 5, 6, 7])"
      ]
     },
     "execution_count": 168,
     "metadata": {},
     "output_type": "execute_result"
    }
   ],
   "source": [
    "xarr"
   ]
  },
  {
   "cell_type": "code",
   "execution_count": 169,
   "id": "e24810f0-8420-4a81-868b-f3194aed2a99",
   "metadata": {},
   "outputs": [
    {
     "data": {
      "text/plain": [
       "array([1, 2, 3, 4, 5, 6])"
      ]
     },
     "execution_count": 169,
     "metadata": {},
     "output_type": "execute_result"
    }
   ],
   "source": [
    "xarr[:-1]"
   ]
  },
  {
   "cell_type": "code",
   "execution_count": 171,
   "id": "d0e807bb-687e-40b4-9a38-33049e1ada2f",
   "metadata": {},
   "outputs": [
    {
     "data": {
      "text/plain": [
       "7"
      ]
     },
     "execution_count": 171,
     "metadata": {},
     "output_type": "execute_result"
    }
   ],
   "source": [
    "xarr[-1]"
   ]
  },
  {
   "cell_type": "code",
   "execution_count": 173,
   "id": "4180b8ab-8b9b-45cd-b0c8-c9c92c7aabe7",
   "metadata": {},
   "outputs": [],
   "source": [
    "y = xarr[3:5]"
   ]
  },
  {
   "cell_type": "code",
   "execution_count": 174,
   "id": "e78d8f62-497c-4b3a-9d60-4c3d256d236d",
   "metadata": {},
   "outputs": [
    {
     "data": {
      "text/plain": [
       "array([4, 5])"
      ]
     },
     "execution_count": 174,
     "metadata": {},
     "output_type": "execute_result"
    }
   ],
   "source": [
    "y"
   ]
  },
  {
   "cell_type": "code",
   "execution_count": 175,
   "id": "160a3b4c-7aa2-4d14-8ba7-f16003947c06",
   "metadata": {},
   "outputs": [],
   "source": [
    "y[0] = -1"
   ]
  },
  {
   "cell_type": "code",
   "execution_count": 176,
   "id": "a0af0474-2865-44b5-9402-df566bde51ce",
   "metadata": {},
   "outputs": [
    {
     "data": {
      "text/plain": [
       "array([-1,  5])"
      ]
     },
     "execution_count": 176,
     "metadata": {},
     "output_type": "execute_result"
    }
   ],
   "source": [
    "y"
   ]
  },
  {
   "cell_type": "code",
   "execution_count": 177,
   "id": "634ff350-e9dd-4e6a-ae0e-736176b358a4",
   "metadata": {},
   "outputs": [
    {
     "data": {
      "text/plain": [
       "array([ 1,  2,  3, -1,  5,  6,  7])"
      ]
     },
     "execution_count": 177,
     "metadata": {},
     "output_type": "execute_result"
    }
   ],
   "source": [
    "xarr"
   ]
  },
  {
   "cell_type": "code",
   "execution_count": 178,
   "id": "fff1d3bf-3dff-4ef2-998e-9f212f99e2cb",
   "metadata": {},
   "outputs": [],
   "source": [
    "xarr = np.array([1, 2, 3, 4, 5, 6, 7])"
   ]
  },
  {
   "cell_type": "code",
   "execution_count": 179,
   "id": "d9666e4c-e2b1-4b57-b337-762d63ca8803",
   "metadata": {},
   "outputs": [
    {
     "data": {
      "text/plain": [
       "array([1, 2, 3, 4, 5, 6, 7])"
      ]
     },
     "execution_count": 179,
     "metadata": {},
     "output_type": "execute_result"
    }
   ],
   "source": [
    "xarr"
   ]
  },
  {
   "cell_type": "code",
   "execution_count": 180,
   "id": "f817e96e-7c25-4db4-99cc-ddc589fab2c0",
   "metadata": {},
   "outputs": [],
   "source": [
    "y = xarr[3:5].copy()"
   ]
  },
  {
   "cell_type": "code",
   "execution_count": 181,
   "id": "d978f64e-60f1-4a3b-b18c-fb55a6ff9e0f",
   "metadata": {},
   "outputs": [
    {
     "data": {
      "text/plain": [
       "array([4, 5])"
      ]
     },
     "execution_count": 181,
     "metadata": {},
     "output_type": "execute_result"
    }
   ],
   "source": [
    "y"
   ]
  },
  {
   "cell_type": "code",
   "execution_count": 182,
   "id": "e5badc19-0bc3-4fae-8199-2af8700667ab",
   "metadata": {},
   "outputs": [],
   "source": [
    "y[0] = -1"
   ]
  },
  {
   "cell_type": "code",
   "execution_count": 183,
   "id": "ad22e101-0a70-4b10-b005-bde718237ccd",
   "metadata": {},
   "outputs": [
    {
     "data": {
      "text/plain": [
       "array([-1,  5])"
      ]
     },
     "execution_count": 183,
     "metadata": {},
     "output_type": "execute_result"
    }
   ],
   "source": [
    "y"
   ]
  },
  {
   "cell_type": "code",
   "execution_count": 184,
   "id": "78575bed-3725-4249-ab3d-38b7a21c6e00",
   "metadata": {},
   "outputs": [
    {
     "data": {
      "text/plain": [
       "array([1, 2, 3, 4, 5, 6, 7])"
      ]
     },
     "execution_count": 184,
     "metadata": {},
     "output_type": "execute_result"
    }
   ],
   "source": [
    "xarr"
   ]
  },
  {
   "cell_type": "code",
   "execution_count": 190,
   "id": "7e5234ee-7bed-4aea-85bc-32024409dafd",
   "metadata": {},
   "outputs": [],
   "source": [
    "iris = np.genfromtxt('./Dataset/iris.csv', delimiter=',', skip_header=1)"
   ]
  },
  {
   "cell_type": "code",
   "execution_count": 191,
   "id": "1c420450-c080-43e3-acfd-5bfc28dad061",
   "metadata": {},
   "outputs": [
    {
     "data": {
      "text/plain": [
       "array([[5.1, 3.5, 1.4, 0.2, nan],\n",
       "       [4.9, 3. , 1.4, 0.2, nan],\n",
       "       [4.7, 3.2, 1.3, 0.2, nan],\n",
       "       [4.6, 3.1, 1.5, 0.2, nan],\n",
       "       [5. , 3.6, 1.4, 0.2, nan]])"
      ]
     },
     "execution_count": 191,
     "metadata": {},
     "output_type": "execute_result"
    }
   ],
   "source": [
    "iris[:5]"
   ]
  },
  {
   "cell_type": "code",
   "execution_count": 192,
   "id": "d3081123-c067-4eb1-8eb0-f548256a54c2",
   "metadata": {},
   "outputs": [
    {
     "data": {
      "text/plain": [
       "(150, 5)"
      ]
     },
     "execution_count": 192,
     "metadata": {},
     "output_type": "execute_result"
    }
   ],
   "source": [
    "iris.shape"
   ]
  },
  {
   "cell_type": "code",
   "execution_count": 193,
   "id": "2f97395d-b0ed-436d-9f26-700ff71e0fd6",
   "metadata": {},
   "outputs": [
    {
     "data": {
      "text/plain": [
       "dtype('float64')"
      ]
     },
     "execution_count": 193,
     "metadata": {},
     "output_type": "execute_result"
    }
   ],
   "source": [
    "iris.dtype"
   ]
  },
  {
   "cell_type": "code",
   "execution_count": 206,
   "id": "12ed82d7-5c69-42bc-a5c5-2ba1ab574904",
   "metadata": {},
   "outputs": [],
   "source": [
    "xarr = iris[:, :-1]"
   ]
  },
  {
   "cell_type": "code",
   "execution_count": 270,
   "id": "a38cf4c0-cd03-4d31-ace1-ec48120bdd2a",
   "metadata": {},
   "outputs": [
    {
     "data": {
      "text/plain": [
       "(150, 4)"
      ]
     },
     "execution_count": 270,
     "metadata": {},
     "output_type": "execute_result"
    }
   ],
   "source": [
    "xarr.shape"
   ]
  },
  {
   "cell_type": "code",
   "execution_count": 208,
   "id": "63cbcd28-3d76-4eb2-92ee-77eb582da7ed",
   "metadata": {},
   "outputs": [],
   "source": [
    "mean_col_1 = xarr[:, 0].mean()"
   ]
  },
  {
   "cell_type": "code",
   "execution_count": 217,
   "id": "224159e8-ecc8-49fc-8020-68c937f199ff",
   "metadata": {},
   "outputs": [
    {
     "data": {
      "text/plain": [
       "5.843333333333334"
      ]
     },
     "execution_count": 217,
     "metadata": {},
     "output_type": "execute_result"
    }
   ],
   "source": [
    "mean_col_1"
   ]
  },
  {
   "cell_type": "code",
   "execution_count": 279,
   "id": "f97350e9-49d9-4fbd-a1bc-30d86a8f082a",
   "metadata": {},
   "outputs": [],
   "source": [
    "x = xarr[np.where(xarr[:, 0] > mean_col_1)]"
   ]
  },
  {
   "cell_type": "code",
   "execution_count": 280,
   "id": "021de0a1-0ea7-4417-ac68-9a7c5fb1a475",
   "metadata": {},
   "outputs": [],
   "source": [
    "y = xarr[np.where(xarr[:, 0] <= mean_col_1)]"
   ]
  },
  {
   "cell_type": "code",
   "execution_count": 285,
   "id": "2236873c-d2a6-48a7-99e9-a4f547aa8d3a",
   "metadata": {},
   "outputs": [
    {
     "data": {
      "text/plain": [
       "(70, 4)"
      ]
     },
     "execution_count": 285,
     "metadata": {},
     "output_type": "execute_result"
    }
   ],
   "source": [
    "x.shape"
   ]
  },
  {
   "cell_type": "code",
   "execution_count": 286,
   "id": "a69a97e3-b822-460f-a44b-3920858b804a",
   "metadata": {},
   "outputs": [
    {
     "data": {
      "text/plain": [
       "(80, 4)"
      ]
     },
     "execution_count": 286,
     "metadata": {},
     "output_type": "execute_result"
    }
   ],
   "source": [
    "y.shape"
   ]
  },
  {
   "cell_type": "code",
   "execution_count": 287,
   "id": "773c66a9-7a84-4048-9c07-b60965d79f23",
   "metadata": {},
   "outputs": [
    {
     "data": {
      "text/plain": [
       "5.9"
      ]
     },
     "execution_count": 287,
     "metadata": {},
     "output_type": "execute_result"
    }
   ],
   "source": [
    "x[:, 0].min()"
   ]
  },
  {
   "cell_type": "code",
   "execution_count": 288,
   "id": "8ab4651c-c9ae-4462-875b-888d12fa2d6b",
   "metadata": {},
   "outputs": [
    {
     "data": {
      "text/plain": [
       "(70, 4)"
      ]
     },
     "execution_count": 288,
     "metadata": {},
     "output_type": "execute_result"
    }
   ],
   "source": [
    "x.shape"
   ]
  },
  {
   "cell_type": "code",
   "execution_count": 289,
   "id": "0cfcf62e-8b94-49a4-8349-5dc6cf1a6f65",
   "metadata": {},
   "outputs": [
    {
     "data": {
      "text/plain": [
       "4.3"
      ]
     },
     "execution_count": 289,
     "metadata": {},
     "output_type": "execute_result"
    }
   ],
   "source": [
    "y[:, 0].min()"
   ]
  },
  {
   "cell_type": "code",
   "execution_count": 290,
   "id": "a22e2f3c-2bf4-4324-95c2-b7ce5a6c6b2f",
   "metadata": {},
   "outputs": [
    {
     "data": {
      "text/plain": [
       "(80, 4)"
      ]
     },
     "execution_count": 290,
     "metadata": {},
     "output_type": "execute_result"
    }
   ],
   "source": [
    "y.shape"
   ]
  },
  {
   "cell_type": "code",
   "execution_count": 291,
   "id": "730b20e4-799a-4e1d-9f68-24e23bab88be",
   "metadata": {},
   "outputs": [],
   "source": [
    "np.savez('my_iris.npz', x=x, y=y)"
   ]
  },
  {
   "cell_type": "code",
   "execution_count": 293,
   "id": "5aaa3ba0-f722-412e-b908-ac04f1e0daeb",
   "metadata": {},
   "outputs": [],
   "source": [
    "my_iris = np.load('my_iris.npz')"
   ]
  },
  {
   "cell_type": "code",
   "execution_count": 294,
   "id": "6743cc7f-b553-415d-ba5d-a22cd32e4b05",
   "metadata": {},
   "outputs": [
    {
     "data": {
      "text/plain": [
       "numpy.lib.npyio.NpzFile"
      ]
     },
     "execution_count": 294,
     "metadata": {},
     "output_type": "execute_result"
    }
   ],
   "source": [
    "type(my_iris)"
   ]
  },
  {
   "cell_type": "code",
   "execution_count": 295,
   "id": "715693fd-a4f4-4333-b142-90cb3102281a",
   "metadata": {},
   "outputs": [],
   "source": [
    "x = my_iris['x']"
   ]
  },
  {
   "cell_type": "code",
   "execution_count": 296,
   "id": "b9c9fc7c-2898-4b1f-80c4-5d395f64ae6e",
   "metadata": {},
   "outputs": [
    {
     "data": {
      "text/plain": [
       "numpy.ndarray"
      ]
     },
     "execution_count": 296,
     "metadata": {},
     "output_type": "execute_result"
    }
   ],
   "source": [
    "type(x)"
   ]
  },
  {
   "cell_type": "code",
   "execution_count": 297,
   "id": "3586ca52-10ab-4ebc-a511-f96dacc01b04",
   "metadata": {},
   "outputs": [
    {
     "data": {
      "text/plain": [
       "(70, 4)"
      ]
     },
     "execution_count": 297,
     "metadata": {},
     "output_type": "execute_result"
    }
   ],
   "source": [
    "x.shape"
   ]
  },
  {
   "cell_type": "code",
   "execution_count": 299,
   "id": "9eb23583-2188-4c33-8c18-54d19cf3c2e4",
   "metadata": {},
   "outputs": [],
   "source": [
    "y = my_iris['y']"
   ]
  },
  {
   "cell_type": "code",
   "execution_count": 300,
   "id": "f418e4b5-bb39-4c64-8c8b-591fe3481e81",
   "metadata": {},
   "outputs": [
    {
     "data": {
      "text/plain": [
       "numpy.ndarray"
      ]
     },
     "execution_count": 300,
     "metadata": {},
     "output_type": "execute_result"
    }
   ],
   "source": [
    "type(y)"
   ]
  },
  {
   "cell_type": "code",
   "execution_count": 301,
   "id": "4cedaedc-4256-45ca-ae84-c97d60dea04d",
   "metadata": {},
   "outputs": [
    {
     "data": {
      "text/plain": [
       "(80, 4)"
      ]
     },
     "execution_count": 301,
     "metadata": {},
     "output_type": "execute_result"
    }
   ],
   "source": [
    "y.shape"
   ]
  },
  {
   "cell_type": "code",
   "execution_count": null,
   "id": "fe72ec70-df8b-4649-a552-486da1e08ea7",
   "metadata": {},
   "outputs": [],
   "source": []
  }
 ],
 "metadata": {
  "kernelspec": {
   "display_name": "myml",
   "language": "python",
   "name": "myml"
  },
  "language_info": {
   "codemirror_mode": {
    "name": "ipython",
    "version": 3
   },
   "file_extension": ".py",
   "mimetype": "text/x-python",
   "name": "python",
   "nbconvert_exporter": "python",
   "pygments_lexer": "ipython3",
   "version": "3.8.0"
  }
 },
 "nbformat": 4,
 "nbformat_minor": 5
}
