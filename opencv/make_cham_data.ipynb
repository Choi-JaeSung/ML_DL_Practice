{
 "cells": [
  {
   "cell_type": "code",
   "execution_count": 37,
   "metadata": {},
   "outputs": [],
   "source": [
    "import numpy as np\n",
    "import pandas as pd\n",
    "from glob import glob"
   ]
  },
  {
   "cell_type": "code",
   "execution_count": 38,
   "metadata": {},
   "outputs": [],
   "source": [
    "left_img_list = glob('./data/cham_cham_cham/data/left/*.npz')\n",
    "stop_img_list = glob('./data/cham_cham_cham/data/stop/*.npz')\n",
    "right_img_list = glob('./data/cham_cham_cham/data/right/*.npz')"
   ]
  },
  {
   "cell_type": "code",
   "execution_count": 39,
   "metadata": {},
   "outputs": [],
   "source": [
    "left_imgs = []\n",
    "stop_imgs = []\n",
    "right_imgs = []"
   ]
  },
  {
   "cell_type": "code",
   "execution_count": 40,
   "metadata": {},
   "outputs": [],
   "source": [
    "AIXS_CNT = 478\n",
    "TIME_STAMP = 20\n",
    "FEATURE = 3"
   ]
  },
  {
   "cell_type": "code",
   "execution_count": 30,
   "metadata": {},
   "outputs": [
    {
     "name": "stdout",
     "output_type": "stream",
     "text": [
      "(20, 478, 3)\n",
      "(20, 478, 3)\n",
      "(20, 478, 3)\n",
      "(20, 478, 3)\n",
      "(20, 478, 3)\n",
      "(20, 478, 3)\n",
      "(20, 478, 3)\n",
      "(20, 478, 3)\n",
      "(20, 478, 3)\n",
      "(20, 478, 3)\n",
      "(20, 478, 3)\n",
      "(20, 478, 3)\n",
      "(20, 478, 3)\n",
      "(20, 478, 3)\n",
      "(20, 478, 3)\n",
      "(20, 478, 3)\n",
      "(20, 478, 3)\n",
      "(20, 478, 3)\n",
      "(20, 478, 3)\n",
      "(20, 478, 3)\n",
      "(20, 478, 3)\n",
      "(20, 478, 3)\n",
      "(20, 478, 3)\n",
      "(20, 478, 3)\n",
      "(20, 478, 3)\n",
      "(20, 478, 3)\n",
      "(20, 478, 3)\n",
      "(20, 478, 3)\n",
      "(20, 478, 3)\n",
      "(20, 478, 3)\n",
      "(20, 478, 3)\n",
      "(20, 478, 3)\n",
      "(20, 478, 3)\n",
      "(20, 478, 3)\n",
      "(20, 478, 3)\n",
      "(20, 478, 3)\n",
      "(20, 478, 3)\n",
      "(20, 478, 3)\n",
      "(20, 478, 3)\n",
      "(20, 478, 3)\n",
      "(20, 478, 3)\n",
      "(20, 478, 3)\n",
      "(20, 478, 3)\n",
      "(20, 478, 3)\n",
      "(20, 478, 3)\n",
      "(20, 478, 3)\n",
      "(20, 478, 3)\n",
      "(20, 478, 3)\n",
      "(20, 478, 3)\n",
      "(20, 478, 3)\n",
      "(20, 478, 3)\n",
      "(20, 478, 3)\n",
      "(20, 478, 3)\n",
      "(20, 478, 3)\n",
      "(20, 478, 3)\n",
      "(20, 478, 3)\n",
      "(20, 478, 3)\n",
      "(20, 478, 3)\n",
      "(20, 478, 3)\n",
      "(20, 478, 3)\n",
      "(20, 478, 3)\n",
      "(20, 478, 3)\n",
      "(20, 478, 3)\n",
      "(20, 478, 3)\n",
      "(20, 478, 3)\n",
      "(20, 478, 3)\n",
      "(20, 478, 3)\n",
      "(20, 478, 3)\n",
      "(20, 478, 3)\n",
      "(20, 478, 3)\n",
      "(20, 478, 3)\n",
      "(20, 478, 3)\n",
      "(20, 478, 3)\n",
      "(20, 478, 3)\n",
      "(20, 478, 3)\n",
      "(20, 478, 3)\n",
      "(20, 478, 3)\n",
      "(19, 478, 3)\n",
      "(20, 478, 3)\n",
      "(20, 478, 3)\n",
      "(20, 478, 3)\n",
      "(20, 478, 3)\n",
      "(20, 478, 3)\n",
      "(20, 478, 3)\n",
      "(20, 478, 3)\n",
      "(20, 478, 3)\n",
      "(20, 478, 3)\n",
      "(20, 478, 3)\n"
     ]
    }
   ],
   "source": [
    "np.load(stop_img_list[0])['image'].shape\n",
    "\n",
    "for stop_img in stop_img_list:\n",
    "    print(np.load(stop_img)['image'].shape)"
   ]
  },
  {
   "cell_type": "code",
   "execution_count": 41,
   "metadata": {},
   "outputs": [],
   "source": [
    "for left_img in left_img_list:\n",
    "    img_l = np.load(left_img)['image']\n",
    "    img_l = img_l.reshape(AIXS_CNT * TIME_STAMP, FEATURE)\n",
    "    left_imgs.append(img_l)\n",
    "    "
   ]
  },
  {
   "cell_type": "code",
   "execution_count": 45,
   "metadata": {},
   "outputs": [
    {
     "data": {
      "text/plain": [
       "(30, 9560, 3)"
      ]
     },
     "execution_count": 45,
     "metadata": {},
     "output_type": "execute_result"
    }
   ],
   "source": [
    "l = np.array(left_imgs)\n",
    "l.shape"
   ]
  },
  {
   "cell_type": "code",
   "execution_count": 47,
   "metadata": {},
   "outputs": [
    {
     "ename": "ValueError",
     "evalue": "cannot reshape array of size 27246 into shape (9560,3)",
     "output_type": "error",
     "traceback": [
      "\u001b[1;31m---------------------------------------------------------------------------\u001b[0m",
      "\u001b[1;31mValueError\u001b[0m                                Traceback (most recent call last)",
      "\u001b[1;32m~\\AppData\\Local\\Temp\\ipykernel_8844\\3442541872.py\u001b[0m in \u001b[0;36m<module>\u001b[1;34m\u001b[0m\n\u001b[0;32m      1\u001b[0m \u001b[1;32mfor\u001b[0m \u001b[0mstop_img\u001b[0m \u001b[1;32min\u001b[0m \u001b[0mstop_img_list\u001b[0m\u001b[1;33m:\u001b[0m\u001b[1;33m\u001b[0m\u001b[1;33m\u001b[0m\u001b[0m\n\u001b[0;32m      2\u001b[0m     \u001b[0mimg_s\u001b[0m \u001b[1;33m=\u001b[0m \u001b[0mnp\u001b[0m\u001b[1;33m.\u001b[0m\u001b[0mload\u001b[0m\u001b[1;33m(\u001b[0m\u001b[0mstop_img\u001b[0m\u001b[1;33m)\u001b[0m\u001b[1;33m[\u001b[0m\u001b[1;34m'image'\u001b[0m\u001b[1;33m]\u001b[0m\u001b[1;33m\u001b[0m\u001b[1;33m\u001b[0m\u001b[0m\n\u001b[1;32m----> 3\u001b[1;33m     \u001b[0mimg_s\u001b[0m \u001b[1;33m=\u001b[0m \u001b[0mimg_s\u001b[0m\u001b[1;33m.\u001b[0m\u001b[0mreshape\u001b[0m\u001b[1;33m(\u001b[0m\u001b[0mAIXS_CNT\u001b[0m \u001b[1;33m*\u001b[0m \u001b[0mTIME_STAMP\u001b[0m\u001b[1;33m,\u001b[0m \u001b[0mFEATURE\u001b[0m\u001b[1;33m)\u001b[0m\u001b[1;33m\u001b[0m\u001b[1;33m\u001b[0m\u001b[0m\n\u001b[0m\u001b[0;32m      4\u001b[0m     \u001b[0mstop_imgs\u001b[0m\u001b[1;33m.\u001b[0m\u001b[0mappend\u001b[0m\u001b[1;33m(\u001b[0m\u001b[0mimg_s\u001b[0m\u001b[1;33m)\u001b[0m\u001b[1;33m\u001b[0m\u001b[1;33m\u001b[0m\u001b[0m\n",
      "\u001b[1;31mValueError\u001b[0m: cannot reshape array of size 27246 into shape (9560,3)"
     ]
    }
   ],
   "source": [
    "for stop_img in stop_img_list:\n",
    "    img_s = np.load(stop_img)['image']\n",
    "    img_s = img_s.reshape(AIXS_CNT * TIME_STAMP, FEATURE)\n",
    "    stop_imgs.append(img_s)"
   ]
  },
  {
   "cell_type": "code",
   "execution_count": 43,
   "metadata": {},
   "outputs": [],
   "source": [
    "for right_img in right_img_list:\n",
    "    img_r = np.load(right_img)['image']\n",
    "    img_r = img_r.reshape(AIXS_CNT * TIME_STAMP, FEATURE)\n",
    "    right_imgs.append(img_r)"
   ]
  },
  {
   "cell_type": "code",
   "execution_count": 25,
   "metadata": {},
   "outputs": [
    {
     "data": {
      "text/plain": [
       "array([[ 0.57659924,  0.65339649, -0.03830963],\n",
       "       [ 0.59135759,  0.60426122, -0.06795208],\n",
       "       [ 0.58812547,  0.62088883, -0.03831905],\n",
       "       ...,\n",
       "       [ 0.74522978,  0.49451759,  0.07244336],\n",
       "       [ 0.74182206,  0.50348598,  0.07244336],\n",
       "       [ 0.74715906,  0.51254189,  0.07244336]])"
      ]
     },
     "execution_count": 25,
     "metadata": {},
     "output_type": "execute_result"
    }
   ],
   "source": [
    "left_imgs = np.array(left_imgs)\n",
    "\n",
    "left_imgs = left_imgs.reshape(30 * 9560, 3)\n",
    "\n",
    "left_imgs"
   ]
  },
  {
   "cell_type": "code",
   "execution_count": null,
   "metadata": {},
   "outputs": [],
   "source": []
  }
 ],
 "metadata": {
  "kernelspec": {
   "display_name": "Python 3.7.13 ('sk')",
   "language": "python",
   "name": "python3"
  },
  "language_info": {
   "codemirror_mode": {
    "name": "ipython",
    "version": 3
   },
   "file_extension": ".py",
   "mimetype": "text/x-python",
   "name": "python",
   "nbconvert_exporter": "python",
   "pygments_lexer": "ipython3",
   "version": "3.7.13"
  },
  "orig_nbformat": 4,
  "vscode": {
   "interpreter": {
    "hash": "f3f66485c0c86d2477596dd433b1e3a0159ebbfbbe4f63e3a9782497a57384fb"
   }
  }
 },
 "nbformat": 4,
 "nbformat_minor": 2
}
