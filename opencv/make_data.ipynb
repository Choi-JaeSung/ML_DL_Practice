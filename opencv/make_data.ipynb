{
 "cells": [
  {
   "cell_type": "code",
   "execution_count": 107,
   "metadata": {},
   "outputs": [],
   "source": [
    "import numpy as np\n",
    "import pandas as pd\n",
    "import os\n",
    "import cv2"
   ]
  },
  {
   "cell_type": "code",
   "execution_count": 108,
   "metadata": {},
   "outputs": [],
   "source": [
    "mask = []\n",
    "mask_no = []\n"
   ]
  },
  {
   "cell_type": "code",
   "execution_count": 109,
   "metadata": {},
   "outputs": [],
   "source": [
    "for i in range(200):\n",
    "    mask.append(cv2.cvtColor(cv2.resize(cv2.imread(f'./data/mask/mask_{i}.jpg'), (128, 128)), cv2.COLOR_BGR2RGB))\n",
    "    mask_no.append(cv2.cvtColor(cv2.resize(cv2.imread(f'./data/no_mask/no_mask_{i}.jpg'), (128, 128)), cv2.COLOR_BGR2RGB))"
   ]
  },
  {
   "cell_type": "code",
   "execution_count": 110,
   "metadata": {},
   "outputs": [
    {
     "data": {
      "text/plain": [
       "(128, 128, 3)"
      ]
     },
     "execution_count": 110,
     "metadata": {},
     "output_type": "execute_result"
    }
   ],
   "source": [
    "img = cv2.resize(cv2.imread('./data/mask/mask_0.jpg'), (128, 128))\n",
    "\n",
    "img.shape"
   ]
  },
  {
   "cell_type": "code",
   "execution_count": 111,
   "metadata": {},
   "outputs": [],
   "source": [
    "label_mask = []\n",
    "label_mask_no = []"
   ]
  },
  {
   "cell_type": "code",
   "execution_count": 112,
   "metadata": {},
   "outputs": [],
   "source": [
    "for i in range(len(mask)):\n",
    "    label_mask.append(0)\n",
    "    label_mask_no.append(1)"
   ]
  },
  {
   "cell_type": "code",
   "execution_count": 113,
   "metadata": {},
   "outputs": [],
   "source": [
    "mask = np.array(mask, dtype=np.uint)\n",
    "mask_no = np.array(mask_no, dtype=np.uint)\n",
    "\n",
    "label_mask = np.array(label_mask)\n",
    "label_mask_no = np.array(label_mask_no)"
   ]
  },
  {
   "cell_type": "code",
   "execution_count": 114,
   "metadata": {},
   "outputs": [],
   "source": [
    "dataset = []"
   ]
  },
  {
   "cell_type": "code",
   "execution_count": 115,
   "metadata": {},
   "outputs": [],
   "source": [
    "for i in range(len(mask)):\n",
    "    dataset.append([mask[i], label_mask[i]])"
   ]
  },
  {
   "cell_type": "code",
   "execution_count": 116,
   "metadata": {},
   "outputs": [],
   "source": [
    "for i in range(len(mask_no)):\n",
    "    dataset.append([mask_no[i], label_mask_no[i]])"
   ]
  },
  {
   "cell_type": "code",
   "execution_count": 117,
   "metadata": {},
   "outputs": [
    {
     "name": "stderr",
     "output_type": "stream",
     "text": [
      "c:\\Users\\USER\\anaconda3\\envs\\sk\\lib\\site-packages\\ipykernel_launcher.py:1: VisibleDeprecationWarning: Creating an ndarray from ragged nested sequences (which is a list-or-tuple of lists-or-tuples-or ndarrays with different lengths or shapes) is deprecated. If you meant to do this, you must specify 'dtype=object' when creating the ndarray.\n",
      "  \"\"\"Entry point for launching an IPython kernel.\n"
     ]
    }
   ],
   "source": [
    "dataset = np.array(dataset)"
   ]
  },
  {
   "cell_type": "code",
   "execution_count": 118,
   "metadata": {},
   "outputs": [
    {
     "data": {
      "text/plain": [
       "(400, 2)"
      ]
     },
     "execution_count": 118,
     "metadata": {},
     "output_type": "execute_result"
    }
   ],
   "source": [
    "dataset.shape"
   ]
  },
  {
   "cell_type": "code",
   "execution_count": 119,
   "metadata": {},
   "outputs": [
    {
     "data": {
      "text/html": [
       "<div>\n",
       "<style scoped>\n",
       "    .dataframe tbody tr th:only-of-type {\n",
       "        vertical-align: middle;\n",
       "    }\n",
       "\n",
       "    .dataframe tbody tr th {\n",
       "        vertical-align: top;\n",
       "    }\n",
       "\n",
       "    .dataframe thead th {\n",
       "        text-align: right;\n",
       "    }\n",
       "</style>\n",
       "<table border=\"1\" class=\"dataframe\">\n",
       "  <thead>\n",
       "    <tr style=\"text-align: right;\">\n",
       "      <th></th>\n",
       "      <th>img</th>\n",
       "      <th>label</th>\n",
       "    </tr>\n",
       "  </thead>\n",
       "  <tbody>\n",
       "    <tr>\n",
       "      <th>0</th>\n",
       "      <td>[[[129, 121, 124], [131, 123, 120], [136, 128,...</td>\n",
       "      <td>0</td>\n",
       "    </tr>\n",
       "    <tr>\n",
       "      <th>1</th>\n",
       "      <td>[[[132, 122, 121], [128, 119, 113], [127, 120,...</td>\n",
       "      <td>0</td>\n",
       "    </tr>\n",
       "    <tr>\n",
       "      <th>2</th>\n",
       "      <td>[[[134, 125, 118], [136, 126, 116], [134, 121,...</td>\n",
       "      <td>0</td>\n",
       "    </tr>\n",
       "    <tr>\n",
       "      <th>3</th>\n",
       "      <td>[[[136, 123, 117], [136, 127, 113], [129, 122,...</td>\n",
       "      <td>0</td>\n",
       "    </tr>\n",
       "    <tr>\n",
       "      <th>4</th>\n",
       "      <td>[[[132, 122, 120], [142, 126, 126], [126, 125,...</td>\n",
       "      <td>0</td>\n",
       "    </tr>\n",
       "    <tr>\n",
       "      <th>...</th>\n",
       "      <td>...</td>\n",
       "      <td>...</td>\n",
       "    </tr>\n",
       "    <tr>\n",
       "      <th>395</th>\n",
       "      <td>[[[141, 132, 133], [137, 134, 118], [129, 132,...</td>\n",
       "      <td>1</td>\n",
       "    </tr>\n",
       "    <tr>\n",
       "      <th>396</th>\n",
       "      <td>[[[131, 129, 108], [137, 136, 113], [140, 134,...</td>\n",
       "      <td>1</td>\n",
       "    </tr>\n",
       "    <tr>\n",
       "      <th>397</th>\n",
       "      <td>[[[143, 132, 132], [143, 131, 125], [138, 132,...</td>\n",
       "      <td>1</td>\n",
       "    </tr>\n",
       "    <tr>\n",
       "      <th>398</th>\n",
       "      <td>[[[133, 129, 126], [135, 130, 127], [140, 131,...</td>\n",
       "      <td>1</td>\n",
       "    </tr>\n",
       "    <tr>\n",
       "      <th>399</th>\n",
       "      <td>[[[136, 127, 120], [135, 129, 117], [135, 130,...</td>\n",
       "      <td>1</td>\n",
       "    </tr>\n",
       "  </tbody>\n",
       "</table>\n",
       "<p>400 rows × 2 columns</p>\n",
       "</div>"
      ],
      "text/plain": [
       "                                                   img label\n",
       "0    [[[129, 121, 124], [131, 123, 120], [136, 128,...     0\n",
       "1    [[[132, 122, 121], [128, 119, 113], [127, 120,...     0\n",
       "2    [[[134, 125, 118], [136, 126, 116], [134, 121,...     0\n",
       "3    [[[136, 123, 117], [136, 127, 113], [129, 122,...     0\n",
       "4    [[[132, 122, 120], [142, 126, 126], [126, 125,...     0\n",
       "..                                                 ...   ...\n",
       "395  [[[141, 132, 133], [137, 134, 118], [129, 132,...     1\n",
       "396  [[[131, 129, 108], [137, 136, 113], [140, 134,...     1\n",
       "397  [[[143, 132, 132], [143, 131, 125], [138, 132,...     1\n",
       "398  [[[133, 129, 126], [135, 130, 127], [140, 131,...     1\n",
       "399  [[[136, 127, 120], [135, 129, 117], [135, 130,...     1\n",
       "\n",
       "[400 rows x 2 columns]"
      ]
     },
     "execution_count": 119,
     "metadata": {},
     "output_type": "execute_result"
    }
   ],
   "source": [
    "dataset = pd.DataFrame(dataset, columns=['img', 'label'])\n",
    "\n",
    "dataset"
   ]
  },
  {
   "cell_type": "code",
   "execution_count": 120,
   "metadata": {},
   "outputs": [],
   "source": [
    "dataset.to_csv('./data/dataset.csv', index=False)"
   ]
  },
  {
   "cell_type": "code",
   "execution_count": 121,
   "metadata": {},
   "outputs": [
    {
     "data": {
      "text/html": [
       "<div>\n",
       "<style scoped>\n",
       "    .dataframe tbody tr th:only-of-type {\n",
       "        vertical-align: middle;\n",
       "    }\n",
       "\n",
       "    .dataframe tbody tr th {\n",
       "        vertical-align: top;\n",
       "    }\n",
       "\n",
       "    .dataframe thead th {\n",
       "        text-align: right;\n",
       "    }\n",
       "</style>\n",
       "<table border=\"1\" class=\"dataframe\">\n",
       "  <thead>\n",
       "    <tr style=\"text-align: right;\">\n",
       "      <th></th>\n",
       "      <th>img</th>\n",
       "      <th>label</th>\n",
       "    </tr>\n",
       "  </thead>\n",
       "  <tbody>\n",
       "    <tr>\n",
       "      <th>0</th>\n",
       "      <td>[[[129 121 124]\\n  [131 123 120]\\n  [136 128 1...</td>\n",
       "      <td>0</td>\n",
       "    </tr>\n",
       "    <tr>\n",
       "      <th>1</th>\n",
       "      <td>[[[132 122 121]\\n  [128 119 113]\\n  [127 120 1...</td>\n",
       "      <td>0</td>\n",
       "    </tr>\n",
       "    <tr>\n",
       "      <th>2</th>\n",
       "      <td>[[[134 125 118]\\n  [136 126 116]\\n  [134 121 1...</td>\n",
       "      <td>0</td>\n",
       "    </tr>\n",
       "    <tr>\n",
       "      <th>3</th>\n",
       "      <td>[[[136 123 117]\\n  [136 127 113]\\n  [129 122 1...</td>\n",
       "      <td>0</td>\n",
       "    </tr>\n",
       "    <tr>\n",
       "      <th>4</th>\n",
       "      <td>[[[132 122 120]\\n  [142 126 126]\\n  [126 125 1...</td>\n",
       "      <td>0</td>\n",
       "    </tr>\n",
       "    <tr>\n",
       "      <th>...</th>\n",
       "      <td>...</td>\n",
       "      <td>...</td>\n",
       "    </tr>\n",
       "    <tr>\n",
       "      <th>395</th>\n",
       "      <td>[[[141 132 133]\\n  [137 134 118]\\n  [129 132 1...</td>\n",
       "      <td>1</td>\n",
       "    </tr>\n",
       "    <tr>\n",
       "      <th>396</th>\n",
       "      <td>[[[131 129 108]\\n  [137 136 113]\\n  [140 134 1...</td>\n",
       "      <td>1</td>\n",
       "    </tr>\n",
       "    <tr>\n",
       "      <th>397</th>\n",
       "      <td>[[[143 132 132]\\n  [143 131 125]\\n  [138 132 1...</td>\n",
       "      <td>1</td>\n",
       "    </tr>\n",
       "    <tr>\n",
       "      <th>398</th>\n",
       "      <td>[[[133 129 126]\\n  [135 130 127]\\n  [140 131 1...</td>\n",
       "      <td>1</td>\n",
       "    </tr>\n",
       "    <tr>\n",
       "      <th>399</th>\n",
       "      <td>[[[136 127 120]\\n  [135 129 117]\\n  [135 130 1...</td>\n",
       "      <td>1</td>\n",
       "    </tr>\n",
       "  </tbody>\n",
       "</table>\n",
       "<p>400 rows × 2 columns</p>\n",
       "</div>"
      ],
      "text/plain": [
       "                                                   img  label\n",
       "0    [[[129 121 124]\\n  [131 123 120]\\n  [136 128 1...      0\n",
       "1    [[[132 122 121]\\n  [128 119 113]\\n  [127 120 1...      0\n",
       "2    [[[134 125 118]\\n  [136 126 116]\\n  [134 121 1...      0\n",
       "3    [[[136 123 117]\\n  [136 127 113]\\n  [129 122 1...      0\n",
       "4    [[[132 122 120]\\n  [142 126 126]\\n  [126 125 1...      0\n",
       "..                                                 ...    ...\n",
       "395  [[[141 132 133]\\n  [137 134 118]\\n  [129 132 1...      1\n",
       "396  [[[131 129 108]\\n  [137 136 113]\\n  [140 134 1...      1\n",
       "397  [[[143 132 132]\\n  [143 131 125]\\n  [138 132 1...      1\n",
       "398  [[[133 129 126]\\n  [135 130 127]\\n  [140 131 1...      1\n",
       "399  [[[136 127 120]\\n  [135 129 117]\\n  [135 130 1...      1\n",
       "\n",
       "[400 rows x 2 columns]"
      ]
     },
     "execution_count": 121,
     "metadata": {},
     "output_type": "execute_result"
    }
   ],
   "source": [
    "d = pd.read_csv('./data/dataset.csv')\n",
    "\n",
    "d"
   ]
  },
  {
   "cell_type": "code",
   "execution_count": null,
   "metadata": {},
   "outputs": [],
   "source": []
  }
 ],
 "metadata": {
  "kernelspec": {
   "display_name": "Python 3.7.13 ('sk')",
   "language": "python",
   "name": "python3"
  },
  "language_info": {
   "codemirror_mode": {
    "name": "ipython",
    "version": 3
   },
   "file_extension": ".py",
   "mimetype": "text/x-python",
   "name": "python",
   "nbconvert_exporter": "python",
   "pygments_lexer": "ipython3",
   "version": "3.7.13"
  },
  "orig_nbformat": 4,
  "vscode": {
   "interpreter": {
    "hash": "f3f66485c0c86d2477596dd433b1e3a0159ebbfbbe4f63e3a9782497a57384fb"
   }
  }
 },
 "nbformat": 4,
 "nbformat_minor": 2
}
